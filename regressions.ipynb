{
 "cells": [
  {
   "cell_type": "code",
   "execution_count": 1,
   "metadata": {
    "collapsed": true,
    "pycharm": {
     "name": "#%%\n"
    }
   },
   "outputs": [
    {
     "name": "stdout",
     "output_type": "stream",
     "text": [
      "<class 'pandas.core.frame.DataFrame'>\n",
      "RangeIndex: 773743 entries, 0 to 773742\n",
      "Data columns (total 20 columns):\n",
      " #   Column                Non-Null Count   Dtype  \n",
      "---  ------                --------------   -----  \n",
      " 0   id                    773743 non-null  int64  \n",
      " 1   title                 773739 non-null  object \n",
      " 2   genres                544554 non-null  object \n",
      " 3   original_language     773743 non-null  object \n",
      " 4   overview              647617 non-null  object \n",
      " 5   popularity            773743 non-null  float64\n",
      " 6   production_companies  360920 non-null  object \n",
      " 7   release_date          711558 non-null  object \n",
      " 8   budget                773743 non-null  float64\n",
      " 9   revenue               773743 non-null  float64\n",
      " 10  runtime               732454 non-null  float64\n",
      " 11  status                773743 non-null  object \n",
      " 12  tagline               115157 non-null  object \n",
      " 13  vote_average          773743 non-null  float64\n",
      " 14  vote_count            773743 non-null  float64\n",
      " 15  credits               536838 non-null  object \n",
      " 16  keywords              225287 non-null  object \n",
      " 17  poster_path           563584 non-null  object \n",
      " 18  backdrop_path         237091 non-null  object \n",
      " 19  recommendations       49491 non-null   object \n",
      "dtypes: float64(6), int64(1), object(13)\n",
      "memory usage: 118.1+ MB\n"
     ]
    }
   ],
   "source": [
    "import pandas as pd\n",
    "import numpy as np\n",
    "\n",
    "moviesOriginal = pd.read_csv(\"../movies.csv/movies.csv\")\n",
    "\n",
    "moviesOriginal.info()"
   ]
  },
  {
   "cell_type": "code",
   "execution_count": 2,
   "outputs": [
    {
     "name": "stdout",
     "output_type": "stream",
     "text": [
      "<class 'pandas.core.frame.DataFrame'>\n",
      "RangeIndex: 773743 entries, 0 to 773742\n",
      "Data columns (total 11 columns):\n",
      " #   Column                Non-Null Count   Dtype  \n",
      "---  ------                --------------   -----  \n",
      " 0   id                    773743 non-null  int64  \n",
      " 1   title                 773739 non-null  object \n",
      " 2   genres                544554 non-null  object \n",
      " 3   original_language     773743 non-null  object \n",
      " 4   production_companies  360920 non-null  object \n",
      " 5   release_date          711558 non-null  object \n",
      " 6   budget                773743 non-null  float64\n",
      " 7   revenue               773743 non-null  float64\n",
      " 8   runtime               732454 non-null  float64\n",
      " 9   vote_average          773743 non-null  float64\n",
      " 10  vote_count            773743 non-null  float64\n",
      "dtypes: float64(5), int64(1), object(5)\n",
      "memory usage: 64.9+ MB\n"
     ]
    },
    {
     "data": {
      "text/plain": "       id                                        title  \\\n0  338953  Fantastic Beasts: The Secrets of Dumbledore   \n1  526896                                      Morbius   \n2  675353                         Sonic the Hedgehog 2   \n3  752623                                The Lost City   \n4  818397                                       Memory   \n\n                            genres original_language  \\\n0         Fantasy-Adventure-Action                en   \n1   Action-Science Fiction-Fantasy                en   \n2   Action-Adventure-Family-Comedy                en   \n3  Action-Adventure-Comedy-Romance                en   \n4            Action-Thriller-Crime                en   \n\n                                production_companies release_date  \\\n0                 Warner Bros. Pictures-Heyday Films   2022-04-06   \n1  Columbia Pictures-Avi Arad Productions-Matt To...   2022-03-30   \n2  Original Film-Blur Studio-Marza Animation Plan...   2022-03-30   \n3  Paramount-Fortis Films-3dot Productions-Exhibi...   2022-03-24   \n4  Black Bear Pictures-Welle Entertainment-Savill...   2022-04-28   \n\n        budget      revenue  runtime  vote_average  vote_count  \n0  200000000.0  380000000.0    142.0           6.8      1410.0  \n1   75000000.0  161000000.0    105.0           6.4      1424.0  \n2  110000000.0  375000000.0    122.0           7.7      1849.0  \n3   74000000.0  164289828.0    112.0           6.8       959.0  \n4          0.0    8597928.0    114.0           7.3       200.0  ",
      "text/html": "<div>\n<style scoped>\n    .dataframe tbody tr th:only-of-type {\n        vertical-align: middle;\n    }\n\n    .dataframe tbody tr th {\n        vertical-align: top;\n    }\n\n    .dataframe thead th {\n        text-align: right;\n    }\n</style>\n<table border=\"1\" class=\"dataframe\">\n  <thead>\n    <tr style=\"text-align: right;\">\n      <th></th>\n      <th>id</th>\n      <th>title</th>\n      <th>genres</th>\n      <th>original_language</th>\n      <th>production_companies</th>\n      <th>release_date</th>\n      <th>budget</th>\n      <th>revenue</th>\n      <th>runtime</th>\n      <th>vote_average</th>\n      <th>vote_count</th>\n    </tr>\n  </thead>\n  <tbody>\n    <tr>\n      <th>0</th>\n      <td>338953</td>\n      <td>Fantastic Beasts: The Secrets of Dumbledore</td>\n      <td>Fantasy-Adventure-Action</td>\n      <td>en</td>\n      <td>Warner Bros. Pictures-Heyday Films</td>\n      <td>2022-04-06</td>\n      <td>200000000.0</td>\n      <td>380000000.0</td>\n      <td>142.0</td>\n      <td>6.8</td>\n      <td>1410.0</td>\n    </tr>\n    <tr>\n      <th>1</th>\n      <td>526896</td>\n      <td>Morbius</td>\n      <td>Action-Science Fiction-Fantasy</td>\n      <td>en</td>\n      <td>Columbia Pictures-Avi Arad Productions-Matt To...</td>\n      <td>2022-03-30</td>\n      <td>75000000.0</td>\n      <td>161000000.0</td>\n      <td>105.0</td>\n      <td>6.4</td>\n      <td>1424.0</td>\n    </tr>\n    <tr>\n      <th>2</th>\n      <td>675353</td>\n      <td>Sonic the Hedgehog 2</td>\n      <td>Action-Adventure-Family-Comedy</td>\n      <td>en</td>\n      <td>Original Film-Blur Studio-Marza Animation Plan...</td>\n      <td>2022-03-30</td>\n      <td>110000000.0</td>\n      <td>375000000.0</td>\n      <td>122.0</td>\n      <td>7.7</td>\n      <td>1849.0</td>\n    </tr>\n    <tr>\n      <th>3</th>\n      <td>752623</td>\n      <td>The Lost City</td>\n      <td>Action-Adventure-Comedy-Romance</td>\n      <td>en</td>\n      <td>Paramount-Fortis Films-3dot Productions-Exhibi...</td>\n      <td>2022-03-24</td>\n      <td>74000000.0</td>\n      <td>164289828.0</td>\n      <td>112.0</td>\n      <td>6.8</td>\n      <td>959.0</td>\n    </tr>\n    <tr>\n      <th>4</th>\n      <td>818397</td>\n      <td>Memory</td>\n      <td>Action-Thriller-Crime</td>\n      <td>en</td>\n      <td>Black Bear Pictures-Welle Entertainment-Savill...</td>\n      <td>2022-04-28</td>\n      <td>0.0</td>\n      <td>8597928.0</td>\n      <td>114.0</td>\n      <td>7.3</td>\n      <td>200.0</td>\n    </tr>\n  </tbody>\n</table>\n</div>"
     },
     "execution_count": 2,
     "metadata": {},
     "output_type": "execute_result"
    }
   ],
   "source": [
    "movies = moviesOriginal[['id', 'title', 'genres', 'original_language', 'production_companies', 'release_date', 'budget', 'revenue', 'runtime', 'vote_average', 'vote_count']]\n",
    "\n",
    "movies.info()\n",
    "movies.head()"
   ],
   "metadata": {
    "collapsed": false,
    "pycharm": {
     "name": "#%%\n"
    }
   }
  },
  {
   "cell_type": "markdown",
   "source": [
    "Перевіримо, чи має дата фрейм пропущені значення:"
   ],
   "metadata": {
    "collapsed": false,
    "pycharm": {
     "name": "#%% md\n"
    }
   }
  },
  {
   "cell_type": "code",
   "execution_count": 3,
   "outputs": [
    {
     "data": {
      "text/plain": "True"
     },
     "execution_count": 3,
     "metadata": {},
     "output_type": "execute_result"
    }
   ],
   "source": [
    "movies.isnull().values.any()"
   ],
   "metadata": {
    "collapsed": false,
    "pycharm": {
     "name": "#%%\n"
    }
   }
  },
  {
   "cell_type": "markdown",
   "source": [
    "Тепер перевіримо наявність від'ємних значень:"
   ],
   "metadata": {
    "collapsed": false,
    "pycharm": {
     "name": "#%% md\n"
    }
   }
  },
  {
   "cell_type": "code",
   "execution_count": 4,
   "outputs": [
    {
     "data": {
      "text/plain": "True"
     },
     "execution_count": 4,
     "metadata": {},
     "output_type": "execute_result"
    }
   ],
   "source": [
    "(movies.select_dtypes(include=np.number) < 0).values.any()"
   ],
   "metadata": {
    "collapsed": false,
    "pycharm": {
     "name": "#%%\n"
    }
   }
  },
  {
   "cell_type": "code",
   "execution_count": 5,
   "outputs": [
    {
     "data": {
      "text/plain": "Empty DataFrame\nColumns: [id, title, genres, original_language, production_companies, release_date, budget, revenue, runtime, vote_average, vote_count]\nIndex: []",
      "text/html": "<div>\n<style scoped>\n    .dataframe tbody tr th:only-of-type {\n        vertical-align: middle;\n    }\n\n    .dataframe tbody tr th {\n        vertical-align: top;\n    }\n\n    .dataframe thead th {\n        text-align: right;\n    }\n</style>\n<table border=\"1\" class=\"dataframe\">\n  <thead>\n    <tr style=\"text-align: right;\">\n      <th></th>\n      <th>id</th>\n      <th>title</th>\n      <th>genres</th>\n      <th>original_language</th>\n      <th>production_companies</th>\n      <th>release_date</th>\n      <th>budget</th>\n      <th>revenue</th>\n      <th>runtime</th>\n      <th>vote_average</th>\n      <th>vote_count</th>\n    </tr>\n  </thead>\n  <tbody>\n  </tbody>\n</table>\n</div>"
     },
     "execution_count": 5,
     "metadata": {},
     "output_type": "execute_result"
    }
   ],
   "source": [
    "movies[movies['budget'] < 0].head()"
   ],
   "metadata": {
    "collapsed": false,
    "pycharm": {
     "name": "#%%\n"
    }
   }
  },
  {
   "cell_type": "code",
   "execution_count": 6,
   "outputs": [
    {
     "data": {
      "text/plain": "           budget   runtime\nbudget   1.000000 -0.000048\nruntime -0.000048  1.000000",
      "text/html": "<div>\n<style scoped>\n    .dataframe tbody tr th:only-of-type {\n        vertical-align: middle;\n    }\n\n    .dataframe tbody tr th {\n        vertical-align: top;\n    }\n\n    .dataframe thead th {\n        text-align: right;\n    }\n</style>\n<table border=\"1\" class=\"dataframe\">\n  <thead>\n    <tr style=\"text-align: right;\">\n      <th></th>\n      <th>budget</th>\n      <th>runtime</th>\n    </tr>\n  </thead>\n  <tbody>\n    <tr>\n      <th>budget</th>\n      <td>1.000000</td>\n      <td>-0.000048</td>\n    </tr>\n    <tr>\n      <th>runtime</th>\n      <td>-0.000048</td>\n      <td>1.000000</td>\n    </tr>\n  </tbody>\n</table>\n</div>"
     },
     "execution_count": 6,
     "metadata": {},
     "output_type": "execute_result"
    }
   ],
   "source": [
    "movies[['budget', 'runtime']].corr()"
   ],
   "metadata": {
    "collapsed": false,
    "pycharm": {
     "name": "#%%\n"
    }
   }
  },
  {
   "cell_type": "code",
   "execution_count": 7,
   "outputs": [],
   "source": [
    "from sklearn.linear_model import LinearRegression\n",
    "from sklearn.model_selection import train_test_split"
   ],
   "metadata": {
    "collapsed": false,
    "pycharm": {
     "name": "#%%\n"
    }
   }
  },
  {
   "cell_type": "code",
   "execution_count": 8,
   "outputs": [],
   "source": [
    "movies = movies[movies['revenue'].notna()]"
   ],
   "metadata": {
    "collapsed": false,
    "pycharm": {
     "name": "#%%\n"
    }
   }
  },
  {
   "cell_type": "code",
   "execution_count": 9,
   "outputs": [],
   "source": [
    "numeric_columns = movies.select_dtypes(include=['number']).columns\n",
    "\n",
    "means = movies[numeric_columns].mean()\n",
    "\n",
    "movies[numeric_columns] = movies[numeric_columns].fillna(means)"
   ],
   "metadata": {
    "collapsed": false,
    "pycharm": {
     "name": "#%%\n"
    }
   }
  },
  {
   "cell_type": "code",
   "execution_count": 28,
   "outputs": [],
   "source": [
    "\n",
    "X = movies[['budget', 'runtime', 'vote_average', 'genres']]\n",
    "Y = movies[['revenue']]\n",
    "\n"
   ],
   "metadata": {
    "collapsed": false,
    "pycharm": {
     "name": "#%%\n"
    }
   }
  },
  {
   "cell_type": "code",
   "execution_count": 30,
   "outputs": [
    {
     "name": "stdout",
     "output_type": "stream",
     "text": [
      "<class 'pandas.core.frame.DataFrame'>\n",
      "Int64Index: 773743 entries, 0 to 773742\n",
      "Data columns (total 41 columns):\n",
      " #   Column                  Non-Null Count   Dtype  \n",
      "---  ------                  --------------   -----  \n",
      " 0   budget                  773743 non-null  float64\n",
      " 1   runtime                 773743 non-null  float64\n",
      " 2   vote_average            773743 non-null  float64\n",
      " 3   genres_Action           773743 non-null  int64  \n",
      " 4   genres_Adventure        773743 non-null  int64  \n",
      " 5   genres_Animation        773743 non-null  int64  \n",
      " 6   genres_Comedy           773743 non-null  int64  \n",
      " 7   genres_Crime            773743 non-null  int64  \n",
      " 8   genres_Documentary      773743 non-null  int64  \n",
      " 9   genres_Drama            773743 non-null  int64  \n",
      " 10  genres_Family           773743 non-null  int64  \n",
      " 11  genres_Fantasy          773743 non-null  int64  \n",
      " 12  genres_History          773743 non-null  int64  \n",
      " 13  genres_Horror           773743 non-null  int64  \n",
      " 14  genres_Music            773743 non-null  int64  \n",
      " 15  genres_Mystery          773743 non-null  int64  \n",
      " 16  genres_Romance          773743 non-null  int64  \n",
      " 17  genres_Science Fiction  773743 non-null  int64  \n",
      " 18  genres_TV Movie         773743 non-null  int64  \n",
      " 19  genres_Thriller         773743 non-null  int64  \n",
      " 20  genres_War              773743 non-null  int64  \n",
      " 21  genres_Western          773743 non-null  int64  \n",
      " 22  genres_Action           773743 non-null  int64  \n",
      " 23  genres_Adventure        773743 non-null  int64  \n",
      " 24  genres_Animation        773743 non-null  int64  \n",
      " 25  genres_Comedy           773743 non-null  int64  \n",
      " 26  genres_Crime            773743 non-null  int64  \n",
      " 27  genres_Documentary      773743 non-null  int64  \n",
      " 28  genres_Drama            773743 non-null  int64  \n",
      " 29  genres_Family           773743 non-null  int64  \n",
      " 30  genres_Fantasy          773743 non-null  int64  \n",
      " 31  genres_History          773743 non-null  int64  \n",
      " 32  genres_Horror           773743 non-null  int64  \n",
      " 33  genres_Music            773743 non-null  int64  \n",
      " 34  genres_Mystery          773743 non-null  int64  \n",
      " 35  genres_Romance          773743 non-null  int64  \n",
      " 36  genres_Science Fiction  773743 non-null  int64  \n",
      " 37  genres_TV Movie         773743 non-null  int64  \n",
      " 38  genres_Thriller         773743 non-null  int64  \n",
      " 39  genres_War              773743 non-null  int64  \n",
      " 40  genres_Western          773743 non-null  int64  \n",
      "dtypes: float64(3), int64(38)\n",
      "memory usage: 247.9 MB\n"
     ]
    },
    {
     "data": {
      "text/plain": "        budget  runtime  vote_average  genres_Action  genres_Adventure  \\\n0  200000000.0    142.0           6.8              1                 1   \n1   75000000.0    105.0           6.4              1                 0   \n2  110000000.0    122.0           7.7              1                 1   \n3   74000000.0    112.0           6.8              1                 1   \n4          0.0    114.0           7.3              1                 0   \n\n   genres_Animation  genres_Comedy  genres_Crime  genres_Documentary  \\\n0                 0              0             0                   0   \n1                 0              0             0                   0   \n2                 0              1             0                   0   \n3                 0              1             0                   0   \n4                 0              0             1                   0   \n\n   genres_Drama  ...  genres_History  genres_Horror  genres_Music  \\\n0             0  ...               0              0             0   \n1             0  ...               0              0             0   \n2             0  ...               0              0             0   \n3             0  ...               0              0             0   \n4             0  ...               0              0             0   \n\n   genres_Mystery  genres_Romance  genres_Science Fiction  genres_TV Movie  \\\n0               0               0                       0                0   \n1               0               0                       1                0   \n2               0               0                       0                0   \n3               0               1                       0                0   \n4               0               0                       0                0   \n\n   genres_Thriller  genres_War  genres_Western  \n0                0           0               0  \n1                0           0               0  \n2                0           0               0  \n3                0           0               0  \n4                1           0               0  \n\n[5 rows x 41 columns]",
      "text/html": "<div>\n<style scoped>\n    .dataframe tbody tr th:only-of-type {\n        vertical-align: middle;\n    }\n\n    .dataframe tbody tr th {\n        vertical-align: top;\n    }\n\n    .dataframe thead th {\n        text-align: right;\n    }\n</style>\n<table border=\"1\" class=\"dataframe\">\n  <thead>\n    <tr style=\"text-align: right;\">\n      <th></th>\n      <th>budget</th>\n      <th>runtime</th>\n      <th>vote_average</th>\n      <th>genres_Action</th>\n      <th>genres_Adventure</th>\n      <th>genres_Animation</th>\n      <th>genres_Comedy</th>\n      <th>genres_Crime</th>\n      <th>genres_Documentary</th>\n      <th>genres_Drama</th>\n      <th>...</th>\n      <th>genres_History</th>\n      <th>genres_Horror</th>\n      <th>genres_Music</th>\n      <th>genres_Mystery</th>\n      <th>genres_Romance</th>\n      <th>genres_Science Fiction</th>\n      <th>genres_TV Movie</th>\n      <th>genres_Thriller</th>\n      <th>genres_War</th>\n      <th>genres_Western</th>\n    </tr>\n  </thead>\n  <tbody>\n    <tr>\n      <th>0</th>\n      <td>200000000.0</td>\n      <td>142.0</td>\n      <td>6.8</td>\n      <td>1</td>\n      <td>1</td>\n      <td>0</td>\n      <td>0</td>\n      <td>0</td>\n      <td>0</td>\n      <td>0</td>\n      <td>...</td>\n      <td>0</td>\n      <td>0</td>\n      <td>0</td>\n      <td>0</td>\n      <td>0</td>\n      <td>0</td>\n      <td>0</td>\n      <td>0</td>\n      <td>0</td>\n      <td>0</td>\n    </tr>\n    <tr>\n      <th>1</th>\n      <td>75000000.0</td>\n      <td>105.0</td>\n      <td>6.4</td>\n      <td>1</td>\n      <td>0</td>\n      <td>0</td>\n      <td>0</td>\n      <td>0</td>\n      <td>0</td>\n      <td>0</td>\n      <td>...</td>\n      <td>0</td>\n      <td>0</td>\n      <td>0</td>\n      <td>0</td>\n      <td>0</td>\n      <td>1</td>\n      <td>0</td>\n      <td>0</td>\n      <td>0</td>\n      <td>0</td>\n    </tr>\n    <tr>\n      <th>2</th>\n      <td>110000000.0</td>\n      <td>122.0</td>\n      <td>7.7</td>\n      <td>1</td>\n      <td>1</td>\n      <td>0</td>\n      <td>1</td>\n      <td>0</td>\n      <td>0</td>\n      <td>0</td>\n      <td>...</td>\n      <td>0</td>\n      <td>0</td>\n      <td>0</td>\n      <td>0</td>\n      <td>0</td>\n      <td>0</td>\n      <td>0</td>\n      <td>0</td>\n      <td>0</td>\n      <td>0</td>\n    </tr>\n    <tr>\n      <th>3</th>\n      <td>74000000.0</td>\n      <td>112.0</td>\n      <td>6.8</td>\n      <td>1</td>\n      <td>1</td>\n      <td>0</td>\n      <td>1</td>\n      <td>0</td>\n      <td>0</td>\n      <td>0</td>\n      <td>...</td>\n      <td>0</td>\n      <td>0</td>\n      <td>0</td>\n      <td>0</td>\n      <td>1</td>\n      <td>0</td>\n      <td>0</td>\n      <td>0</td>\n      <td>0</td>\n      <td>0</td>\n    </tr>\n    <tr>\n      <th>4</th>\n      <td>0.0</td>\n      <td>114.0</td>\n      <td>7.3</td>\n      <td>1</td>\n      <td>0</td>\n      <td>0</td>\n      <td>0</td>\n      <td>1</td>\n      <td>0</td>\n      <td>0</td>\n      <td>...</td>\n      <td>0</td>\n      <td>0</td>\n      <td>0</td>\n      <td>0</td>\n      <td>0</td>\n      <td>0</td>\n      <td>0</td>\n      <td>1</td>\n      <td>0</td>\n      <td>0</td>\n    </tr>\n  </tbody>\n</table>\n<p>5 rows × 41 columns</p>\n</div>"
     },
     "execution_count": 30,
     "metadata": {},
     "output_type": "execute_result"
    }
   ],
   "source": [
    "res = X.genres.str.get_dummies(sep='-').add_prefix('genres_')\n",
    "\n",
    "X = pd.concat([X, res], axis = 1)\n",
    "X.drop(columns=['genres'], inplace=True)\n",
    "X.info()\n",
    "X.head()"
   ],
   "metadata": {
    "collapsed": false,
    "pycharm": {
     "name": "#%%\n"
    }
   }
  },
  {
   "cell_type": "code",
   "execution_count": 31,
   "outputs": [],
   "source": [
    "X_train, X_test, Y_train, Y_test = train_test_split(X, Y, test_size = 0.3, random_state = 5)"
   ],
   "metadata": {
    "collapsed": false,
    "pycharm": {
     "name": "#%%\n"
    }
   }
  },
  {
   "cell_type": "code",
   "execution_count": 32,
   "outputs": [],
   "source": [
    "LinReg = LinearRegression().fit(X_train, Y_train)"
   ],
   "metadata": {
    "collapsed": false,
    "pycharm": {
     "name": "#%%\n"
    }
   }
  },
  {
   "cell_type": "markdown",
   "source": [],
   "metadata": {
    "collapsed": false,
    "pycharm": {
     "name": "#%% md\n"
    }
   }
  },
  {
   "cell_type": "code",
   "execution_count": 33,
   "outputs": [
    {
     "data": {
      "text/plain": "Pipeline(steps=[('polynomialfeatures', PolynomialFeatures()),\n                ('linearregression', LinearRegression())])",
      "text/html": "<style>#sk-container-id-2 {color: black;background-color: white;}#sk-container-id-2 pre{padding: 0;}#sk-container-id-2 div.sk-toggleable {background-color: white;}#sk-container-id-2 label.sk-toggleable__label {cursor: pointer;display: block;width: 100%;margin-bottom: 0;padding: 0.3em;box-sizing: border-box;text-align: center;}#sk-container-id-2 label.sk-toggleable__label-arrow:before {content: \"▸\";float: left;margin-right: 0.25em;color: #696969;}#sk-container-id-2 label.sk-toggleable__label-arrow:hover:before {color: black;}#sk-container-id-2 div.sk-estimator:hover label.sk-toggleable__label-arrow:before {color: black;}#sk-container-id-2 div.sk-toggleable__content {max-height: 0;max-width: 0;overflow: hidden;text-align: left;background-color: #f0f8ff;}#sk-container-id-2 div.sk-toggleable__content pre {margin: 0.2em;color: black;border-radius: 0.25em;background-color: #f0f8ff;}#sk-container-id-2 input.sk-toggleable__control:checked~div.sk-toggleable__content {max-height: 200px;max-width: 100%;overflow: auto;}#sk-container-id-2 input.sk-toggleable__control:checked~label.sk-toggleable__label-arrow:before {content: \"▾\";}#sk-container-id-2 div.sk-estimator input.sk-toggleable__control:checked~label.sk-toggleable__label {background-color: #d4ebff;}#sk-container-id-2 div.sk-label input.sk-toggleable__control:checked~label.sk-toggleable__label {background-color: #d4ebff;}#sk-container-id-2 input.sk-hidden--visually {border: 0;clip: rect(1px 1px 1px 1px);clip: rect(1px, 1px, 1px, 1px);height: 1px;margin: -1px;overflow: hidden;padding: 0;position: absolute;width: 1px;}#sk-container-id-2 div.sk-estimator {font-family: monospace;background-color: #f0f8ff;border: 1px dotted black;border-radius: 0.25em;box-sizing: border-box;margin-bottom: 0.5em;}#sk-container-id-2 div.sk-estimator:hover {background-color: #d4ebff;}#sk-container-id-2 div.sk-parallel-item::after {content: \"\";width: 100%;border-bottom: 1px solid gray;flex-grow: 1;}#sk-container-id-2 div.sk-label:hover label.sk-toggleable__label {background-color: #d4ebff;}#sk-container-id-2 div.sk-serial::before {content: \"\";position: absolute;border-left: 1px solid gray;box-sizing: border-box;top: 0;bottom: 0;left: 50%;z-index: 0;}#sk-container-id-2 div.sk-serial {display: flex;flex-direction: column;align-items: center;background-color: white;padding-right: 0.2em;padding-left: 0.2em;position: relative;}#sk-container-id-2 div.sk-item {position: relative;z-index: 1;}#sk-container-id-2 div.sk-parallel {display: flex;align-items: stretch;justify-content: center;background-color: white;position: relative;}#sk-container-id-2 div.sk-item::before, #sk-container-id-2 div.sk-parallel-item::before {content: \"\";position: absolute;border-left: 1px solid gray;box-sizing: border-box;top: 0;bottom: 0;left: 50%;z-index: -1;}#sk-container-id-2 div.sk-parallel-item {display: flex;flex-direction: column;z-index: 1;position: relative;background-color: white;}#sk-container-id-2 div.sk-parallel-item:first-child::after {align-self: flex-end;width: 50%;}#sk-container-id-2 div.sk-parallel-item:last-child::after {align-self: flex-start;width: 50%;}#sk-container-id-2 div.sk-parallel-item:only-child::after {width: 0;}#sk-container-id-2 div.sk-dashed-wrapped {border: 1px dashed gray;margin: 0 0.4em 0.5em 0.4em;box-sizing: border-box;padding-bottom: 0.4em;background-color: white;}#sk-container-id-2 div.sk-label label {font-family: monospace;font-weight: bold;display: inline-block;line-height: 1.2em;}#sk-container-id-2 div.sk-label-container {text-align: center;}#sk-container-id-2 div.sk-container {/* jupyter's `normalize.less` sets `[hidden] { display: none; }` but bootstrap.min.css set `[hidden] { display: none !important; }` so we also need the `!important` here to be able to override the default hidden behavior on the sphinx rendered scikit-learn.org. See: https://github.com/scikit-learn/scikit-learn/issues/21755 */display: inline-block !important;position: relative;}#sk-container-id-2 div.sk-text-repr-fallback {display: none;}</style><div id=\"sk-container-id-2\" class=\"sk-top-container\"><div class=\"sk-text-repr-fallback\"><pre>Pipeline(steps=[(&#x27;polynomialfeatures&#x27;, PolynomialFeatures()),\n                (&#x27;linearregression&#x27;, LinearRegression())])</pre><b>In a Jupyter environment, please rerun this cell to show the HTML representation or trust the notebook. <br />On GitHub, the HTML representation is unable to render, please try loading this page with nbviewer.org.</b></div><div class=\"sk-container\" hidden><div class=\"sk-item sk-dashed-wrapped\"><div class=\"sk-label-container\"><div class=\"sk-label sk-toggleable\"><input class=\"sk-toggleable__control sk-hidden--visually\" id=\"sk-estimator-id-4\" type=\"checkbox\" ><label for=\"sk-estimator-id-4\" class=\"sk-toggleable__label sk-toggleable__label-arrow\">Pipeline</label><div class=\"sk-toggleable__content\"><pre>Pipeline(steps=[(&#x27;polynomialfeatures&#x27;, PolynomialFeatures()),\n                (&#x27;linearregression&#x27;, LinearRegression())])</pre></div></div></div><div class=\"sk-serial\"><div class=\"sk-item\"><div class=\"sk-estimator sk-toggleable\"><input class=\"sk-toggleable__control sk-hidden--visually\" id=\"sk-estimator-id-5\" type=\"checkbox\" ><label for=\"sk-estimator-id-5\" class=\"sk-toggleable__label sk-toggleable__label-arrow\">PolynomialFeatures</label><div class=\"sk-toggleable__content\"><pre>PolynomialFeatures()</pre></div></div></div><div class=\"sk-item\"><div class=\"sk-estimator sk-toggleable\"><input class=\"sk-toggleable__control sk-hidden--visually\" id=\"sk-estimator-id-6\" type=\"checkbox\" ><label for=\"sk-estimator-id-6\" class=\"sk-toggleable__label sk-toggleable__label-arrow\">LinearRegression</label><div class=\"sk-toggleable__content\"><pre>LinearRegression()</pre></div></div></div></div></div></div></div>"
     },
     "execution_count": 33,
     "metadata": {},
     "output_type": "execute_result"
    }
   ],
   "source": [
    "from sklearn.preprocessing import PolynomialFeatures\n",
    "from sklearn.pipeline import make_pipeline\n",
    "\n",
    "PolReg = make_pipeline(PolynomialFeatures(degree=2), LinearRegression())\n",
    "PolReg.fit(X_test, Y_test)"
   ],
   "metadata": {
    "collapsed": false,
    "pycharm": {
     "name": "#%%\n"
    }
   }
  },
  {
   "cell_type": "code",
   "execution_count": 34,
   "outputs": [],
   "source": [
    "predictions = [LinReg.predict(X_test),\n",
    "               PolReg.predict(X_test)]"
   ],
   "metadata": {
    "collapsed": false,
    "pycharm": {
     "name": "#%%\n"
    }
   }
  },
  {
   "cell_type": "code",
   "execution_count": 35,
   "outputs": [
    {
     "name": "stdout",
     "output_type": "stream",
     "text": [
      "RSE:  [16363518.116209924, 12201600.883281613]\n",
      "R2:  [0.313870729750268, 0.6185073162143048]\n",
      "RSE index min:  2 12201600.883281613\n",
      "R2 index max:  2 0.6185073162143048\n"
     ]
    }
   ],
   "source": [
    "from sklearn.metrics import r2_score\n",
    "from numpy import sqrt\n",
    "\n",
    "RSE_scores = []\n",
    "R2_scores = []\n",
    "\n",
    "for prediction in predictions:\n",
    "    y_true = np.array(Y_test)\n",
    "    y_predicted = np.array(prediction)\n",
    "    RSE_scores.append(sqrt((np.sum(np.square(y_true - y_predicted)))/(len(y_true) - 2)))\n",
    "    R2_scores.append(r2_score(Y_test, prediction))\n",
    "\n",
    "print('RSE: ', RSE_scores)\n",
    "print('R2: ', R2_scores)\n",
    "print('RSE index min: ', np.argmin(RSE_scores) +1, RSE_scores[np.argmin(RSE_scores)])\n",
    "print('R2 index max: ', np.argmax(R2_scores) + 1, R2_scores[np.argmax(R2_scores)])"
   ],
   "metadata": {
    "collapsed": false,
    "pycharm": {
     "name": "#%%\n"
    }
   }
  }
 ],
 "metadata": {
  "kernelspec": {
   "display_name": "Python 3",
   "language": "python",
   "name": "python3"
  },
  "language_info": {
   "codemirror_mode": {
    "name": "ipython",
    "version": 2
   },
   "file_extension": ".py",
   "mimetype": "text/x-python",
   "name": "python",
   "nbconvert_exporter": "python",
   "pygments_lexer": "ipython2",
   "version": "2.7.6"
  }
 },
 "nbformat": 4,
 "nbformat_minor": 0
}