{
 "cells": [
  {
   "cell_type": "code",
   "execution_count": 1,
   "metadata": {
    "collapsed": true,
    "pycharm": {
     "name": "#%%\n"
    }
   },
   "outputs": [
    {
     "name": "stdout",
     "output_type": "stream",
     "text": [
      "<class 'pandas.core.frame.DataFrame'>\n",
      "Int64Index: 711558 entries, 0 to 773741\n",
      "Data columns (total 21 columns):\n",
      " #   Column                Non-Null Count   Dtype  \n",
      "---  ------                --------------   -----  \n",
      " 0   id                    711558 non-null  int32  \n",
      " 1   title                 711557 non-null  object \n",
      " 2   genres                526695 non-null  object \n",
      " 3   original_language     711558 non-null  object \n",
      " 4   overview              601177 non-null  object \n",
      " 5   popularity            711558 non-null  float32\n",
      " 6   production_companies  352311 non-null  object \n",
      " 7   release_date          711558 non-null  object \n",
      " 8   budget                711558 non-null  float32\n",
      " 9   revenue               711558 non-null  float32\n",
      " 10  runtime               677947 non-null  float32\n",
      " 11  status                711558 non-null  object \n",
      " 12  tagline               107730 non-null  object \n",
      " 13  vote_average          711558 non-null  float32\n",
      " 14  vote_count            711558 non-null  float32\n",
      " 15  credits               517643 non-null  object \n",
      " 16  keywords              220519 non-null  object \n",
      " 17  poster_path           537322 non-null  object \n",
      " 18  backdrop_path         232468 non-null  object \n",
      " 19  recommendations       49491 non-null   object \n",
      " 20  year                  711558 non-null  int32  \n",
      "dtypes: float32(6), int32(2), object(13)\n",
      "memory usage: 97.7+ MB\n"
     ]
    }
   ],
   "source": [
    "import pandas as pd\n",
    "import numpy as np\n",
    "\n",
    "movies = pd.read_csv(\"../movies.csv/movies.csv\")\n",
    "\n",
    "movies['year'] = movies['release_date'].str[0:4]\n",
    "movies = movies.loc[movies['year'].notna()]\n",
    "movies['year'] = movies['year'].astype(int)\n",
    "movies = movies.astype({col: 'int32' for col in movies.select_dtypes('int64').columns})\n",
    "movies = movies.astype({col: 'float32' for col in movies.select_dtypes('float64').columns})\n",
    "movies.info()"
   ]
  },
  {
   "cell_type": "code",
   "execution_count": 2,
   "outputs": [
    {
     "data": {
      "text/plain": "       id                                        title  \\\n0  338953  Fantastic Beasts: The Secrets of Dumbledore   \n1  526896                                      Morbius   \n2  675353                         Sonic the Hedgehog 2   \n3  752623                                The Lost City   \n4  818397                                       Memory   \n\n                            genres original_language  \\\n0         Fantasy-Adventure-Action                en   \n1   Action-Science Fiction-Fantasy                en   \n2   Action-Adventure-Family-Comedy                en   \n3  Action-Adventure-Comedy-Romance                en   \n4            Action-Thriller-Crime                en   \n\n                                            overview   popularity  \\\n0  Professor Albus Dumbledore knows the powerful ...  8020.641113   \n1  Dangerously ill with a rare blood disorder and...  4123.568848   \n2  After settling in Green Hills Sonic is eager t...  3990.395020   \n3  A reclusive romance novelist was sure nothing ...  3888.711914   \n4  Alex an assassin-for-hire finds that he's beco...  3785.216064   \n\n                                production_companies release_date  \\\n0                 Warner Bros. Pictures-Heyday Films   2022-04-06   \n1  Columbia Pictures-Avi Arad Productions-Matt To...   2022-03-30   \n2  Original Film-Blur Studio-Marza Animation Plan...   2022-03-30   \n3  Paramount-Fortis Films-3dot Productions-Exhibi...   2022-03-24   \n4  Black Bear Pictures-Welle Entertainment-Savill...   2022-04-28   \n\n        budget      revenue  ...    status  \\\n0  200000000.0  380000000.0  ...  Released   \n1   75000000.0  161000000.0  ...  Released   \n2  110000000.0  375000000.0  ...  Released   \n3   74000000.0  164289824.0  ...  Released   \n4          0.0    8597928.0  ...  Released   \n\n                                        tagline vote_average  vote_count  \\\n0                          Return to the magic.          6.8      1410.0   \n1                  A new Marvel legend arrives.          6.4      1424.0   \n2                    Welcome to the next level.          7.7      1849.0   \n3    The adventure is real. The heroes are not.          6.8       959.0   \n4  His mind is fading. His conscience is clear.          7.3       200.0   \n\n                                             credits  \\\n0  Eddie Redmayne-Jude Law-Mads Mikkelsen-Ezra Mi...   \n1  Jared Leto-Matt Smith-Adria Arjona-Jared Harri...   \n2  James Marsden-Ben Schwartz-Tika Sumpter-Natash...   \n3  Sandra Bullock-Channing Tatum-Daniel Radcliffe...   \n4  Liam Neeson-Guy Pearce-Taj Atwal-Harold Torres...   \n\n                                            keywords  \\\n0                                              1930s   \n1                             vampire-based on comic   \n2  sequel-based on video game-hedgehog-live actio...   \n3                               duringcreditsstinger   \n4                                    assassin-remake   \n\n                        poster_path                     backdrop_path  \\\n0  /jrgifaYeUtTnaH7NF5Drkgjg2MB.jpg  /7ucaMpXAmlIM24qZZ8uI9hCY0hm.jpg   \n1  /6JjfSchsU6daXk2AKX8EEBjO3Fm.jpg  /gG9fTyDL03fiKnOpf2tr01sncnt.jpg   \n2   /6DrHO1jr3qVrViUO6s6kFiAGM7.jpg  /egoyMDLqCxzjnSrWOz50uLlJWmD.jpg   \n3  /neMZH82Stu91d3iqvLdNQfqPPyl.jpg  /1Ds7xy7ILo8u2WWxdnkJth1jQVT.jpg   \n4   /QaNLpq3Wuu2yp5ESsXYcQCOpUk.jpg  /kiH3KPWi7BaRMvdAigcwrUFViHl.jpg   \n\n                                     recommendations  year  \n0  675353-526896-752623-639933-453395-648579-6295...  2022  \n1  675353-752623-338953-532710-763285-629542-5456...  2022  \n2  629542-526896-752623-763285-338953-639933-4533...  2022  \n3  526896-639933-675353-532710-629542-338953-7632...  2022  \n4  639933-752623-526896-532710-661231-420821-8101...  2022  \n\n[5 rows x 21 columns]",
      "text/html": "<div>\n<style scoped>\n    .dataframe tbody tr th:only-of-type {\n        vertical-align: middle;\n    }\n\n    .dataframe tbody tr th {\n        vertical-align: top;\n    }\n\n    .dataframe thead th {\n        text-align: right;\n    }\n</style>\n<table border=\"1\" class=\"dataframe\">\n  <thead>\n    <tr style=\"text-align: right;\">\n      <th></th>\n      <th>id</th>\n      <th>title</th>\n      <th>genres</th>\n      <th>original_language</th>\n      <th>overview</th>\n      <th>popularity</th>\n      <th>production_companies</th>\n      <th>release_date</th>\n      <th>budget</th>\n      <th>revenue</th>\n      <th>...</th>\n      <th>status</th>\n      <th>tagline</th>\n      <th>vote_average</th>\n      <th>vote_count</th>\n      <th>credits</th>\n      <th>keywords</th>\n      <th>poster_path</th>\n      <th>backdrop_path</th>\n      <th>recommendations</th>\n      <th>year</th>\n    </tr>\n  </thead>\n  <tbody>\n    <tr>\n      <th>0</th>\n      <td>338953</td>\n      <td>Fantastic Beasts: The Secrets of Dumbledore</td>\n      <td>Fantasy-Adventure-Action</td>\n      <td>en</td>\n      <td>Professor Albus Dumbledore knows the powerful ...</td>\n      <td>8020.641113</td>\n      <td>Warner Bros. Pictures-Heyday Films</td>\n      <td>2022-04-06</td>\n      <td>200000000.0</td>\n      <td>380000000.0</td>\n      <td>...</td>\n      <td>Released</td>\n      <td>Return to the magic.</td>\n      <td>6.8</td>\n      <td>1410.0</td>\n      <td>Eddie Redmayne-Jude Law-Mads Mikkelsen-Ezra Mi...</td>\n      <td>1930s</td>\n      <td>/jrgifaYeUtTnaH7NF5Drkgjg2MB.jpg</td>\n      <td>/7ucaMpXAmlIM24qZZ8uI9hCY0hm.jpg</td>\n      <td>675353-526896-752623-639933-453395-648579-6295...</td>\n      <td>2022</td>\n    </tr>\n    <tr>\n      <th>1</th>\n      <td>526896</td>\n      <td>Morbius</td>\n      <td>Action-Science Fiction-Fantasy</td>\n      <td>en</td>\n      <td>Dangerously ill with a rare blood disorder and...</td>\n      <td>4123.568848</td>\n      <td>Columbia Pictures-Avi Arad Productions-Matt To...</td>\n      <td>2022-03-30</td>\n      <td>75000000.0</td>\n      <td>161000000.0</td>\n      <td>...</td>\n      <td>Released</td>\n      <td>A new Marvel legend arrives.</td>\n      <td>6.4</td>\n      <td>1424.0</td>\n      <td>Jared Leto-Matt Smith-Adria Arjona-Jared Harri...</td>\n      <td>vampire-based on comic</td>\n      <td>/6JjfSchsU6daXk2AKX8EEBjO3Fm.jpg</td>\n      <td>/gG9fTyDL03fiKnOpf2tr01sncnt.jpg</td>\n      <td>675353-752623-338953-532710-763285-629542-5456...</td>\n      <td>2022</td>\n    </tr>\n    <tr>\n      <th>2</th>\n      <td>675353</td>\n      <td>Sonic the Hedgehog 2</td>\n      <td>Action-Adventure-Family-Comedy</td>\n      <td>en</td>\n      <td>After settling in Green Hills Sonic is eager t...</td>\n      <td>3990.395020</td>\n      <td>Original Film-Blur Studio-Marza Animation Plan...</td>\n      <td>2022-03-30</td>\n      <td>110000000.0</td>\n      <td>375000000.0</td>\n      <td>...</td>\n      <td>Released</td>\n      <td>Welcome to the next level.</td>\n      <td>7.7</td>\n      <td>1849.0</td>\n      <td>James Marsden-Ben Schwartz-Tika Sumpter-Natash...</td>\n      <td>sequel-based on video game-hedgehog-live actio...</td>\n      <td>/6DrHO1jr3qVrViUO6s6kFiAGM7.jpg</td>\n      <td>/egoyMDLqCxzjnSrWOz50uLlJWmD.jpg</td>\n      <td>629542-526896-752623-763285-338953-639933-4533...</td>\n      <td>2022</td>\n    </tr>\n    <tr>\n      <th>3</th>\n      <td>752623</td>\n      <td>The Lost City</td>\n      <td>Action-Adventure-Comedy-Romance</td>\n      <td>en</td>\n      <td>A reclusive romance novelist was sure nothing ...</td>\n      <td>3888.711914</td>\n      <td>Paramount-Fortis Films-3dot Productions-Exhibi...</td>\n      <td>2022-03-24</td>\n      <td>74000000.0</td>\n      <td>164289824.0</td>\n      <td>...</td>\n      <td>Released</td>\n      <td>The adventure is real. The heroes are not.</td>\n      <td>6.8</td>\n      <td>959.0</td>\n      <td>Sandra Bullock-Channing Tatum-Daniel Radcliffe...</td>\n      <td>duringcreditsstinger</td>\n      <td>/neMZH82Stu91d3iqvLdNQfqPPyl.jpg</td>\n      <td>/1Ds7xy7ILo8u2WWxdnkJth1jQVT.jpg</td>\n      <td>526896-639933-675353-532710-629542-338953-7632...</td>\n      <td>2022</td>\n    </tr>\n    <tr>\n      <th>4</th>\n      <td>818397</td>\n      <td>Memory</td>\n      <td>Action-Thriller-Crime</td>\n      <td>en</td>\n      <td>Alex an assassin-for-hire finds that he's beco...</td>\n      <td>3785.216064</td>\n      <td>Black Bear Pictures-Welle Entertainment-Savill...</td>\n      <td>2022-04-28</td>\n      <td>0.0</td>\n      <td>8597928.0</td>\n      <td>...</td>\n      <td>Released</td>\n      <td>His mind is fading. His conscience is clear.</td>\n      <td>7.3</td>\n      <td>200.0</td>\n      <td>Liam Neeson-Guy Pearce-Taj Atwal-Harold Torres...</td>\n      <td>assassin-remake</td>\n      <td>/QaNLpq3Wuu2yp5ESsXYcQCOpUk.jpg</td>\n      <td>/kiH3KPWi7BaRMvdAigcwrUFViHl.jpg</td>\n      <td>639933-752623-526896-532710-661231-420821-8101...</td>\n      <td>2022</td>\n    </tr>\n  </tbody>\n</table>\n<p>5 rows × 21 columns</p>\n</div>"
     },
     "execution_count": 2,
     "metadata": {},
     "output_type": "execute_result"
    }
   ],
   "source": [
    "movies.head()"
   ],
   "metadata": {
    "collapsed": false,
    "pycharm": {
     "name": "#%%\n"
    }
   }
  },
  {
   "cell_type": "code",
   "execution_count": 3,
   "outputs": [
    {
     "name": "stdout",
     "output_type": "stream",
     "text": [
      "<class 'pandas.core.frame.DataFrame'>\n",
      "Int64Index: 709742 entries, 0 to 773741\n",
      "Data columns (total 9 columns):\n",
      " #   Column             Non-Null Count   Dtype   \n",
      "---  ------             --------------   -----   \n",
      " 0   id                 709742 non-null  int32   \n",
      " 1   title              709741 non-null  object  \n",
      " 2   genres             525117 non-null  object  \n",
      " 3   original_language  709742 non-null  category\n",
      " 4   budget             709742 non-null  float32 \n",
      " 5   revenue            709742 non-null  float32 \n",
      " 6   runtime            676133 non-null  float32 \n",
      " 7   vote_average       709742 non-null  float32 \n",
      " 8   year               709742 non-null  int32   \n",
      "dtypes: category(1), float32(4), int32(2), object(2)\n",
      "memory usage: 33.8+ MB\n"
     ]
    },
    {
     "data": {
      "text/plain": "       id                                        title  \\\n0  338953  Fantastic Beasts: The Secrets of Dumbledore   \n1  526896                                      Morbius   \n2  675353                         Sonic the Hedgehog 2   \n3  752623                                The Lost City   \n4  818397                                       Memory   \n\n                            genres original_language       budget  \\\n0         Fantasy-Adventure-Action                en  200000000.0   \n1   Action-Science Fiction-Fantasy                en   75000000.0   \n2   Action-Adventure-Family-Comedy                en  110000000.0   \n3  Action-Adventure-Comedy-Romance                en   74000000.0   \n4            Action-Thriller-Crime                en          0.0   \n\n       revenue  runtime  vote_average  year  \n0  380000000.0    142.0           6.8  2022  \n1  161000000.0    105.0           6.4  2022  \n2  375000000.0    122.0           7.7  2022  \n3  164289824.0    112.0           6.8  2022  \n4    8597928.0    114.0           7.3  2022  ",
      "text/html": "<div>\n<style scoped>\n    .dataframe tbody tr th:only-of-type {\n        vertical-align: middle;\n    }\n\n    .dataframe tbody tr th {\n        vertical-align: top;\n    }\n\n    .dataframe thead th {\n        text-align: right;\n    }\n</style>\n<table border=\"1\" class=\"dataframe\">\n  <thead>\n    <tr style=\"text-align: right;\">\n      <th></th>\n      <th>id</th>\n      <th>title</th>\n      <th>genres</th>\n      <th>original_language</th>\n      <th>budget</th>\n      <th>revenue</th>\n      <th>runtime</th>\n      <th>vote_average</th>\n      <th>year</th>\n    </tr>\n  </thead>\n  <tbody>\n    <tr>\n      <th>0</th>\n      <td>338953</td>\n      <td>Fantastic Beasts: The Secrets of Dumbledore</td>\n      <td>Fantasy-Adventure-Action</td>\n      <td>en</td>\n      <td>200000000.0</td>\n      <td>380000000.0</td>\n      <td>142.0</td>\n      <td>6.8</td>\n      <td>2022</td>\n    </tr>\n    <tr>\n      <th>1</th>\n      <td>526896</td>\n      <td>Morbius</td>\n      <td>Action-Science Fiction-Fantasy</td>\n      <td>en</td>\n      <td>75000000.0</td>\n      <td>161000000.0</td>\n      <td>105.0</td>\n      <td>6.4</td>\n      <td>2022</td>\n    </tr>\n    <tr>\n      <th>2</th>\n      <td>675353</td>\n      <td>Sonic the Hedgehog 2</td>\n      <td>Action-Adventure-Family-Comedy</td>\n      <td>en</td>\n      <td>110000000.0</td>\n      <td>375000000.0</td>\n      <td>122.0</td>\n      <td>7.7</td>\n      <td>2022</td>\n    </tr>\n    <tr>\n      <th>3</th>\n      <td>752623</td>\n      <td>The Lost City</td>\n      <td>Action-Adventure-Comedy-Romance</td>\n      <td>en</td>\n      <td>74000000.0</td>\n      <td>164289824.0</td>\n      <td>112.0</td>\n      <td>6.8</td>\n      <td>2022</td>\n    </tr>\n    <tr>\n      <th>4</th>\n      <td>818397</td>\n      <td>Memory</td>\n      <td>Action-Thriller-Crime</td>\n      <td>en</td>\n      <td>0.0</td>\n      <td>8597928.0</td>\n      <td>114.0</td>\n      <td>7.3</td>\n      <td>2022</td>\n    </tr>\n  </tbody>\n</table>\n</div>"
     },
     "execution_count": 3,
     "metadata": {},
     "output_type": "execute_result"
    }
   ],
   "source": [
    "movies = movies.loc[movies['status'] == 'Released']\n",
    "movies = movies[['id', 'title', 'genres', 'original_language', 'budget', 'revenue', 'runtime', 'vote_average', 'year']]\n",
    "movies['original_language'] = movies['original_language'].astype('category')\n",
    "\n",
    "movies.info()\n",
    "movies.head()"
   ],
   "metadata": {
    "collapsed": false,
    "pycharm": {
     "name": "#%%\n"
    }
   }
  },
  {
   "cell_type": "markdown",
   "source": [
    "Перевіримо, чи має дата фрейм пропущені значення:"
   ],
   "metadata": {
    "collapsed": false,
    "pycharm": {
     "name": "#%% md\n"
    }
   }
  },
  {
   "cell_type": "code",
   "execution_count": 4,
   "outputs": [
    {
     "data": {
      "text/plain": "True"
     },
     "execution_count": 4,
     "metadata": {},
     "output_type": "execute_result"
    }
   ],
   "source": [
    "movies.isnull().values.any()"
   ],
   "metadata": {
    "collapsed": false,
    "pycharm": {
     "name": "#%%\n"
    }
   }
  },
  {
   "cell_type": "markdown",
   "source": [
    "Тепер перевіримо наявність від'ємних значень:"
   ],
   "metadata": {
    "collapsed": false,
    "pycharm": {
     "name": "#%% md\n"
    }
   }
  },
  {
   "cell_type": "code",
   "execution_count": 5,
   "outputs": [
    {
     "data": {
      "text/plain": "True"
     },
     "execution_count": 5,
     "metadata": {},
     "output_type": "execute_result"
    }
   ],
   "source": [
    "(movies.select_dtypes(include=np.number) < 0).values.any()"
   ],
   "metadata": {
    "collapsed": false,
    "pycharm": {
     "name": "#%%\n"
    }
   }
  },
  {
   "cell_type": "code",
   "execution_count": 6,
   "outputs": [
    {
     "data": {
      "text/plain": "Empty DataFrame\nColumns: [id, title, genres, original_language, budget, revenue, runtime, vote_average, year]\nIndex: []",
      "text/html": "<div>\n<style scoped>\n    .dataframe tbody tr th:only-of-type {\n        vertical-align: middle;\n    }\n\n    .dataframe tbody tr th {\n        vertical-align: top;\n    }\n\n    .dataframe thead th {\n        text-align: right;\n    }\n</style>\n<table border=\"1\" class=\"dataframe\">\n  <thead>\n    <tr style=\"text-align: right;\">\n      <th></th>\n      <th>id</th>\n      <th>title</th>\n      <th>genres</th>\n      <th>original_language</th>\n      <th>budget</th>\n      <th>revenue</th>\n      <th>runtime</th>\n      <th>vote_average</th>\n      <th>year</th>\n    </tr>\n  </thead>\n  <tbody>\n  </tbody>\n</table>\n</div>"
     },
     "execution_count": 6,
     "metadata": {},
     "output_type": "execute_result"
    }
   ],
   "source": [
    "movies[movies['budget'] < 0].head()"
   ],
   "metadata": {
    "collapsed": false,
    "pycharm": {
     "name": "#%%\n"
    }
   }
  },
  {
   "cell_type": "code",
   "execution_count": 7,
   "outputs": [
    {
     "data": {
      "text/plain": "<AxesSubplot:>"
     },
     "execution_count": 7,
     "metadata": {},
     "output_type": "execute_result"
    },
    {
     "data": {
      "text/plain": "<Figure size 432x288 with 2 Axes>",
      "image/png": "[encoded data removed]"
     },
     "metadata": {},
     "output_type": "display_data"
    }
   ],
   "source": [
    "import seaborn as sb\n",
    "\n",
    "corr = movies[['budget', 'runtime', 'vote_average', 'year']].corr()\n",
    "sb.heatmap(corr, xticklabels=corr.columns, yticklabels=corr.columns, annot=True, cmap=sb.color_palette(\"coolwarm\", as_cmap=True))"
   ],
   "metadata": {
    "collapsed": false,
    "pycharm": {
     "name": "#%%\n"
    }
   }
  },
  {
   "cell_type": "code",
   "execution_count": 8,
   "outputs": [],
   "source": [
    "from sklearn.linear_model import LinearRegression\n",
    "from sklearn.model_selection import train_test_split"
   ],
   "metadata": {
    "collapsed": false,
    "pycharm": {
     "name": "#%%\n"
    }
   }
  },
  {
   "cell_type": "code",
   "execution_count": 9,
   "outputs": [
    {
     "name": "stdout",
     "output_type": "stream",
     "text": [
      "<class 'pandas.core.frame.DataFrame'>\n",
      "Int64Index: 17497 entries, 0 to 773711\n",
      "Data columns (total 9 columns):\n",
      " #   Column             Non-Null Count  Dtype   \n",
      "---  ------             --------------  -----   \n",
      " 0   id                 17497 non-null  int32   \n",
      " 1   title              17497 non-null  object  \n",
      " 2   genres             17182 non-null  object  \n",
      " 3   original_language  17497 non-null  category\n",
      " 4   budget             17497 non-null  float32 \n",
      " 5   revenue            17497 non-null  float32 \n",
      " 6   runtime            17415 non-null  float32 \n",
      " 7   vote_average       17497 non-null  float32 \n",
      " 8   year               17497 non-null  int32   \n",
      "dtypes: category(1), float32(4), int32(2), object(2)\n",
      "memory usage: 859.7+ KB\n"
     ]
    }
   ],
   "source": [
    "movies = movies.loc[movies['revenue'].round(0).astype(int) != 0]\n",
    "movies.info()"
   ],
   "metadata": {
    "collapsed": false,
    "pycharm": {
     "name": "#%%\n"
    }
   }
  },
  {
   "cell_type": "code",
   "execution_count": 10,
   "outputs": [],
   "source": [
    "numeric_columns = movies.select_dtypes(include=['number']).columns\n",
    "\n",
    "means = movies[numeric_columns].mean()\n",
    "\n",
    "movies[numeric_columns] = movies[numeric_columns].fillna(means)\n",
    "\n",
    "movies.dropna(inplace=True)"
   ],
   "metadata": {
    "collapsed": false,
    "pycharm": {
     "name": "#%%\n"
    }
   }
  },
  {
   "cell_type": "code",
   "execution_count": 11,
   "outputs": [],
   "source": [
    "\n",
    "X = movies[['budget', 'runtime', 'vote_average', 'genres', 'year', 'original_language']] #original_language\n",
    "Y = movies[['revenue']]\n",
    "\n"
   ],
   "metadata": {
    "collapsed": false,
    "pycharm": {
     "name": "#%%\n"
    }
   }
  },
  {
   "cell_type": "code",
   "execution_count": 12,
   "outputs": [
    {
     "name": "stdout",
     "output_type": "stream",
     "text": [
      "<class 'pandas.core.frame.DataFrame'>\n",
      "Int64Index: 17182 entries, 0 to 773711\n",
      "Data columns (total 24 columns):\n",
      " #   Column                  Non-Null Count  Dtype   \n",
      "---  ------                  --------------  -----   \n",
      " 0   budget                  17182 non-null  float32 \n",
      " 1   runtime                 17182 non-null  float32 \n",
      " 2   vote_average            17182 non-null  float32 \n",
      " 3   year                    17182 non-null  int32   \n",
      " 4   original_language       17182 non-null  category\n",
      " 5   genres_Action           17182 non-null  int64   \n",
      " 6   genres_Adventure        17182 non-null  int64   \n",
      " 7   genres_Animation        17182 non-null  int64   \n",
      " 8   genres_Comedy           17182 non-null  int64   \n",
      " 9   genres_Crime            17182 non-null  int64   \n",
      " 10  genres_Documentary      17182 non-null  int64   \n",
      " 11  genres_Drama            17182 non-null  int64   \n",
      " 12  genres_Family           17182 non-null  int64   \n",
      " 13  genres_Fantasy          17182 non-null  int64   \n",
      " 14  genres_History          17182 non-null  int64   \n",
      " 15  genres_Horror           17182 non-null  int64   \n",
      " 16  genres_Music            17182 non-null  int64   \n",
      " 17  genres_Mystery          17182 non-null  int64   \n",
      " 18  genres_Romance          17182 non-null  int64   \n",
      " 19  genres_Science Fiction  17182 non-null  int64   \n",
      " 20  genres_TV Movie         17182 non-null  int64   \n",
      " 21  genres_Thriller         17182 non-null  int64   \n",
      " 22  genres_War              17182 non-null  int64   \n",
      " 23  genres_Western          17182 non-null  int64   \n",
      "dtypes: category(1), float32(3), int32(1), int64(19)\n",
      "memory usage: 2.9 MB\n"
     ]
    },
    {
     "data": {
      "text/plain": "        budget  runtime  vote_average  year original_language  genres_Action  \\\n0  200000000.0    142.0           6.8  2022                en              1   \n1   75000000.0    105.0           6.4  2022                en              1   \n2  110000000.0    122.0           7.7  2022                en              1   \n3   74000000.0    112.0           6.8  2022                en              1   \n4          0.0    114.0           7.3  2022                en              1   \n\n   genres_Adventure  genres_Animation  genres_Comedy  genres_Crime  ...  \\\n0                 1                 0              0             0  ...   \n1                 0                 0              0             0  ...   \n2                 1                 0              1             0  ...   \n3                 1                 0              1             0  ...   \n4                 0                 0              0             1  ...   \n\n   genres_History  genres_Horror  genres_Music  genres_Mystery  \\\n0               0              0             0               0   \n1               0              0             0               0   \n2               0              0             0               0   \n3               0              0             0               0   \n4               0              0             0               0   \n\n   genres_Romance  genres_Science Fiction  genres_TV Movie  genres_Thriller  \\\n0               0                       0                0                0   \n1               0                       1                0                0   \n2               0                       0                0                0   \n3               1                       0                0                0   \n4               0                       0                0                1   \n\n   genres_War  genres_Western  \n0           0               0  \n1           0               0  \n2           0               0  \n3           0               0  \n4           0               0  \n\n[5 rows x 24 columns]",
      "text/html": "<div>\n<style scoped>\n    .dataframe tbody tr th:only-of-type {\n        vertical-align: middle;\n    }\n\n    .dataframe tbody tr th {\n        vertical-align: top;\n    }\n\n    .dataframe thead th {\n        text-align: right;\n    }\n</style>\n<table border=\"1\" class=\"dataframe\">\n  <thead>\n    <tr style=\"text-align: right;\">\n      <th></th>\n      <th>budget</th>\n      <th>runtime</th>\n      <th>vote_average</th>\n      <th>year</th>\n      <th>original_language</th>\n      <th>genres_Action</th>\n      <th>genres_Adventure</th>\n      <th>genres_Animation</th>\n      <th>genres_Comedy</th>\n      <th>genres_Crime</th>\n      <th>...</th>\n      <th>genres_History</th>\n      <th>genres_Horror</th>\n      <th>genres_Music</th>\n      <th>genres_Mystery</th>\n      <th>genres_Romance</th>\n      <th>genres_Science Fiction</th>\n      <th>genres_TV Movie</th>\n      <th>genres_Thriller</th>\n      <th>genres_War</th>\n      <th>genres_Western</th>\n    </tr>\n  </thead>\n  <tbody>\n    <tr>\n      <th>0</th>\n      <td>200000000.0</td>\n      <td>142.0</td>\n      <td>6.8</td>\n      <td>2022</td>\n      <td>en</td>\n      <td>1</td>\n      <td>1</td>\n      <td>0</td>\n      <td>0</td>\n      <td>0</td>\n      <td>...</td>\n      <td>0</td>\n      <td>0</td>\n      <td>0</td>\n      <td>0</td>\n      <td>0</td>\n      <td>0</td>\n      <td>0</td>\n      <td>0</td>\n      <td>0</td>\n      <td>0</td>\n    </tr>\n    <tr>\n      <th>1</th>\n      <td>75000000.0</td>\n      <td>105.0</td>\n      <td>6.4</td>\n      <td>2022</td>\n      <td>en</td>\n      <td>1</td>\n      <td>0</td>\n      <td>0</td>\n      <td>0</td>\n      <td>0</td>\n      <td>...</td>\n      <td>0</td>\n      <td>0</td>\n      <td>0</td>\n      <td>0</td>\n      <td>0</td>\n      <td>1</td>\n      <td>0</td>\n      <td>0</td>\n      <td>0</td>\n      <td>0</td>\n    </tr>\n    <tr>\n      <th>2</th>\n      <td>110000000.0</td>\n      <td>122.0</td>\n      <td>7.7</td>\n      <td>2022</td>\n      <td>en</td>\n      <td>1</td>\n      <td>1</td>\n      <td>0</td>\n      <td>1</td>\n      <td>0</td>\n      <td>...</td>\n      <td>0</td>\n      <td>0</td>\n      <td>0</td>\n      <td>0</td>\n      <td>0</td>\n      <td>0</td>\n      <td>0</td>\n      <td>0</td>\n      <td>0</td>\n      <td>0</td>\n    </tr>\n    <tr>\n      <th>3</th>\n      <td>74000000.0</td>\n      <td>112.0</td>\n      <td>6.8</td>\n      <td>2022</td>\n      <td>en</td>\n      <td>1</td>\n      <td>1</td>\n      <td>0</td>\n      <td>1</td>\n      <td>0</td>\n      <td>...</td>\n      <td>0</td>\n      <td>0</td>\n      <td>0</td>\n      <td>0</td>\n      <td>1</td>\n      <td>0</td>\n      <td>0</td>\n      <td>0</td>\n      <td>0</td>\n      <td>0</td>\n    </tr>\n    <tr>\n      <th>4</th>\n      <td>0.0</td>\n      <td>114.0</td>\n      <td>7.3</td>\n      <td>2022</td>\n      <td>en</td>\n      <td>1</td>\n      <td>0</td>\n      <td>0</td>\n      <td>0</td>\n      <td>1</td>\n      <td>...</td>\n      <td>0</td>\n      <td>0</td>\n      <td>0</td>\n      <td>0</td>\n      <td>0</td>\n      <td>0</td>\n      <td>0</td>\n      <td>1</td>\n      <td>0</td>\n      <td>0</td>\n    </tr>\n  </tbody>\n</table>\n<p>5 rows × 24 columns</p>\n</div>"
     },
     "execution_count": 12,
     "metadata": {},
     "output_type": "execute_result"
    }
   ],
   "source": [
    "res = X.genres.str.get_dummies(sep='-').add_prefix('genres_')\n",
    "\n",
    "X = pd.concat([X, res], axis = 1)\n",
    "X.drop(columns=['genres'], inplace=True)\n",
    "X.info()\n",
    "X.head()"
   ],
   "metadata": {
    "collapsed": false,
    "pycharm": {
     "name": "#%%\n"
    }
   }
  },
  {
   "cell_type": "code",
   "execution_count": 13,
   "outputs": [
    {
     "name": "stdout",
     "output_type": "stream",
     "text": [
      "<class 'pandas.core.frame.DataFrame'>\n",
      "Int64Index: 17182 entries, 0 to 773711\n",
      "Columns: 103 entries, budget to language_zh\n",
      "dtypes: float32(3), int32(1), int64(99)\n",
      "memory usage: 13.4 MB\n"
     ]
    },
    {
     "data": {
      "text/plain": "        budget  runtime  vote_average  year  genres_Action  genres_Adventure  \\\n0  200000000.0    142.0           6.8  2022              1                 1   \n1   75000000.0    105.0           6.4  2022              1                 0   \n2  110000000.0    122.0           7.7  2022              1                 1   \n3   74000000.0    112.0           6.8  2022              1                 1   \n4          0.0    114.0           7.3  2022              1                 0   \n\n   genres_Animation  genres_Comedy  genres_Crime  genres_Documentary  ...  \\\n0                 0              0             0                   0  ...   \n1                 0              0             0                   0  ...   \n2                 0              1             0                   0  ...   \n3                 0              1             0                   0  ...   \n4                 0              0             1                   0  ...   \n\n   language_tg  language_th  language_tl  language_tr  language_uk  \\\n0            0            0            0            0            0   \n1            0            0            0            0            0   \n2            0            0            0            0            0   \n3            0            0            0            0            0   \n4            0            0            0            0            0   \n\n   language_ur  language_vi  language_xh  language_xx  language_zh  \n0            0            0            0            0            0  \n1            0            0            0            0            0  \n2            0            0            0            0            0  \n3            0            0            0            0            0  \n4            0            0            0            0            0  \n\n[5 rows x 103 columns]",
      "text/html": "<div>\n<style scoped>\n    .dataframe tbody tr th:only-of-type {\n        vertical-align: middle;\n    }\n\n    .dataframe tbody tr th {\n        vertical-align: top;\n    }\n\n    .dataframe thead th {\n        text-align: right;\n    }\n</style>\n<table border=\"1\" class=\"dataframe\">\n  <thead>\n    <tr style=\"text-align: right;\">\n      <th></th>\n      <th>budget</th>\n      <th>runtime</th>\n      <th>vote_average</th>\n      <th>year</th>\n      <th>genres_Action</th>\n      <th>genres_Adventure</th>\n      <th>genres_Animation</th>\n      <th>genres_Comedy</th>\n      <th>genres_Crime</th>\n      <th>genres_Documentary</th>\n      <th>...</th>\n      <th>language_tg</th>\n      <th>language_th</th>\n      <th>language_tl</th>\n      <th>language_tr</th>\n      <th>language_uk</th>\n      <th>language_ur</th>\n      <th>language_vi</th>\n      <th>language_xh</th>\n      <th>language_xx</th>\n      <th>language_zh</th>\n    </tr>\n  </thead>\n  <tbody>\n    <tr>\n      <th>0</th>\n      <td>200000000.0</td>\n      <td>142.0</td>\n      <td>6.8</td>\n      <td>2022</td>\n      <td>1</td>\n      <td>1</td>\n      <td>0</td>\n      <td>0</td>\n      <td>0</td>\n      <td>0</td>\n      <td>...</td>\n      <td>0</td>\n      <td>0</td>\n      <td>0</td>\n      <td>0</td>\n      <td>0</td>\n      <td>0</td>\n      <td>0</td>\n      <td>0</td>\n      <td>0</td>\n      <td>0</td>\n    </tr>\n    <tr>\n      <th>1</th>\n      <td>75000000.0</td>\n      <td>105.0</td>\n      <td>6.4</td>\n      <td>2022</td>\n      <td>1</td>\n      <td>0</td>\n      <td>0</td>\n      <td>0</td>\n      <td>0</td>\n      <td>0</td>\n      <td>...</td>\n      <td>0</td>\n      <td>0</td>\n      <td>0</td>\n      <td>0</td>\n      <td>0</td>\n      <td>0</td>\n      <td>0</td>\n      <td>0</td>\n      <td>0</td>\n      <td>0</td>\n    </tr>\n    <tr>\n      <th>2</th>\n      <td>110000000.0</td>\n      <td>122.0</td>\n      <td>7.7</td>\n      <td>2022</td>\n      <td>1</td>\n      <td>1</td>\n      <td>0</td>\n      <td>1</td>\n      <td>0</td>\n      <td>0</td>\n      <td>...</td>\n      <td>0</td>\n      <td>0</td>\n      <td>0</td>\n      <td>0</td>\n      <td>0</td>\n      <td>0</td>\n      <td>0</td>\n      <td>0</td>\n      <td>0</td>\n      <td>0</td>\n    </tr>\n    <tr>\n      <th>3</th>\n      <td>74000000.0</td>\n      <td>112.0</td>\n      <td>6.8</td>\n      <td>2022</td>\n      <td>1</td>\n      <td>1</td>\n      <td>0</td>\n      <td>1</td>\n      <td>0</td>\n      <td>0</td>\n      <td>...</td>\n      <td>0</td>\n      <td>0</td>\n      <td>0</td>\n      <td>0</td>\n      <td>0</td>\n      <td>0</td>\n      <td>0</td>\n      <td>0</td>\n      <td>0</td>\n      <td>0</td>\n    </tr>\n    <tr>\n      <th>4</th>\n      <td>0.0</td>\n      <td>114.0</td>\n      <td>7.3</td>\n      <td>2022</td>\n      <td>1</td>\n      <td>0</td>\n      <td>0</td>\n      <td>0</td>\n      <td>1</td>\n      <td>0</td>\n      <td>...</td>\n      <td>0</td>\n      <td>0</td>\n      <td>0</td>\n      <td>0</td>\n      <td>0</td>\n      <td>0</td>\n      <td>0</td>\n      <td>0</td>\n      <td>0</td>\n      <td>0</td>\n    </tr>\n  </tbody>\n</table>\n<p>5 rows × 103 columns</p>\n</div>"
     },
     "execution_count": 13,
     "metadata": {},
     "output_type": "execute_result"
    }
   ],
   "source": [
    "lang = X.original_language.str.get_dummies(sep='-').add_prefix('language_')\n",
    "\n",
    "X = pd.concat([X, lang], axis = 1)\n",
    "X.drop(columns=['original_language'], inplace=True)\n",
    "X.info()\n",
    "X.head()"
   ],
   "metadata": {
    "collapsed": false,
    "pycharm": {
     "name": "#%%\n"
    }
   }
  },
  {
   "cell_type": "code",
   "execution_count": 14,
   "outputs": [
    {
     "name": "stdout",
     "output_type": "stream",
     "text": [
      "<class 'pandas.core.frame.DataFrame'>\n",
      "Int64Index: 17182 entries, 0 to 773711\n",
      "Columns: 103 entries, budget to language_zh\n",
      "dtypes: float32(3), int32(100)\n",
      "memory usage: 6.9 MB\n"
     ]
    }
   ],
   "source": [
    "X = X.astype({col: 'int32' for col in X.select_dtypes('int64').columns})\n",
    "\n",
    "X.info()"
   ],
   "metadata": {
    "collapsed": false,
    "pycharm": {
     "name": "#%%\n"
    }
   }
  },
  {
   "cell_type": "code",
   "execution_count": 15,
   "outputs": [
    {
     "name": "stdout",
     "output_type": "stream",
     "text": [
      "budget is important factor\n",
      "runtime is important factor\n",
      "vote_average is important factor\n",
      "year is important factor\n"
     ]
    }
   ],
   "source": [
    "import scipy.stats as st\n",
    "\n",
    "columns = [\n",
    "    'budget',\n",
    "    'runtime',\n",
    "    'vote_average',\n",
    "    'year'\n",
    "]\n",
    "\n",
    "for column in columns:\n",
    "    _, p = st.kstest(X[column], 'norm')\n",
    "    if p > 0.05:\n",
    "        print(column + ' should be removed from analysis')\n",
    "    else:\n",
    "        print(column + ' is important factor')"
   ],
   "metadata": {
    "collapsed": false,
    "pycharm": {
     "name": "#%%\n"
    }
   }
  },
  {
   "cell_type": "code",
   "execution_count": 16,
   "outputs": [],
   "source": [
    "X_train, X_test, Y_train, Y_test = train_test_split(X, Y, test_size = 0.3, random_state = 5)"
   ],
   "metadata": {
    "collapsed": false,
    "pycharm": {
     "name": "#%%\n"
    }
   }
  },
  {
   "cell_type": "code",
   "execution_count": 17,
   "outputs": [],
   "source": [
    "LinReg = LinearRegression().fit(X_train, Y_train)"
   ],
   "metadata": {
    "collapsed": false,
    "pycharm": {
     "name": "#%%\n"
    }
   }
  },
  {
   "cell_type": "markdown",
   "source": [],
   "metadata": {
    "collapsed": false,
    "pycharm": {
     "name": "#%% md\n"
    }
   }
  },
  {
   "cell_type": "code",
   "execution_count": 18,
   "outputs": [
    {
     "data": {
      "text/plain": "Pipeline(steps=[('polynomialfeatures', PolynomialFeatures()),\n                ('linearregression', LinearRegression())])",
      "text/html": "<style>#sk-container-id-1 {color: black;background-color: white;}#sk-container-id-1 pre{padding: 0;}#sk-container-id-1 div.sk-toggleable {background-color: white;}#sk-container-id-1 label.sk-toggleable__label {cursor: pointer;display: block;width: 100%;margin-bottom: 0;padding: 0.3em;box-sizing: border-box;text-align: center;}#sk-container-id-1 label.sk-toggleable__label-arrow:before {content: \"▸\";float: left;margin-right: 0.25em;color: #696969;}#sk-container-id-1 label.sk-toggleable__label-arrow:hover:before {color: black;}#sk-container-id-1 div.sk-estimator:hover label.sk-toggleable__label-arrow:before {color: black;}#sk-container-id-1 div.sk-toggleable__content {max-height: 0;max-width: 0;overflow: hidden;text-align: left;background-color: #f0f8ff;}#sk-container-id-1 div.sk-toggleable__content pre {margin: 0.2em;color: black;border-radius: 0.25em;background-color: #f0f8ff;}#sk-container-id-1 input.sk-toggleable__control:checked~div.sk-toggleable__content {max-height: 200px;max-width: 100%;overflow: auto;}#sk-container-id-1 input.sk-toggleable__control:checked~label.sk-toggleable__label-arrow:before {content: \"▾\";}#sk-container-id-1 div.sk-estimator input.sk-toggleable__control:checked~label.sk-toggleable__label {background-color: #d4ebff;}#sk-container-id-1 div.sk-label input.sk-toggleable__control:checked~label.sk-toggleable__label {background-color: #d4ebff;}#sk-container-id-1 input.sk-hidden--visually {border: 0;clip: rect(1px 1px 1px 1px);clip: rect(1px, 1px, 1px, 1px);height: 1px;margin: -1px;overflow: hidden;padding: 0;position: absolute;width: 1px;}#sk-container-id-1 div.sk-estimator {font-family: monospace;background-color: #f0f8ff;border: 1px dotted black;border-radius: 0.25em;box-sizing: border-box;margin-bottom: 0.5em;}#sk-container-id-1 div.sk-estimator:hover {background-color: #d4ebff;}#sk-container-id-1 div.sk-parallel-item::after {content: \"\";width: 100%;border-bottom: 1px solid gray;flex-grow: 1;}#sk-container-id-1 div.sk-label:hover label.sk-toggleable__label {background-color: #d4ebff;}#sk-container-id-1 div.sk-serial::before {content: \"\";position: absolute;border-left: 1px solid gray;box-sizing: border-box;top: 0;bottom: 0;left: 50%;z-index: 0;}#sk-container-id-1 div.sk-serial {display: flex;flex-direction: column;align-items: center;background-color: white;padding-right: 0.2em;padding-left: 0.2em;position: relative;}#sk-container-id-1 div.sk-item {position: relative;z-index: 1;}#sk-container-id-1 div.sk-parallel {display: flex;align-items: stretch;justify-content: center;background-color: white;position: relative;}#sk-container-id-1 div.sk-item::before, #sk-container-id-1 div.sk-parallel-item::before {content: \"\";position: absolute;border-left: 1px solid gray;box-sizing: border-box;top: 0;bottom: 0;left: 50%;z-index: -1;}#sk-container-id-1 div.sk-parallel-item {display: flex;flex-direction: column;z-index: 1;position: relative;background-color: white;}#sk-container-id-1 div.sk-parallel-item:first-child::after {align-self: flex-end;width: 50%;}#sk-container-id-1 div.sk-parallel-item:last-child::after {align-self: flex-start;width: 50%;}#sk-container-id-1 div.sk-parallel-item:only-child::after {width: 0;}#sk-container-id-1 div.sk-dashed-wrapped {border: 1px dashed gray;margin: 0 0.4em 0.5em 0.4em;box-sizing: border-box;padding-bottom: 0.4em;background-color: white;}#sk-container-id-1 div.sk-label label {font-family: monospace;font-weight: bold;display: inline-block;line-height: 1.2em;}#sk-container-id-1 div.sk-label-container {text-align: center;}#sk-container-id-1 div.sk-container {/* jupyter's `normalize.less` sets `[hidden] { display: none; }` but bootstrap.min.css set `[hidden] { display: none !important; }` so we also need the `!important` here to be able to override the default hidden behavior on the sphinx rendered scikit-learn.org. See: https://github.com/scikit-learn/scikit-learn/issues/21755 */display: inline-block !important;position: relative;}#sk-container-id-1 div.sk-text-repr-fallback {display: none;}</style><div id=\"sk-container-id-1\" class=\"sk-top-container\"><div class=\"sk-text-repr-fallback\"><pre>Pipeline(steps=[(&#x27;polynomialfeatures&#x27;, PolynomialFeatures()),\n                (&#x27;linearregression&#x27;, LinearRegression())])</pre><b>In a Jupyter environment, please rerun this cell to show the HTML representation or trust the notebook. <br />On GitHub, the HTML representation is unable to render, please try loading this page with nbviewer.org.</b></div><div class=\"sk-container\" hidden><div class=\"sk-item sk-dashed-wrapped\"><div class=\"sk-label-container\"><div class=\"sk-label sk-toggleable\"><input class=\"sk-toggleable__control sk-hidden--visually\" id=\"sk-estimator-id-1\" type=\"checkbox\" ><label for=\"sk-estimator-id-1\" class=\"sk-toggleable__label sk-toggleable__label-arrow\">Pipeline</label><div class=\"sk-toggleable__content\"><pre>Pipeline(steps=[(&#x27;polynomialfeatures&#x27;, PolynomialFeatures()),\n                (&#x27;linearregression&#x27;, LinearRegression())])</pre></div></div></div><div class=\"sk-serial\"><div class=\"sk-item\"><div class=\"sk-estimator sk-toggleable\"><input class=\"sk-toggleable__control sk-hidden--visually\" id=\"sk-estimator-id-2\" type=\"checkbox\" ><label for=\"sk-estimator-id-2\" class=\"sk-toggleable__label sk-toggleable__label-arrow\">PolynomialFeatures</label><div class=\"sk-toggleable__content\"><pre>PolynomialFeatures()</pre></div></div></div><div class=\"sk-item\"><div class=\"sk-estimator sk-toggleable\"><input class=\"sk-toggleable__control sk-hidden--visually\" id=\"sk-estimator-id-3\" type=\"checkbox\" ><label for=\"sk-estimator-id-3\" class=\"sk-toggleable__label sk-toggleable__label-arrow\">LinearRegression</label><div class=\"sk-toggleable__content\"><pre>LinearRegression()</pre></div></div></div></div></div></div></div>"
     },
     "execution_count": 18,
     "metadata": {},
     "output_type": "execute_result"
    }
   ],
   "source": [
    "from sklearn.preprocessing import PolynomialFeatures\n",
    "from sklearn.pipeline import make_pipeline\n",
    "\n",
    "PolReg2 = make_pipeline(PolynomialFeatures(degree=2), LinearRegression())\n",
    "PolReg2.fit(X_train, Y_train)"
   ],
   "metadata": {
    "collapsed": false,
    "pycharm": {
     "name": "#%%\n"
    }
   }
  },
  {
   "cell_type": "code",
   "execution_count": 19,
   "outputs": [],
   "source": [
    "models = [LinReg,\n",
    "          PolReg2]"
   ],
   "metadata": {
    "collapsed": false,
    "pycharm": {
     "name": "#%%\n"
    }
   }
  },
  {
   "cell_type": "code",
   "execution_count": 20,
   "outputs": [
    {
     "name": "stdout",
     "output_type": "stream",
     "text": [
      "RSE:  [75071023.76991566, 73595229.7707788]\n",
      "R2:  [0.572431538384719, 0.5890771257060914]\n",
      "RSE index min:  2 73595229.7707788\n",
      "R2 index max:  2 0.5890771257060914\n"
     ]
    }
   ],
   "source": [
    "from sklearn.metrics import r2_score\n",
    "from numpy import sqrt\n",
    "\n",
    "RSE_scores = []\n",
    "R2_scores = []\n",
    "\n",
    "for model in models:\n",
    "    y_true = np.array(Y_test)\n",
    "    y_predicted = np.array(model.predict(X_test))\n",
    "    RSE_scores.append(sqrt((np.sum(np.square(y_true - y_predicted)))/(len(y_true) - 2)))\n",
    "    R2_scores.append(r2_score(Y_test, y_predicted))\n",
    "\n",
    "print('RSE: ', RSE_scores)\n",
    "print('R2: ', R2_scores)\n",
    "print('RSE index min: ', np.argmin(RSE_scores) +1, RSE_scores[np.argmin(RSE_scores)])\n",
    "print('R2 index max: ', np.argmax(R2_scores) + 1, R2_scores[np.argmax(R2_scores)])"
   ],
   "metadata": {
    "collapsed": false,
    "pycharm": {
     "name": "#%%\n"
    }
   }
  }
 ],
 "metadata": {
  "kernelspec": {
   "display_name": "Python 3",
   "language": "python",
   "name": "python3"
  },
  "language_info": {
   "codemirror_mode": {
    "name": "ipython",
    "version": 2
   },
   "file_extension": ".py",
   "mimetype": "text/x-python",
   "name": "python",
   "nbconvert_exporter": "python",
   "pygments_lexer": "ipython2",
   "version": "2.7.6"
  }
 },
 "nbformat": 4,
 "nbformat_minor": 0
}