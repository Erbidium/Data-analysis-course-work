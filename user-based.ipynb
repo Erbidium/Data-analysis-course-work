{
 "cells": [
  {
   "cell_type": "markdown",
   "source": [
    "Libraries import:"
   ],
   "metadata": {
    "collapsed": false,
    "pycharm": {
     "name": "#%% md\n"
    }
   }
  },
  {
   "cell_type": "code",
   "execution_count": 59,
   "metadata": {
    "collapsed": true,
    "pycharm": {
     "name": "#%%\n"
    }
   },
   "outputs": [],
   "source": [
    "import pandas as pd\n",
    "import numpy as np\n",
    "import scipy.stats\n",
    "\n",
    "import seaborn as sns\n",
    "\n",
    "from sklearn.metrics.pairwise import cosine_similarity"
   ]
  },
  {
   "cell_type": "markdown",
   "source": [
    "Import ratings:"
   ],
   "metadata": {
    "collapsed": false,
    "pycharm": {
     "name": "#%% md\n"
    }
   }
  },
  {
   "cell_type": "code",
   "execution_count": 78,
   "outputs": [
    {
     "name": "stdout",
     "output_type": "stream",
     "text": [
      "<class 'pandas.core.frame.DataFrame'>\n",
      "RangeIndex: 100836 entries, 0 to 100835\n",
      "Data columns (total 4 columns):\n",
      " #   Column     Non-Null Count   Dtype  \n",
      "---  ------     --------------   -----  \n",
      " 0   userId     100836 non-null  int64  \n",
      " 1   movieId    100836 non-null  int64  \n",
      " 2   rating     100836 non-null  float64\n",
      " 3   timestamp  100836 non-null  int64  \n",
      "dtypes: float64(1), int64(3)\n",
      "memory usage: 3.1 MB\n"
     ]
    },
    {
     "data": {
      "text/plain": "4    5.0\n3    5.0\n2    4.0\n1    4.0\n0    4.0\nName: rating, dtype: float64"
     },
     "execution_count": 78,
     "metadata": {},
     "output_type": "execute_result"
    }
   ],
   "source": [
    "# ratings = pd.read_csv('ratings.csv', sep=';', encoding='utf-8')\n",
    "# ratings['rating'] = ratings['rating'].str.replace(',', '.').astype(float)\n",
    "# ratings = ratings.head(1000000)\n",
    "# ratings.info()\n",
    "# ratings.head()\n",
    "ratings = pd.read_csv('ratings.csv')\n",
    "ratings.info()\n",
    "ratings.head()['rating'].sort_index(ascending=False)"
   ],
   "metadata": {
    "collapsed": false,
    "pycharm": {
     "name": "#%%\n"
    }
   }
  },
  {
   "cell_type": "markdown",
   "source": [
    "Import movies:"
   ],
   "metadata": {
    "collapsed": false,
    "pycharm": {
     "name": "#%% md\n"
    }
   }
  },
  {
   "cell_type": "code",
   "execution_count": 61,
   "outputs": [
    {
     "data": {
      "text/plain": "   movieId                               title  \\\n0        1                    Toy Story (1995)   \n1        2                      Jumanji (1995)   \n2        3             Grumpier Old Men (1995)   \n3        4            Waiting to Exhale (1995)   \n4        5  Father of the Bride Part II (1995)   \n\n                                        genres  \n0  Adventure|Animation|Children|Comedy|Fantasy  \n1                   Adventure|Children|Fantasy  \n2                               Comedy|Romance  \n3                         Comedy|Drama|Romance  \n4                                       Comedy  ",
      "text/html": "<div>\n<style scoped>\n    .dataframe tbody tr th:only-of-type {\n        vertical-align: middle;\n    }\n\n    .dataframe tbody tr th {\n        vertical-align: top;\n    }\n\n    .dataframe thead th {\n        text-align: right;\n    }\n</style>\n<table border=\"1\" class=\"dataframe\">\n  <thead>\n    <tr style=\"text-align: right;\">\n      <th></th>\n      <th>movieId</th>\n      <th>title</th>\n      <th>genres</th>\n    </tr>\n  </thead>\n  <tbody>\n    <tr>\n      <th>0</th>\n      <td>1</td>\n      <td>Toy Story (1995)</td>\n      <td>Adventure|Animation|Children|Comedy|Fantasy</td>\n    </tr>\n    <tr>\n      <th>1</th>\n      <td>2</td>\n      <td>Jumanji (1995)</td>\n      <td>Adventure|Children|Fantasy</td>\n    </tr>\n    <tr>\n      <th>2</th>\n      <td>3</td>\n      <td>Grumpier Old Men (1995)</td>\n      <td>Comedy|Romance</td>\n    </tr>\n    <tr>\n      <th>3</th>\n      <td>4</td>\n      <td>Waiting to Exhale (1995)</td>\n      <td>Comedy|Drama|Romance</td>\n    </tr>\n    <tr>\n      <th>4</th>\n      <td>5</td>\n      <td>Father of the Bride Part II (1995)</td>\n      <td>Comedy</td>\n    </tr>\n  </tbody>\n</table>\n</div>"
     },
     "execution_count": 61,
     "metadata": {},
     "output_type": "execute_result"
    }
   ],
   "source": [
    "# movies = pd.read_csv('movies.csv', sep=';', encoding='utf-16')\n",
    "# movies = movies[['id', 'title', 'genres']]\n",
    "# movies.rename(columns={'id':'movieId'}, inplace=True)\n",
    "# movies.info()\n",
    "# movies.head()\n",
    "movies = pd.read_csv('movies.csv')\n",
    "movies.head()"
   ],
   "metadata": {
    "collapsed": false,
    "pycharm": {
     "name": "#%%\n"
    }
   }
  },
  {
   "cell_type": "markdown",
   "source": [
    "Merge dataframes"
   ],
   "metadata": {
    "collapsed": false,
    "pycharm": {
     "name": "#%% md\n"
    }
   }
  },
  {
   "cell_type": "code",
   "execution_count": 62,
   "outputs": [
    {
     "name": "stdout",
     "output_type": "stream",
     "text": [
      "<class 'pandas.core.frame.DataFrame'>\n",
      "Int64Index: 100836 entries, 0 to 100835\n",
      "Data columns (total 6 columns):\n",
      " #   Column     Non-Null Count   Dtype  \n",
      "---  ------     --------------   -----  \n",
      " 0   userId     100836 non-null  int64  \n",
      " 1   movieId    100836 non-null  int64  \n",
      " 2   rating     100836 non-null  float64\n",
      " 3   timestamp  100836 non-null  int64  \n",
      " 4   title      100836 non-null  object \n",
      " 5   genres     100836 non-null  object \n",
      "dtypes: float64(1), int64(3), object(2)\n",
      "memory usage: 5.4+ MB\n"
     ]
    },
    {
     "data": {
      "text/plain": "   userId  movieId  rating   timestamp             title  \\\n0       1        1     4.0   964982703  Toy Story (1995)   \n1       5        1     4.0   847434962  Toy Story (1995)   \n2       7        1     4.5  1106635946  Toy Story (1995)   \n3      15        1     2.5  1510577970  Toy Story (1995)   \n4      17        1     4.5  1305696483  Toy Story (1995)   \n\n                                        genres  \n0  Adventure|Animation|Children|Comedy|Fantasy  \n1  Adventure|Animation|Children|Comedy|Fantasy  \n2  Adventure|Animation|Children|Comedy|Fantasy  \n3  Adventure|Animation|Children|Comedy|Fantasy  \n4  Adventure|Animation|Children|Comedy|Fantasy  ",
      "text/html": "<div>\n<style scoped>\n    .dataframe tbody tr th:only-of-type {\n        vertical-align: middle;\n    }\n\n    .dataframe tbody tr th {\n        vertical-align: top;\n    }\n\n    .dataframe thead th {\n        text-align: right;\n    }\n</style>\n<table border=\"1\" class=\"dataframe\">\n  <thead>\n    <tr style=\"text-align: right;\">\n      <th></th>\n      <th>userId</th>\n      <th>movieId</th>\n      <th>rating</th>\n      <th>timestamp</th>\n      <th>title</th>\n      <th>genres</th>\n    </tr>\n  </thead>\n  <tbody>\n    <tr>\n      <th>0</th>\n      <td>1</td>\n      <td>1</td>\n      <td>4.0</td>\n      <td>964982703</td>\n      <td>Toy Story (1995)</td>\n      <td>Adventure|Animation|Children|Comedy|Fantasy</td>\n    </tr>\n    <tr>\n      <th>1</th>\n      <td>5</td>\n      <td>1</td>\n      <td>4.0</td>\n      <td>847434962</td>\n      <td>Toy Story (1995)</td>\n      <td>Adventure|Animation|Children|Comedy|Fantasy</td>\n    </tr>\n    <tr>\n      <th>2</th>\n      <td>7</td>\n      <td>1</td>\n      <td>4.5</td>\n      <td>1106635946</td>\n      <td>Toy Story (1995)</td>\n      <td>Adventure|Animation|Children|Comedy|Fantasy</td>\n    </tr>\n    <tr>\n      <th>3</th>\n      <td>15</td>\n      <td>1</td>\n      <td>2.5</td>\n      <td>1510577970</td>\n      <td>Toy Story (1995)</td>\n      <td>Adventure|Animation|Children|Comedy|Fantasy</td>\n    </tr>\n    <tr>\n      <th>4</th>\n      <td>17</td>\n      <td>1</td>\n      <td>4.5</td>\n      <td>1305696483</td>\n      <td>Toy Story (1995)</td>\n      <td>Adventure|Animation|Children|Comedy|Fantasy</td>\n    </tr>\n  </tbody>\n</table>\n</div>"
     },
     "execution_count": 62,
     "metadata": {},
     "output_type": "execute_result"
    }
   ],
   "source": [
    "df = pd.merge(ratings, movies, on='movieId', how='inner')\n",
    "df.info()\n",
    "df.head()"
   ],
   "metadata": {
    "collapsed": false,
    "pycharm": {
     "name": "#%%\n"
    }
   }
  },
  {
   "cell_type": "markdown",
   "source": [
    "Get movies with number of votes more than 300:"
   ],
   "metadata": {
    "collapsed": false,
    "pycharm": {
     "name": "#%% md\n"
    }
   }
  },
  {
   "cell_type": "code",
   "execution_count": 63,
   "outputs": [
    {
     "name": "stdout",
     "output_type": "stream",
     "text": [
      "<class 'pandas.core.frame.DataFrame'>\n",
      "RangeIndex: 9719 entries, 0 to 9718\n",
      "Data columns (total 3 columns):\n",
      " #   Column             Non-Null Count  Dtype  \n",
      "---  ------             --------------  -----  \n",
      " 0   title              9719 non-null   object \n",
      " 1   mean_rating        9719 non-null   float64\n",
      " 2   number_of_ratings  9719 non-null   int64  \n",
      "dtypes: float64(1), int64(1), object(1)\n",
      "memory usage: 227.9+ KB\n"
     ]
    },
    {
     "data": {
      "text/plain": "                                 title  mean_rating  number_of_ratings\n3158               Forrest Gump (1994)     4.164134                329\n7593  Shawshank Redemption, The (1994)     4.429022                317\n6865               Pulp Fiction (1994)     4.197068                307\n7680  Silence of the Lambs, The (1991)     4.161290                279\n5512                Matrix, The (1999)     4.192446                278",
      "text/html": "<div>\n<style scoped>\n    .dataframe tbody tr th:only-of-type {\n        vertical-align: middle;\n    }\n\n    .dataframe tbody tr th {\n        vertical-align: top;\n    }\n\n    .dataframe thead th {\n        text-align: right;\n    }\n</style>\n<table border=\"1\" class=\"dataframe\">\n  <thead>\n    <tr style=\"text-align: right;\">\n      <th></th>\n      <th>title</th>\n      <th>mean_rating</th>\n      <th>number_of_ratings</th>\n    </tr>\n  </thead>\n  <tbody>\n    <tr>\n      <th>3158</th>\n      <td>Forrest Gump (1994)</td>\n      <td>4.164134</td>\n      <td>329</td>\n    </tr>\n    <tr>\n      <th>7593</th>\n      <td>Shawshank Redemption, The (1994)</td>\n      <td>4.429022</td>\n      <td>317</td>\n    </tr>\n    <tr>\n      <th>6865</th>\n      <td>Pulp Fiction (1994)</td>\n      <td>4.197068</td>\n      <td>307</td>\n    </tr>\n    <tr>\n      <th>7680</th>\n      <td>Silence of the Lambs, The (1991)</td>\n      <td>4.161290</td>\n      <td>279</td>\n    </tr>\n    <tr>\n      <th>5512</th>\n      <td>Matrix, The (1999)</td>\n      <td>4.192446</td>\n      <td>278</td>\n    </tr>\n  </tbody>\n</table>\n</div>"
     },
     "execution_count": 63,
     "metadata": {},
     "output_type": "execute_result"
    }
   ],
   "source": [
    "agg_ratings = df.groupby('title').agg(mean_rating=('rating', 'mean'), number_of_ratings=('rating', 'count')).reset_index()\n",
    "agg_ratings_GT100 = agg_ratings[agg_ratings['number_of_ratings'] > 100]\n",
    "agg_ratings.info()\n",
    "agg_ratings.head()\n",
    "\n",
    "agg_ratings_GT100.sort_values(by='number_of_ratings', ascending=False).head()"
   ],
   "metadata": {
    "collapsed": false,
    "pycharm": {
     "name": "#%%\n"
    }
   }
  },
  {
   "cell_type": "markdown",
   "source": [
    "Get top rated movies:"
   ],
   "metadata": {
    "collapsed": false,
    "pycharm": {
     "name": "#%% md\n"
    }
   }
  },
  {
   "cell_type": "code",
   "execution_count": 64,
   "outputs": [
    {
     "data": {
      "text/plain": "   userId  movieId  rating   timestamp             title  \\\n0       1        1     4.0   964982703  Toy Story (1995)   \n1       5        1     4.0   847434962  Toy Story (1995)   \n2       7        1     4.5  1106635946  Toy Story (1995)   \n3      15        1     2.5  1510577970  Toy Story (1995)   \n4      17        1     4.5  1305696483  Toy Story (1995)   \n\n                                        genres  \n0  Adventure|Animation|Children|Comedy|Fantasy  \n1  Adventure|Animation|Children|Comedy|Fantasy  \n2  Adventure|Animation|Children|Comedy|Fantasy  \n3  Adventure|Animation|Children|Comedy|Fantasy  \n4  Adventure|Animation|Children|Comedy|Fantasy  ",
      "text/html": "<div>\n<style scoped>\n    .dataframe tbody tr th:only-of-type {\n        vertical-align: middle;\n    }\n\n    .dataframe tbody tr th {\n        vertical-align: top;\n    }\n\n    .dataframe thead th {\n        text-align: right;\n    }\n</style>\n<table border=\"1\" class=\"dataframe\">\n  <thead>\n    <tr style=\"text-align: right;\">\n      <th></th>\n      <th>userId</th>\n      <th>movieId</th>\n      <th>rating</th>\n      <th>timestamp</th>\n      <th>title</th>\n      <th>genres</th>\n    </tr>\n  </thead>\n  <tbody>\n    <tr>\n      <th>0</th>\n      <td>1</td>\n      <td>1</td>\n      <td>4.0</td>\n      <td>964982703</td>\n      <td>Toy Story (1995)</td>\n      <td>Adventure|Animation|Children|Comedy|Fantasy</td>\n    </tr>\n    <tr>\n      <th>1</th>\n      <td>5</td>\n      <td>1</td>\n      <td>4.0</td>\n      <td>847434962</td>\n      <td>Toy Story (1995)</td>\n      <td>Adventure|Animation|Children|Comedy|Fantasy</td>\n    </tr>\n    <tr>\n      <th>2</th>\n      <td>7</td>\n      <td>1</td>\n      <td>4.5</td>\n      <td>1106635946</td>\n      <td>Toy Story (1995)</td>\n      <td>Adventure|Animation|Children|Comedy|Fantasy</td>\n    </tr>\n    <tr>\n      <th>3</th>\n      <td>15</td>\n      <td>1</td>\n      <td>2.5</td>\n      <td>1510577970</td>\n      <td>Toy Story (1995)</td>\n      <td>Adventure|Animation|Children|Comedy|Fantasy</td>\n    </tr>\n    <tr>\n      <th>4</th>\n      <td>17</td>\n      <td>1</td>\n      <td>4.5</td>\n      <td>1305696483</td>\n      <td>Toy Story (1995)</td>\n      <td>Adventure|Animation|Children|Comedy|Fantasy</td>\n    </tr>\n  </tbody>\n</table>\n</div>"
     },
     "execution_count": 64,
     "metadata": {},
     "output_type": "execute_result"
    }
   ],
   "source": [
    "df_GT100 = pd.merge(df, agg_ratings_GT100[['title']], on='title', how='inner')\n",
    "df_GT100.head()"
   ],
   "metadata": {
    "collapsed": false,
    "pycharm": {
     "name": "#%%\n"
    }
   }
  },
  {
   "cell_type": "markdown",
   "source": [
    "Create matrix where users are rows and movies are columns:"
   ],
   "metadata": {
    "collapsed": false,
    "pycharm": {
     "name": "#%% md\n"
    }
   }
  },
  {
   "cell_type": "code",
   "execution_count": 65,
   "outputs": [
    {
     "name": "stdout",
     "output_type": "stream",
     "text": [
      "<class 'pandas.core.frame.DataFrame'>\n",
      "Int64Index: 597 entries, 1 to 610\n",
      "Columns: 134 entries, 2001: A Space Odyssey (1968) to X-Men (2000)\n",
      "dtypes: float64(134)\n",
      "memory usage: 629.6 KB\n"
     ]
    },
    {
     "data": {
      "text/plain": "title   2001: A Space Odyssey (1968)  Ace Ventura: Pet Detective (1994)  \\\nuserId                                                                    \n1                                NaN                                NaN   \n2                                NaN                                NaN   \n3                                NaN                                NaN   \n4                                NaN                                NaN   \n5                                NaN                                3.0   \n\ntitle   Aladdin (1992)  Alien (1979)  Aliens (1986)  \\\nuserId                                                \n1                  NaN           4.0            NaN   \n2                  NaN           NaN            NaN   \n3                  NaN           NaN            NaN   \n4                  4.0           NaN            NaN   \n5                  4.0           NaN            NaN   \n\ntitle   Amelie (Fabuleux destin d'Amélie Poulain, Le) (2001)  \\\nuserId                                                         \n1                                                     NaN      \n2                                                     NaN      \n3                                                     NaN      \n4                                                     NaN      \n5                                                     NaN      \n\ntitle   American Beauty (1999)  American History X (1998)  \\\nuserId                                                      \n1                          5.0                        5.0   \n2                          NaN                        NaN   \n3                          NaN                        NaN   \n4                          5.0                        NaN   \n5                          NaN                        NaN   \n\ntitle   American Pie (1999)  Apocalypse Now (1979)  ...  True Lies (1994)  \\\nuserId                                              ...                     \n1                       NaN                    4.0  ...               NaN   \n2                       NaN                    NaN  ...               NaN   \n3                       NaN                    NaN  ...               NaN   \n4                       NaN                    NaN  ...               NaN   \n5                       NaN                    NaN  ...               2.0   \n\ntitle   Truman Show, The (1998)  Twelve Monkeys (a.k.a. 12 Monkeys) (1995)  \\\nuserId                                                                       \n1                           NaN                                        NaN   \n2                           NaN                                        NaN   \n3                           NaN                                        NaN   \n4                           NaN                                        2.0   \n5                           NaN                                        NaN   \n\ntitle   Twister (1996)  Up (2009)  Usual Suspects, The (1995)  WALL·E (2008)  \\\nuserId                                                                         \n1                  3.0        NaN                         5.0            NaN   \n2                  NaN        NaN                         NaN            NaN   \n3                  NaN        NaN                         NaN            NaN   \n4                  NaN        NaN                         NaN            NaN   \n5                  NaN        NaN                         4.0            NaN   \n\ntitle   Waterworld (1995)  Willy Wonka & the Chocolate Factory (1971)  \\\nuserId                                                                  \n1                     NaN                                         5.0   \n2                     NaN                                         NaN   \n3                     NaN                                         NaN   \n4                     NaN                                         4.0   \n5                     NaN                                         NaN   \n\ntitle   X-Men (2000)  \nuserId                \n1                5.0  \n2                NaN  \n3                NaN  \n4                NaN  \n5                NaN  \n\n[5 rows x 134 columns]",
      "text/html": "<div>\n<style scoped>\n    .dataframe tbody tr th:only-of-type {\n        vertical-align: middle;\n    }\n\n    .dataframe tbody tr th {\n        vertical-align: top;\n    }\n\n    .dataframe thead th {\n        text-align: right;\n    }\n</style>\n<table border=\"1\" class=\"dataframe\">\n  <thead>\n    <tr style=\"text-align: right;\">\n      <th>title</th>\n      <th>2001: A Space Odyssey (1968)</th>\n      <th>Ace Ventura: Pet Detective (1994)</th>\n      <th>Aladdin (1992)</th>\n      <th>Alien (1979)</th>\n      <th>Aliens (1986)</th>\n      <th>Amelie (Fabuleux destin d'Amélie Poulain, Le) (2001)</th>\n      <th>American Beauty (1999)</th>\n      <th>American History X (1998)</th>\n      <th>American Pie (1999)</th>\n      <th>Apocalypse Now (1979)</th>\n      <th>...</th>\n      <th>True Lies (1994)</th>\n      <th>Truman Show, The (1998)</th>\n      <th>Twelve Monkeys (a.k.a. 12 Monkeys) (1995)</th>\n      <th>Twister (1996)</th>\n      <th>Up (2009)</th>\n      <th>Usual Suspects, The (1995)</th>\n      <th>WALL·E (2008)</th>\n      <th>Waterworld (1995)</th>\n      <th>Willy Wonka &amp; the Chocolate Factory (1971)</th>\n      <th>X-Men (2000)</th>\n    </tr>\n    <tr>\n      <th>userId</th>\n      <th></th>\n      <th></th>\n      <th></th>\n      <th></th>\n      <th></th>\n      <th></th>\n      <th></th>\n      <th></th>\n      <th></th>\n      <th></th>\n      <th></th>\n      <th></th>\n      <th></th>\n      <th></th>\n      <th></th>\n      <th></th>\n      <th></th>\n      <th></th>\n      <th></th>\n      <th></th>\n      <th></th>\n    </tr>\n  </thead>\n  <tbody>\n    <tr>\n      <th>1</th>\n      <td>NaN</td>\n      <td>NaN</td>\n      <td>NaN</td>\n      <td>4.0</td>\n      <td>NaN</td>\n      <td>NaN</td>\n      <td>5.0</td>\n      <td>5.0</td>\n      <td>NaN</td>\n      <td>4.0</td>\n      <td>...</td>\n      <td>NaN</td>\n      <td>NaN</td>\n      <td>NaN</td>\n      <td>3.0</td>\n      <td>NaN</td>\n      <td>5.0</td>\n      <td>NaN</td>\n      <td>NaN</td>\n      <td>5.0</td>\n      <td>5.0</td>\n    </tr>\n    <tr>\n      <th>2</th>\n      <td>NaN</td>\n      <td>NaN</td>\n      <td>NaN</td>\n      <td>NaN</td>\n      <td>NaN</td>\n      <td>NaN</td>\n      <td>NaN</td>\n      <td>NaN</td>\n      <td>NaN</td>\n      <td>NaN</td>\n      <td>...</td>\n      <td>NaN</td>\n      <td>NaN</td>\n      <td>NaN</td>\n      <td>NaN</td>\n      <td>NaN</td>\n      <td>NaN</td>\n      <td>NaN</td>\n      <td>NaN</td>\n      <td>NaN</td>\n      <td>NaN</td>\n    </tr>\n    <tr>\n      <th>3</th>\n      <td>NaN</td>\n      <td>NaN</td>\n      <td>NaN</td>\n      <td>NaN</td>\n      <td>NaN</td>\n      <td>NaN</td>\n      <td>NaN</td>\n      <td>NaN</td>\n      <td>NaN</td>\n      <td>NaN</td>\n      <td>...</td>\n      <td>NaN</td>\n      <td>NaN</td>\n      <td>NaN</td>\n      <td>NaN</td>\n      <td>NaN</td>\n      <td>NaN</td>\n      <td>NaN</td>\n      <td>NaN</td>\n      <td>NaN</td>\n      <td>NaN</td>\n    </tr>\n    <tr>\n      <th>4</th>\n      <td>NaN</td>\n      <td>NaN</td>\n      <td>4.0</td>\n      <td>NaN</td>\n      <td>NaN</td>\n      <td>NaN</td>\n      <td>5.0</td>\n      <td>NaN</td>\n      <td>NaN</td>\n      <td>NaN</td>\n      <td>...</td>\n      <td>NaN</td>\n      <td>NaN</td>\n      <td>2.0</td>\n      <td>NaN</td>\n      <td>NaN</td>\n      <td>NaN</td>\n      <td>NaN</td>\n      <td>NaN</td>\n      <td>4.0</td>\n      <td>NaN</td>\n    </tr>\n    <tr>\n      <th>5</th>\n      <td>NaN</td>\n      <td>3.0</td>\n      <td>4.0</td>\n      <td>NaN</td>\n      <td>NaN</td>\n      <td>NaN</td>\n      <td>NaN</td>\n      <td>NaN</td>\n      <td>NaN</td>\n      <td>NaN</td>\n      <td>...</td>\n      <td>2.0</td>\n      <td>NaN</td>\n      <td>NaN</td>\n      <td>NaN</td>\n      <td>NaN</td>\n      <td>4.0</td>\n      <td>NaN</td>\n      <td>NaN</td>\n      <td>NaN</td>\n      <td>NaN</td>\n    </tr>\n  </tbody>\n</table>\n<p>5 rows × 134 columns</p>\n</div>"
     },
     "execution_count": 65,
     "metadata": {},
     "output_type": "execute_result"
    }
   ],
   "source": [
    "matrix = df_GT100.pivot_table(index='userId', columns='title', values='rating')\n",
    "matrix.info()\n",
    "matrix.head()"
   ],
   "metadata": {
    "collapsed": false,
    "pycharm": {
     "name": "#%%\n"
    }
   }
  },
  {
   "cell_type": "markdown",
   "source": [
    "Normalize users"
   ],
   "metadata": {
    "collapsed": false,
    "pycharm": {
     "name": "#%% md\n"
    }
   }
  },
  {
   "cell_type": "code",
   "execution_count": 66,
   "outputs": [
    {
     "data": {
      "text/plain": "title   2001: A Space Odyssey (1968)  Ace Ventura: Pet Detective (1994)  \\\nuserId                                                                    \n1                                NaN                                NaN   \n2                                NaN                                NaN   \n3                                NaN                                NaN   \n4                                NaN                                NaN   \n5                                NaN                          -0.461538   \n\ntitle   Aladdin (1992)  Alien (1979)  Aliens (1986)  \\\nuserId                                                \n1                  NaN     -0.392857            NaN   \n2                  NaN           NaN            NaN   \n3                  NaN           NaN            NaN   \n4             0.617647           NaN            NaN   \n5             0.538462           NaN            NaN   \n\ntitle   Amelie (Fabuleux destin d'Amélie Poulain, Le) (2001)  \\\nuserId                                                         \n1                                                     NaN      \n2                                                     NaN      \n3                                                     NaN      \n4                                                     NaN      \n5                                                     NaN      \n\ntitle   American Beauty (1999)  American History X (1998)  \\\nuserId                                                      \n1                     0.607143                   0.607143   \n2                          NaN                        NaN   \n3                          NaN                        NaN   \n4                     1.617647                        NaN   \n5                          NaN                        NaN   \n\ntitle   American Pie (1999)  Apocalypse Now (1979)  ...  True Lies (1994)  \\\nuserId                                              ...                     \n1                       NaN              -0.392857  ...               NaN   \n2                       NaN                    NaN  ...               NaN   \n3                       NaN                    NaN  ...               NaN   \n4                       NaN                    NaN  ...               NaN   \n5                       NaN                    NaN  ...         -1.461538   \n\ntitle   Truman Show, The (1998)  Twelve Monkeys (a.k.a. 12 Monkeys) (1995)  \\\nuserId                                                                       \n1                           NaN                                        NaN   \n2                           NaN                                        NaN   \n3                           NaN                                        NaN   \n4                           NaN                                  -1.382353   \n5                           NaN                                        NaN   \n\ntitle   Twister (1996)  Up (2009)  Usual Suspects, The (1995)  WALL·E (2008)  \\\nuserId                                                                         \n1            -1.392857        NaN                    0.607143            NaN   \n2                  NaN        NaN                         NaN            NaN   \n3                  NaN        NaN                         NaN            NaN   \n4                  NaN        NaN                         NaN            NaN   \n5                  NaN        NaN                    0.538462            NaN   \n\ntitle   Waterworld (1995)  Willy Wonka & the Chocolate Factory (1971)  \\\nuserId                                                                  \n1                     NaN                                    0.607143   \n2                     NaN                                         NaN   \n3                     NaN                                         NaN   \n4                     NaN                                    0.617647   \n5                     NaN                                         NaN   \n\ntitle   X-Men (2000)  \nuserId                \n1           0.607143  \n2                NaN  \n3                NaN  \n4                NaN  \n5                NaN  \n\n[5 rows x 134 columns]",
      "text/html": "<div>\n<style scoped>\n    .dataframe tbody tr th:only-of-type {\n        vertical-align: middle;\n    }\n\n    .dataframe tbody tr th {\n        vertical-align: top;\n    }\n\n    .dataframe thead th {\n        text-align: right;\n    }\n</style>\n<table border=\"1\" class=\"dataframe\">\n  <thead>\n    <tr style=\"text-align: right;\">\n      <th>title</th>\n      <th>2001: A Space Odyssey (1968)</th>\n      <th>Ace Ventura: Pet Detective (1994)</th>\n      <th>Aladdin (1992)</th>\n      <th>Alien (1979)</th>\n      <th>Aliens (1986)</th>\n      <th>Amelie (Fabuleux destin d'Amélie Poulain, Le) (2001)</th>\n      <th>American Beauty (1999)</th>\n      <th>American History X (1998)</th>\n      <th>American Pie (1999)</th>\n      <th>Apocalypse Now (1979)</th>\n      <th>...</th>\n      <th>True Lies (1994)</th>\n      <th>Truman Show, The (1998)</th>\n      <th>Twelve Monkeys (a.k.a. 12 Monkeys) (1995)</th>\n      <th>Twister (1996)</th>\n      <th>Up (2009)</th>\n      <th>Usual Suspects, The (1995)</th>\n      <th>WALL·E (2008)</th>\n      <th>Waterworld (1995)</th>\n      <th>Willy Wonka &amp; the Chocolate Factory (1971)</th>\n      <th>X-Men (2000)</th>\n    </tr>\n    <tr>\n      <th>userId</th>\n      <th></th>\n      <th></th>\n      <th></th>\n      <th></th>\n      <th></th>\n      <th></th>\n      <th></th>\n      <th></th>\n      <th></th>\n      <th></th>\n      <th></th>\n      <th></th>\n      <th></th>\n      <th></th>\n      <th></th>\n      <th></th>\n      <th></th>\n      <th></th>\n      <th></th>\n      <th></th>\n      <th></th>\n    </tr>\n  </thead>\n  <tbody>\n    <tr>\n      <th>1</th>\n      <td>NaN</td>\n      <td>NaN</td>\n      <td>NaN</td>\n      <td>-0.392857</td>\n      <td>NaN</td>\n      <td>NaN</td>\n      <td>0.607143</td>\n      <td>0.607143</td>\n      <td>NaN</td>\n      <td>-0.392857</td>\n      <td>...</td>\n      <td>NaN</td>\n      <td>NaN</td>\n      <td>NaN</td>\n      <td>-1.392857</td>\n      <td>NaN</td>\n      <td>0.607143</td>\n      <td>NaN</td>\n      <td>NaN</td>\n      <td>0.607143</td>\n      <td>0.607143</td>\n    </tr>\n    <tr>\n      <th>2</th>\n      <td>NaN</td>\n      <td>NaN</td>\n      <td>NaN</td>\n      <td>NaN</td>\n      <td>NaN</td>\n      <td>NaN</td>\n      <td>NaN</td>\n      <td>NaN</td>\n      <td>NaN</td>\n      <td>NaN</td>\n      <td>...</td>\n      <td>NaN</td>\n      <td>NaN</td>\n      <td>NaN</td>\n      <td>NaN</td>\n      <td>NaN</td>\n      <td>NaN</td>\n      <td>NaN</td>\n      <td>NaN</td>\n      <td>NaN</td>\n      <td>NaN</td>\n    </tr>\n    <tr>\n      <th>3</th>\n      <td>NaN</td>\n      <td>NaN</td>\n      <td>NaN</td>\n      <td>NaN</td>\n      <td>NaN</td>\n      <td>NaN</td>\n      <td>NaN</td>\n      <td>NaN</td>\n      <td>NaN</td>\n      <td>NaN</td>\n      <td>...</td>\n      <td>NaN</td>\n      <td>NaN</td>\n      <td>NaN</td>\n      <td>NaN</td>\n      <td>NaN</td>\n      <td>NaN</td>\n      <td>NaN</td>\n      <td>NaN</td>\n      <td>NaN</td>\n      <td>NaN</td>\n    </tr>\n    <tr>\n      <th>4</th>\n      <td>NaN</td>\n      <td>NaN</td>\n      <td>0.617647</td>\n      <td>NaN</td>\n      <td>NaN</td>\n      <td>NaN</td>\n      <td>1.617647</td>\n      <td>NaN</td>\n      <td>NaN</td>\n      <td>NaN</td>\n      <td>...</td>\n      <td>NaN</td>\n      <td>NaN</td>\n      <td>-1.382353</td>\n      <td>NaN</td>\n      <td>NaN</td>\n      <td>NaN</td>\n      <td>NaN</td>\n      <td>NaN</td>\n      <td>0.617647</td>\n      <td>NaN</td>\n    </tr>\n    <tr>\n      <th>5</th>\n      <td>NaN</td>\n      <td>-0.461538</td>\n      <td>0.538462</td>\n      <td>NaN</td>\n      <td>NaN</td>\n      <td>NaN</td>\n      <td>NaN</td>\n      <td>NaN</td>\n      <td>NaN</td>\n      <td>NaN</td>\n      <td>...</td>\n      <td>-1.461538</td>\n      <td>NaN</td>\n      <td>NaN</td>\n      <td>NaN</td>\n      <td>NaN</td>\n      <td>0.538462</td>\n      <td>NaN</td>\n      <td>NaN</td>\n      <td>NaN</td>\n      <td>NaN</td>\n    </tr>\n  </tbody>\n</table>\n<p>5 rows × 134 columns</p>\n</div>"
     },
     "execution_count": 66,
     "metadata": {},
     "output_type": "execute_result"
    }
   ],
   "source": [
    "matrix_norm = matrix.subtract(matrix.mean(axis=1), axis = 'rows')\n",
    "matrix_norm.head()"
   ],
   "metadata": {
    "collapsed": false,
    "pycharm": {
     "name": "#%%\n"
    }
   }
  },
  {
   "cell_type": "markdown",
   "source": [
    "Identify similar users"
   ],
   "metadata": {
    "collapsed": false,
    "pycharm": {
     "name": "#%% md\n"
    }
   }
  },
  {
   "cell_type": "code",
   "execution_count": 67,
   "outputs": [
    {
     "data": {
      "text/plain": "userId       1    2    3         4         5         6         7         8    \\\nuserId                                                                         \n1       1.000000  NaN  NaN  0.391797  0.180151 -0.439941 -0.029894  0.464277   \n2            NaN  1.0  NaN       NaN       NaN       NaN       NaN       NaN   \n3            NaN  NaN  NaN       NaN       NaN       NaN       NaN       NaN   \n4       0.391797  NaN  NaN  1.000000 -0.394823  0.421927  0.704669  0.055442   \n5       0.180151  NaN  NaN -0.394823  1.000000 -0.006888  0.328889  0.030168   \n\nuserId  9         10   ...       601       602       603       604       605  \\\nuserId                 ...                                                     \n1       1.0 -0.037987  ...  0.091574  0.254514  0.101482 -0.500000  0.780020   \n2       NaN  1.000000  ... -0.583333       NaN -1.000000       NaN       NaN   \n3       NaN       NaN  ...       NaN       NaN       NaN       NaN       NaN   \n4       NaN  0.360399  ... -0.239325  0.562500  0.162301 -0.158114  0.905134   \n5       NaN -0.777714  ...  0.000000  0.231642  0.131108  0.068621 -0.245026   \n\nuserId       606       607       608       609       610  \nuserId                                                    \n1       0.303854 -0.012077  0.242309 -0.175412  0.071553  \n2       0.583333       NaN -0.229416       NaN  0.765641  \n3            NaN       NaN       NaN       NaN       NaN  \n4       0.021898 -0.020659 -0.286872       NaN -0.050868  \n5       0.377341  0.228218  0.263139  0.384111  0.040582  \n\n[5 rows x 597 columns]",
      "text/html": "<div>\n<style scoped>\n    .dataframe tbody tr th:only-of-type {\n        vertical-align: middle;\n    }\n\n    .dataframe tbody tr th {\n        vertical-align: top;\n    }\n\n    .dataframe thead th {\n        text-align: right;\n    }\n</style>\n<table border=\"1\" class=\"dataframe\">\n  <thead>\n    <tr style=\"text-align: right;\">\n      <th>userId</th>\n      <th>1</th>\n      <th>2</th>\n      <th>3</th>\n      <th>4</th>\n      <th>5</th>\n      <th>6</th>\n      <th>7</th>\n      <th>8</th>\n      <th>9</th>\n      <th>10</th>\n      <th>...</th>\n      <th>601</th>\n      <th>602</th>\n      <th>603</th>\n      <th>604</th>\n      <th>605</th>\n      <th>606</th>\n      <th>607</th>\n      <th>608</th>\n      <th>609</th>\n      <th>610</th>\n    </tr>\n    <tr>\n      <th>userId</th>\n      <th></th>\n      <th></th>\n      <th></th>\n      <th></th>\n      <th></th>\n      <th></th>\n      <th></th>\n      <th></th>\n      <th></th>\n      <th></th>\n      <th></th>\n      <th></th>\n      <th></th>\n      <th></th>\n      <th></th>\n      <th></th>\n      <th></th>\n      <th></th>\n      <th></th>\n      <th></th>\n      <th></th>\n    </tr>\n  </thead>\n  <tbody>\n    <tr>\n      <th>1</th>\n      <td>1.000000</td>\n      <td>NaN</td>\n      <td>NaN</td>\n      <td>0.391797</td>\n      <td>0.180151</td>\n      <td>-0.439941</td>\n      <td>-0.029894</td>\n      <td>0.464277</td>\n      <td>1.0</td>\n      <td>-0.037987</td>\n      <td>...</td>\n      <td>0.091574</td>\n      <td>0.254514</td>\n      <td>0.101482</td>\n      <td>-0.500000</td>\n      <td>0.780020</td>\n      <td>0.303854</td>\n      <td>-0.012077</td>\n      <td>0.242309</td>\n      <td>-0.175412</td>\n      <td>0.071553</td>\n    </tr>\n    <tr>\n      <th>2</th>\n      <td>NaN</td>\n      <td>1.0</td>\n      <td>NaN</td>\n      <td>NaN</td>\n      <td>NaN</td>\n      <td>NaN</td>\n      <td>NaN</td>\n      <td>NaN</td>\n      <td>NaN</td>\n      <td>1.000000</td>\n      <td>...</td>\n      <td>-0.583333</td>\n      <td>NaN</td>\n      <td>-1.000000</td>\n      <td>NaN</td>\n      <td>NaN</td>\n      <td>0.583333</td>\n      <td>NaN</td>\n      <td>-0.229416</td>\n      <td>NaN</td>\n      <td>0.765641</td>\n    </tr>\n    <tr>\n      <th>3</th>\n      <td>NaN</td>\n      <td>NaN</td>\n      <td>NaN</td>\n      <td>NaN</td>\n      <td>NaN</td>\n      <td>NaN</td>\n      <td>NaN</td>\n      <td>NaN</td>\n      <td>NaN</td>\n      <td>NaN</td>\n      <td>...</td>\n      <td>NaN</td>\n      <td>NaN</td>\n      <td>NaN</td>\n      <td>NaN</td>\n      <td>NaN</td>\n      <td>NaN</td>\n      <td>NaN</td>\n      <td>NaN</td>\n      <td>NaN</td>\n      <td>NaN</td>\n    </tr>\n    <tr>\n      <th>4</th>\n      <td>0.391797</td>\n      <td>NaN</td>\n      <td>NaN</td>\n      <td>1.000000</td>\n      <td>-0.394823</td>\n      <td>0.421927</td>\n      <td>0.704669</td>\n      <td>0.055442</td>\n      <td>NaN</td>\n      <td>0.360399</td>\n      <td>...</td>\n      <td>-0.239325</td>\n      <td>0.562500</td>\n      <td>0.162301</td>\n      <td>-0.158114</td>\n      <td>0.905134</td>\n      <td>0.021898</td>\n      <td>-0.020659</td>\n      <td>-0.286872</td>\n      <td>NaN</td>\n      <td>-0.050868</td>\n    </tr>\n    <tr>\n      <th>5</th>\n      <td>0.180151</td>\n      <td>NaN</td>\n      <td>NaN</td>\n      <td>-0.394823</td>\n      <td>1.000000</td>\n      <td>-0.006888</td>\n      <td>0.328889</td>\n      <td>0.030168</td>\n      <td>NaN</td>\n      <td>-0.777714</td>\n      <td>...</td>\n      <td>0.000000</td>\n      <td>0.231642</td>\n      <td>0.131108</td>\n      <td>0.068621</td>\n      <td>-0.245026</td>\n      <td>0.377341</td>\n      <td>0.228218</td>\n      <td>0.263139</td>\n      <td>0.384111</td>\n      <td>0.040582</td>\n    </tr>\n  </tbody>\n</table>\n<p>5 rows × 597 columns</p>\n</div>"
     },
     "execution_count": 67,
     "metadata": {},
     "output_type": "execute_result"
    }
   ],
   "source": [
    "user_similarity = matrix_norm.T.corr()\n",
    "user_similarity.head()"
   ],
   "metadata": {
    "collapsed": false,
    "pycharm": {
     "name": "#%%\n"
    }
   }
  },
  {
   "cell_type": "markdown",
   "source": [
    "Pick user"
   ],
   "metadata": {
    "collapsed": false,
    "pycharm": {
     "name": "#%% md\n"
    }
   }
  },
  {
   "cell_type": "code",
   "execution_count": 68,
   "outputs": [
    {
     "data": {
      "text/plain": "userId       1    2    3         4         5         6         7         8    \\\nuserId                                                                         \n1       1.000000  NaN  NaN  0.391797  0.180151 -0.439941 -0.029894  0.464277   \n2            NaN  1.0  NaN       NaN       NaN       NaN       NaN       NaN   \n3            NaN  NaN  NaN       NaN       NaN       NaN       NaN       NaN   \n4       0.391797  NaN  NaN  1.000000 -0.394823  0.421927  0.704669  0.055442   \n5       0.180151  NaN  NaN -0.394823  1.000000 -0.006888  0.328889  0.030168   \n\nuserId  9         10   ...       601       602       603       604       605  \\\nuserId                 ...                                                     \n1       1.0 -0.037987  ...  0.091574  0.254514  0.101482 -0.500000  0.780020   \n2       NaN  1.000000  ... -0.583333       NaN -1.000000       NaN       NaN   \n3       NaN       NaN  ...       NaN       NaN       NaN       NaN       NaN   \n4       NaN  0.360399  ... -0.239325  0.562500  0.162301 -0.158114  0.905134   \n5       NaN -0.777714  ...  0.000000  0.231642  0.131108  0.068621 -0.245026   \n\nuserId       606       607       608       609       610  \nuserId                                                    \n1       0.303854 -0.012077  0.242309 -0.175412  0.071553  \n2       0.583333       NaN -0.229416       NaN  0.765641  \n3            NaN       NaN       NaN       NaN       NaN  \n4       0.021898 -0.020659 -0.286872       NaN -0.050868  \n5       0.377341  0.228218  0.263139  0.384111  0.040582  \n\n[5 rows x 597 columns]",
      "text/html": "<div>\n<style scoped>\n    .dataframe tbody tr th:only-of-type {\n        vertical-align: middle;\n    }\n\n    .dataframe tbody tr th {\n        vertical-align: top;\n    }\n\n    .dataframe thead th {\n        text-align: right;\n    }\n</style>\n<table border=\"1\" class=\"dataframe\">\n  <thead>\n    <tr style=\"text-align: right;\">\n      <th>userId</th>\n      <th>1</th>\n      <th>2</th>\n      <th>3</th>\n      <th>4</th>\n      <th>5</th>\n      <th>6</th>\n      <th>7</th>\n      <th>8</th>\n      <th>9</th>\n      <th>10</th>\n      <th>...</th>\n      <th>601</th>\n      <th>602</th>\n      <th>603</th>\n      <th>604</th>\n      <th>605</th>\n      <th>606</th>\n      <th>607</th>\n      <th>608</th>\n      <th>609</th>\n      <th>610</th>\n    </tr>\n    <tr>\n      <th>userId</th>\n      <th></th>\n      <th></th>\n      <th></th>\n      <th></th>\n      <th></th>\n      <th></th>\n      <th></th>\n      <th></th>\n      <th></th>\n      <th></th>\n      <th></th>\n      <th></th>\n      <th></th>\n      <th></th>\n      <th></th>\n      <th></th>\n      <th></th>\n      <th></th>\n      <th></th>\n      <th></th>\n      <th></th>\n    </tr>\n  </thead>\n  <tbody>\n    <tr>\n      <th>1</th>\n      <td>1.000000</td>\n      <td>NaN</td>\n      <td>NaN</td>\n      <td>0.391797</td>\n      <td>0.180151</td>\n      <td>-0.439941</td>\n      <td>-0.029894</td>\n      <td>0.464277</td>\n      <td>1.0</td>\n      <td>-0.037987</td>\n      <td>...</td>\n      <td>0.091574</td>\n      <td>0.254514</td>\n      <td>0.101482</td>\n      <td>-0.500000</td>\n      <td>0.780020</td>\n      <td>0.303854</td>\n      <td>-0.012077</td>\n      <td>0.242309</td>\n      <td>-0.175412</td>\n      <td>0.071553</td>\n    </tr>\n    <tr>\n      <th>2</th>\n      <td>NaN</td>\n      <td>1.0</td>\n      <td>NaN</td>\n      <td>NaN</td>\n      <td>NaN</td>\n      <td>NaN</td>\n      <td>NaN</td>\n      <td>NaN</td>\n      <td>NaN</td>\n      <td>1.000000</td>\n      <td>...</td>\n      <td>-0.583333</td>\n      <td>NaN</td>\n      <td>-1.000000</td>\n      <td>NaN</td>\n      <td>NaN</td>\n      <td>0.583333</td>\n      <td>NaN</td>\n      <td>-0.229416</td>\n      <td>NaN</td>\n      <td>0.765641</td>\n    </tr>\n    <tr>\n      <th>3</th>\n      <td>NaN</td>\n      <td>NaN</td>\n      <td>NaN</td>\n      <td>NaN</td>\n      <td>NaN</td>\n      <td>NaN</td>\n      <td>NaN</td>\n      <td>NaN</td>\n      <td>NaN</td>\n      <td>NaN</td>\n      <td>...</td>\n      <td>NaN</td>\n      <td>NaN</td>\n      <td>NaN</td>\n      <td>NaN</td>\n      <td>NaN</td>\n      <td>NaN</td>\n      <td>NaN</td>\n      <td>NaN</td>\n      <td>NaN</td>\n      <td>NaN</td>\n    </tr>\n    <tr>\n      <th>4</th>\n      <td>0.391797</td>\n      <td>NaN</td>\n      <td>NaN</td>\n      <td>1.000000</td>\n      <td>-0.394823</td>\n      <td>0.421927</td>\n      <td>0.704669</td>\n      <td>0.055442</td>\n      <td>NaN</td>\n      <td>0.360399</td>\n      <td>...</td>\n      <td>-0.239325</td>\n      <td>0.562500</td>\n      <td>0.162301</td>\n      <td>-0.158114</td>\n      <td>0.905134</td>\n      <td>0.021898</td>\n      <td>-0.020659</td>\n      <td>-0.286872</td>\n      <td>NaN</td>\n      <td>-0.050868</td>\n    </tr>\n    <tr>\n      <th>5</th>\n      <td>0.180151</td>\n      <td>NaN</td>\n      <td>NaN</td>\n      <td>-0.394823</td>\n      <td>1.000000</td>\n      <td>-0.006888</td>\n      <td>0.328889</td>\n      <td>0.030168</td>\n      <td>NaN</td>\n      <td>-0.777714</td>\n      <td>...</td>\n      <td>0.000000</td>\n      <td>0.231642</td>\n      <td>0.131108</td>\n      <td>0.068621</td>\n      <td>-0.245026</td>\n      <td>0.377341</td>\n      <td>0.228218</td>\n      <td>0.263139</td>\n      <td>0.384111</td>\n      <td>0.040582</td>\n    </tr>\n  </tbody>\n</table>\n<p>5 rows × 597 columns</p>\n</div>"
     },
     "execution_count": 68,
     "metadata": {},
     "output_type": "execute_result"
    }
   ],
   "source": [
    "# Pick a user ID\n",
    "picked_userid = 200\n",
    "# Remove picked user ID from the candidate list\n",
    "user_similarity.drop(index=picked_userid, inplace=True)\n",
    "# Take a look at the data\n",
    "user_similarity.head()"
   ],
   "metadata": {
    "collapsed": false,
    "pycharm": {
     "name": "#%%\n"
    }
   }
  },
  {
   "cell_type": "code",
   "execution_count": 69,
   "outputs": [
    {
     "name": "stdout",
     "output_type": "stream",
     "text": [
      "The similar users for user 200 are userId\n",
      "502    1.000000\n",
      "163    1.000000\n",
      "157    1.000000\n",
      "250    1.000000\n",
      "90     0.984732\n",
      "36     0.981981\n",
      "44     0.976187\n",
      "214    0.958373\n",
      "496    0.953959\n",
      "299    0.931552\n",
      "Name: 200, dtype: float64\n"
     ]
    }
   ],
   "source": [
    "# Number of similar users\n",
    "n = 10\n",
    "# User similarity threashold\n",
    "user_similarity_threshold = 0.3\n",
    "# Get top n similar users\n",
    "similar_users = user_similarity[user_similarity[picked_userid]>user_similarity_threshold][picked_userid].sort_values(ascending=False)[:n]\n",
    "# Print out top n similar users\n",
    "print(f'The similar users for user {picked_userid} are', similar_users)"
   ],
   "metadata": {
    "collapsed": false,
    "pycharm": {
     "name": "#%%\n"
    }
   }
  },
  {
   "cell_type": "code",
   "execution_count": 70,
   "outputs": [
    {
     "data": {
      "text/plain": "title   Ace Ventura: Pet Detective (1994)  Aladdin (1992)  Alien (1979)  \\\nuserId                                                                    \n200                             -0.019737       -0.019737     -0.519737   \n\ntitle   Amelie (Fabuleux destin d'Amélie Poulain, Le) (2001)  \\\nuserId                                                         \n200                                              0.980263      \n\ntitle   American Beauty (1999)  Apollo 13 (1995)  \\\nuserId                                             \n200                  -0.519737         -0.019737   \n\ntitle   Austin Powers: The Spy Who Shagged Me (1999)  Babe (1995)  \\\nuserId                                                              \n200                                        -0.019737    -1.519737   \n\ntitle   Back to the Future (1985)  Batman Begins (2005)  ...  \\\nuserId                                                   ...   \n200                     -0.019737             -0.019737  ...   \n\ntitle   Star Wars: Episode IV - A New Hope (1977)  \\\nuserId                                              \n200                                      0.980263   \n\ntitle   Star Wars: Episode V - The Empire Strikes Back (1980)  \\\nuserId                                                          \n200                                              0.980263       \n\ntitle   Star Wars: Episode VI - Return of the Jedi (1983)  \\\nuserId                                                      \n200                                              0.980263   \n\ntitle   There's Something About Mary (1998)  Titanic (1997)  Toy Story (1995)  \\\nuserId                                                                          \n200                               -0.019737       -1.519737         -0.519737   \n\ntitle   Truman Show, The (1998)  Twister (1996)  \\\nuserId                                            \n200                   -0.519737       -2.019737   \n\ntitle   Willy Wonka & the Chocolate Factory (1971)  X-Men (2000)  \nuserId                                                            \n200                                      -0.019737     -0.019737  \n\n[1 rows x 76 columns]",
      "text/html": "<div>\n<style scoped>\n    .dataframe tbody tr th:only-of-type {\n        vertical-align: middle;\n    }\n\n    .dataframe tbody tr th {\n        vertical-align: top;\n    }\n\n    .dataframe thead th {\n        text-align: right;\n    }\n</style>\n<table border=\"1\" class=\"dataframe\">\n  <thead>\n    <tr style=\"text-align: right;\">\n      <th>title</th>\n      <th>Ace Ventura: Pet Detective (1994)</th>\n      <th>Aladdin (1992)</th>\n      <th>Alien (1979)</th>\n      <th>Amelie (Fabuleux destin d'Amélie Poulain, Le) (2001)</th>\n      <th>American Beauty (1999)</th>\n      <th>Apollo 13 (1995)</th>\n      <th>Austin Powers: The Spy Who Shagged Me (1999)</th>\n      <th>Babe (1995)</th>\n      <th>Back to the Future (1985)</th>\n      <th>Batman Begins (2005)</th>\n      <th>...</th>\n      <th>Star Wars: Episode IV - A New Hope (1977)</th>\n      <th>Star Wars: Episode V - The Empire Strikes Back (1980)</th>\n      <th>Star Wars: Episode VI - Return of the Jedi (1983)</th>\n      <th>There's Something About Mary (1998)</th>\n      <th>Titanic (1997)</th>\n      <th>Toy Story (1995)</th>\n      <th>Truman Show, The (1998)</th>\n      <th>Twister (1996)</th>\n      <th>Willy Wonka &amp; the Chocolate Factory (1971)</th>\n      <th>X-Men (2000)</th>\n    </tr>\n    <tr>\n      <th>userId</th>\n      <th></th>\n      <th></th>\n      <th></th>\n      <th></th>\n      <th></th>\n      <th></th>\n      <th></th>\n      <th></th>\n      <th></th>\n      <th></th>\n      <th></th>\n      <th></th>\n      <th></th>\n      <th></th>\n      <th></th>\n      <th></th>\n      <th></th>\n      <th></th>\n      <th></th>\n      <th></th>\n      <th></th>\n    </tr>\n  </thead>\n  <tbody>\n    <tr>\n      <th>200</th>\n      <td>-0.019737</td>\n      <td>-0.019737</td>\n      <td>-0.519737</td>\n      <td>0.980263</td>\n      <td>-0.519737</td>\n      <td>-0.019737</td>\n      <td>-0.019737</td>\n      <td>-1.519737</td>\n      <td>-0.019737</td>\n      <td>-0.019737</td>\n      <td>...</td>\n      <td>0.980263</td>\n      <td>0.980263</td>\n      <td>0.980263</td>\n      <td>-0.019737</td>\n      <td>-1.519737</td>\n      <td>-0.519737</td>\n      <td>-0.519737</td>\n      <td>-2.019737</td>\n      <td>-0.019737</td>\n      <td>-0.019737</td>\n    </tr>\n  </tbody>\n</table>\n<p>1 rows × 76 columns</p>\n</div>"
     },
     "execution_count": 70,
     "metadata": {},
     "output_type": "execute_result"
    }
   ],
   "source": [
    "# Movies that the target user has watched\n",
    "picked_userid_watched = matrix_norm[matrix_norm.index == picked_userid].dropna(axis=1, how='all')\n",
    "picked_userid_watched"
   ],
   "metadata": {
    "collapsed": false,
    "pycharm": {
     "name": "#%%\n"
    }
   }
  },
  {
   "cell_type": "code",
   "execution_count": 71,
   "outputs": [
    {
     "data": {
      "text/plain": "title   Alien (1979)  Austin Powers: The Spy Who Shagged Me (1999)  \\\nuserId                                                               \n36               NaN                                           NaN   \n44               NaN                                           NaN   \n90               NaN                                           NaN   \n157              NaN                                          -0.2   \n163              NaN                                           NaN   \n214              NaN                                           NaN   \n250              NaN                                           NaN   \n299           -0.625                                           NaN   \n496              NaN                                           NaN   \n502           -0.375                                           NaN   \n\ntitle   Back to the Future (1985)  Beautiful Mind, A (2001)  \\\nuserId                                                        \n36                            NaN                    -1.625   \n44                            NaN                       NaN   \n90                            NaN                       NaN   \n157                          -0.2                       NaN   \n163                           NaN                       NaN   \n214                           NaN                       NaN   \n250                           NaN                       NaN   \n299                           NaN                       NaN   \n496                           NaN                       NaN   \n502                           NaN                       NaN   \n\ntitle   Clockwork Orange, A (1971)  Dark Knight, The (2008)  Fargo (1996)  \\\nuserId                                                                      \n36                             NaN                      NaN           NaN   \n44                             NaN                      NaN           NaN   \n90                             NaN                      NaN           1.0   \n157                            NaN                      NaN           NaN   \n163                            NaN                      NaN           NaN   \n214                            NaN                      NaN           NaN   \n250                            NaN                      NaN           NaN   \n299                            NaN                      NaN           NaN   \n496                            NaN                 0.428571           NaN   \n502                          0.125                      NaN           NaN   \n\ntitle   Fight Club (1999)  Full Metal Jacket (1987)  \\\nuserId                                                \n36                    NaN                    -0.125   \n44                    NaN                       NaN   \n90                    NaN                       NaN   \n157                   0.8                       NaN   \n163                   NaN                       NaN   \n214                   NaN                       NaN   \n250                   NaN                       NaN   \n299                   NaN                       NaN   \n496                   NaN                       NaN   \n502                   NaN                       NaN   \n\ntitle   Ghostbusters (a.k.a. Ghost Busters) (1984)  ...  Shrek (2001)  \\\nuserId                                              ...                 \n36                                             NaN  ...           NaN   \n44                                             NaN  ...           NaN   \n90                                             NaN  ...           NaN   \n157                                            NaN  ...           NaN   \n163                                            NaN  ...           NaN   \n214                                            NaN  ...           NaN   \n250                                            NaN  ...           NaN   \n299                                          0.375  ...           NaN   \n496                                            NaN  ...     -1.071429   \n502                                            NaN  ...           NaN   \n\ntitle   Star Wars: Episode I - The Phantom Menace (1999)  \\\nuserId                                                     \n36                                                   NaN   \n44                                                   NaN   \n90                                                   NaN   \n157                                                  NaN   \n163                                                  NaN   \n214                                                  NaN   \n250                                                  NaN   \n299                                               -1.625   \n496                                                  NaN   \n502                                                  NaN   \n\ntitle   Star Wars: Episode IV - A New Hope (1977)  \\\nuserId                                              \n36                                            NaN   \n44                                          1.375   \n90                                          1.000   \n157                                           NaN   \n163                                           NaN   \n214                                           NaN   \n250                                           NaN   \n299                                           NaN   \n496                                           NaN   \n502                                           NaN   \n\ntitle   Star Wars: Episode VI - Return of the Jedi (1983)  Titanic (1997)  \\\nuserId                                                                      \n36                                                    NaN             NaN   \n44                                                  1.375             NaN   \n90                                                    NaN             NaN   \n157                                                   NaN             NaN   \n163                                                   NaN            -0.5   \n214                                                   NaN             NaN   \n250                                                   NaN             NaN   \n299                                                   NaN             NaN   \n496                                                   NaN             NaN   \n502                                                   NaN             NaN   \n\ntitle   Toy Story (1995)  Twelve Monkeys (a.k.a. 12 Monkeys) (1995)  \\\nuserId                                                                \n36                   NaN                                        NaN   \n44                -0.625                                        NaN   \n90                -1.000                                        0.0   \n157                  NaN                                        NaN   \n163                  NaN                                        NaN   \n214                0.200                                        NaN   \n250                  NaN                                        NaN   \n299                  NaN                                        NaN   \n496                  NaN                                        NaN   \n502                  NaN                                        NaN   \n\ntitle   Twister (1996)  Willy Wonka & the Chocolate Factory (1971)  \\\nuserId                                                               \n36                 NaN                                         NaN   \n44              -1.625                                         NaN   \n90                 NaN                                         0.0   \n157                NaN                                         NaN   \n163                NaN                                         NaN   \n214             -0.800                                         0.2   \n250                NaN                                         NaN   \n299                NaN                                         NaN   \n496                NaN                                         NaN   \n502                NaN                                         NaN   \n\ntitle   X-Men (2000)  \nuserId                \n36               NaN  \n44               NaN  \n90               NaN  \n157              NaN  \n163              NaN  \n214              NaN  \n250              NaN  \n299            0.375  \n496              NaN  \n502              NaN  \n\n[10 rows x 39 columns]",
      "text/html": "<div>\n<style scoped>\n    .dataframe tbody tr th:only-of-type {\n        vertical-align: middle;\n    }\n\n    .dataframe tbody tr th {\n        vertical-align: top;\n    }\n\n    .dataframe thead th {\n        text-align: right;\n    }\n</style>\n<table border=\"1\" class=\"dataframe\">\n  <thead>\n    <tr style=\"text-align: right;\">\n      <th>title</th>\n      <th>Alien (1979)</th>\n      <th>Austin Powers: The Spy Who Shagged Me (1999)</th>\n      <th>Back to the Future (1985)</th>\n      <th>Beautiful Mind, A (2001)</th>\n      <th>Clockwork Orange, A (1971)</th>\n      <th>Dark Knight, The (2008)</th>\n      <th>Fargo (1996)</th>\n      <th>Fight Club (1999)</th>\n      <th>Full Metal Jacket (1987)</th>\n      <th>Ghostbusters (a.k.a. Ghost Busters) (1984)</th>\n      <th>...</th>\n      <th>Shrek (2001)</th>\n      <th>Star Wars: Episode I - The Phantom Menace (1999)</th>\n      <th>Star Wars: Episode IV - A New Hope (1977)</th>\n      <th>Star Wars: Episode VI - Return of the Jedi (1983)</th>\n      <th>Titanic (1997)</th>\n      <th>Toy Story (1995)</th>\n      <th>Twelve Monkeys (a.k.a. 12 Monkeys) (1995)</th>\n      <th>Twister (1996)</th>\n      <th>Willy Wonka &amp; the Chocolate Factory (1971)</th>\n      <th>X-Men (2000)</th>\n    </tr>\n    <tr>\n      <th>userId</th>\n      <th></th>\n      <th></th>\n      <th></th>\n      <th></th>\n      <th></th>\n      <th></th>\n      <th></th>\n      <th></th>\n      <th></th>\n      <th></th>\n      <th></th>\n      <th></th>\n      <th></th>\n      <th></th>\n      <th></th>\n      <th></th>\n      <th></th>\n      <th></th>\n      <th></th>\n      <th></th>\n      <th></th>\n    </tr>\n  </thead>\n  <tbody>\n    <tr>\n      <th>36</th>\n      <td>NaN</td>\n      <td>NaN</td>\n      <td>NaN</td>\n      <td>-1.625</td>\n      <td>NaN</td>\n      <td>NaN</td>\n      <td>NaN</td>\n      <td>NaN</td>\n      <td>-0.125</td>\n      <td>NaN</td>\n      <td>...</td>\n      <td>NaN</td>\n      <td>NaN</td>\n      <td>NaN</td>\n      <td>NaN</td>\n      <td>NaN</td>\n      <td>NaN</td>\n      <td>NaN</td>\n      <td>NaN</td>\n      <td>NaN</td>\n      <td>NaN</td>\n    </tr>\n    <tr>\n      <th>44</th>\n      <td>NaN</td>\n      <td>NaN</td>\n      <td>NaN</td>\n      <td>NaN</td>\n      <td>NaN</td>\n      <td>NaN</td>\n      <td>NaN</td>\n      <td>NaN</td>\n      <td>NaN</td>\n      <td>NaN</td>\n      <td>...</td>\n      <td>NaN</td>\n      <td>NaN</td>\n      <td>1.375</td>\n      <td>1.375</td>\n      <td>NaN</td>\n      <td>-0.625</td>\n      <td>NaN</td>\n      <td>-1.625</td>\n      <td>NaN</td>\n      <td>NaN</td>\n    </tr>\n    <tr>\n      <th>90</th>\n      <td>NaN</td>\n      <td>NaN</td>\n      <td>NaN</td>\n      <td>NaN</td>\n      <td>NaN</td>\n      <td>NaN</td>\n      <td>1.0</td>\n      <td>NaN</td>\n      <td>NaN</td>\n      <td>NaN</td>\n      <td>...</td>\n      <td>NaN</td>\n      <td>NaN</td>\n      <td>1.000</td>\n      <td>NaN</td>\n      <td>NaN</td>\n      <td>-1.000</td>\n      <td>0.0</td>\n      <td>NaN</td>\n      <td>0.0</td>\n      <td>NaN</td>\n    </tr>\n    <tr>\n      <th>157</th>\n      <td>NaN</td>\n      <td>-0.2</td>\n      <td>-0.2</td>\n      <td>NaN</td>\n      <td>NaN</td>\n      <td>NaN</td>\n      <td>NaN</td>\n      <td>0.8</td>\n      <td>NaN</td>\n      <td>NaN</td>\n      <td>...</td>\n      <td>NaN</td>\n      <td>NaN</td>\n      <td>NaN</td>\n      <td>NaN</td>\n      <td>NaN</td>\n      <td>NaN</td>\n      <td>NaN</td>\n      <td>NaN</td>\n      <td>NaN</td>\n      <td>NaN</td>\n    </tr>\n    <tr>\n      <th>163</th>\n      <td>NaN</td>\n      <td>NaN</td>\n      <td>NaN</td>\n      <td>NaN</td>\n      <td>NaN</td>\n      <td>NaN</td>\n      <td>NaN</td>\n      <td>NaN</td>\n      <td>NaN</td>\n      <td>NaN</td>\n      <td>...</td>\n      <td>NaN</td>\n      <td>NaN</td>\n      <td>NaN</td>\n      <td>NaN</td>\n      <td>-0.5</td>\n      <td>NaN</td>\n      <td>NaN</td>\n      <td>NaN</td>\n      <td>NaN</td>\n      <td>NaN</td>\n    </tr>\n    <tr>\n      <th>214</th>\n      <td>NaN</td>\n      <td>NaN</td>\n      <td>NaN</td>\n      <td>NaN</td>\n      <td>NaN</td>\n      <td>NaN</td>\n      <td>NaN</td>\n      <td>NaN</td>\n      <td>NaN</td>\n      <td>NaN</td>\n      <td>...</td>\n      <td>NaN</td>\n      <td>NaN</td>\n      <td>NaN</td>\n      <td>NaN</td>\n      <td>NaN</td>\n      <td>0.200</td>\n      <td>NaN</td>\n      <td>-0.800</td>\n      <td>0.2</td>\n      <td>NaN</td>\n    </tr>\n    <tr>\n      <th>250</th>\n      <td>NaN</td>\n      <td>NaN</td>\n      <td>NaN</td>\n      <td>NaN</td>\n      <td>NaN</td>\n      <td>NaN</td>\n      <td>NaN</td>\n      <td>NaN</td>\n      <td>NaN</td>\n      <td>NaN</td>\n      <td>...</td>\n      <td>NaN</td>\n      <td>NaN</td>\n      <td>NaN</td>\n      <td>NaN</td>\n      <td>NaN</td>\n      <td>NaN</td>\n      <td>NaN</td>\n      <td>NaN</td>\n      <td>NaN</td>\n      <td>NaN</td>\n    </tr>\n    <tr>\n      <th>299</th>\n      <td>-0.625</td>\n      <td>NaN</td>\n      <td>NaN</td>\n      <td>NaN</td>\n      <td>NaN</td>\n      <td>NaN</td>\n      <td>NaN</td>\n      <td>NaN</td>\n      <td>NaN</td>\n      <td>0.375</td>\n      <td>...</td>\n      <td>NaN</td>\n      <td>-1.625</td>\n      <td>NaN</td>\n      <td>NaN</td>\n      <td>NaN</td>\n      <td>NaN</td>\n      <td>NaN</td>\n      <td>NaN</td>\n      <td>NaN</td>\n      <td>0.375</td>\n    </tr>\n    <tr>\n      <th>496</th>\n      <td>NaN</td>\n      <td>NaN</td>\n      <td>NaN</td>\n      <td>NaN</td>\n      <td>NaN</td>\n      <td>0.428571</td>\n      <td>NaN</td>\n      <td>NaN</td>\n      <td>NaN</td>\n      <td>NaN</td>\n      <td>...</td>\n      <td>-1.071429</td>\n      <td>NaN</td>\n      <td>NaN</td>\n      <td>NaN</td>\n      <td>NaN</td>\n      <td>NaN</td>\n      <td>NaN</td>\n      <td>NaN</td>\n      <td>NaN</td>\n      <td>NaN</td>\n    </tr>\n    <tr>\n      <th>502</th>\n      <td>-0.375</td>\n      <td>NaN</td>\n      <td>NaN</td>\n      <td>NaN</td>\n      <td>0.125</td>\n      <td>NaN</td>\n      <td>NaN</td>\n      <td>NaN</td>\n      <td>NaN</td>\n      <td>NaN</td>\n      <td>...</td>\n      <td>NaN</td>\n      <td>NaN</td>\n      <td>NaN</td>\n      <td>NaN</td>\n      <td>NaN</td>\n      <td>NaN</td>\n      <td>NaN</td>\n      <td>NaN</td>\n      <td>NaN</td>\n      <td>NaN</td>\n    </tr>\n  </tbody>\n</table>\n<p>10 rows × 39 columns</p>\n</div>"
     },
     "execution_count": 71,
     "metadata": {},
     "output_type": "execute_result"
    }
   ],
   "source": [
    "# Movies that similar users watched. Remove movies that none of the similar users have watched\n",
    "similar_user_movies = matrix_norm[matrix_norm.index.isin(similar_users.index)].dropna(axis=1, how='all')\n",
    "similar_user_movies"
   ],
   "metadata": {
    "collapsed": false,
    "pycharm": {
     "name": "#%%\n"
    }
   }
  },
  {
   "cell_type": "code",
   "execution_count": 72,
   "outputs": [
    {
     "data": {
      "text/plain": "title   Clockwork Orange, A (1971)  Fargo (1996)  Full Metal Jacket (1987)  \\\nuserId                                                                       \n36                             NaN           NaN                    -0.125   \n44                             NaN           NaN                       NaN   \n90                             NaN           1.0                       NaN   \n157                            NaN           NaN                       NaN   \n163                            NaN           NaN                       NaN   \n214                            NaN           NaN                       NaN   \n250                            NaN           NaN                       NaN   \n299                            NaN           NaN                       NaN   \n496                            NaN           NaN                       NaN   \n502                          0.125           NaN                       NaN   \n\ntitle   Ghostbusters (a.k.a. Ghost Busters) (1984)  Godfather, The (1972)  \\\nuserId                                                                      \n36                                             NaN                    NaN   \n44                                             NaN                    NaN   \n90                                             NaN                    NaN   \n157                                            NaN                    NaN   \n163                                            NaN                    NaN   \n214                                            NaN                    NaN   \n250                                            NaN                    NaN   \n299                                          0.375                    NaN   \n496                                            NaN               0.928571   \n502                                            NaN                    NaN   \n\ntitle   Godfather: Part II, The (1974)  Green Mile, The (1999)  Heat (1995)  \\\nuserId                                                                        \n36                                 NaN                     NaN          NaN   \n44                                 NaN                     NaN       -0.625   \n90                                 NaN                     NaN          NaN   \n157                                NaN                     NaN          NaN   \n163                                NaN                     NaN          NaN   \n214                                NaN                     NaN          NaN   \n250                                NaN                     NaN          NaN   \n299                                NaN                     NaN          NaN   \n496                          -0.071429                     NaN          NaN   \n502                                NaN                   0.125          NaN   \n\ntitle   Jumanji (1995)  One Flew Over the Cuckoo's Nest (1975)  \\\nuserId                                                           \n36                 NaN                                     NaN   \n44                 NaN                                     NaN   \n90                 NaN                                     NaN   \n157                NaN                                    -1.2   \n163                NaN                                     NaN   \n214                NaN                                     NaN   \n250                NaN                                     NaN   \n299             -0.625                                     NaN   \n496                NaN                                     NaN   \n502                NaN                                     NaN   \n\ntitle   Rock, The (1996)  Schindler's List (1993)  Shining, The (1980)  \\\nuserId                                                                   \n36                   NaN                      NaN                  NaN   \n44                 1.375                      NaN                  NaN   \n90                   NaN                      NaN                  NaN   \n157                  NaN                      0.8                  NaN   \n163                  NaN                      NaN                  NaN   \n214                  NaN                      NaN                  NaN   \n250                  NaN                      NaN                  NaN   \n299                  NaN                      NaN                0.375   \n496                  NaN                      NaN                  NaN   \n502                  NaN                      NaN                  NaN   \n\ntitle   Twelve Monkeys (a.k.a. 12 Monkeys) (1995)  \nuserId                                             \n36                                            NaN  \n44                                            NaN  \n90                                            0.0  \n157                                           NaN  \n163                                           NaN  \n214                                           NaN  \n250                                           NaN  \n299                                           NaN  \n496                                           NaN  \n502                                           NaN  ",
      "text/html": "<div>\n<style scoped>\n    .dataframe tbody tr th:only-of-type {\n        vertical-align: middle;\n    }\n\n    .dataframe tbody tr th {\n        vertical-align: top;\n    }\n\n    .dataframe thead th {\n        text-align: right;\n    }\n</style>\n<table border=\"1\" class=\"dataframe\">\n  <thead>\n    <tr style=\"text-align: right;\">\n      <th>title</th>\n      <th>Clockwork Orange, A (1971)</th>\n      <th>Fargo (1996)</th>\n      <th>Full Metal Jacket (1987)</th>\n      <th>Ghostbusters (a.k.a. Ghost Busters) (1984)</th>\n      <th>Godfather, The (1972)</th>\n      <th>Godfather: Part II, The (1974)</th>\n      <th>Green Mile, The (1999)</th>\n      <th>Heat (1995)</th>\n      <th>Jumanji (1995)</th>\n      <th>One Flew Over the Cuckoo's Nest (1975)</th>\n      <th>Rock, The (1996)</th>\n      <th>Schindler's List (1993)</th>\n      <th>Shining, The (1980)</th>\n      <th>Twelve Monkeys (a.k.a. 12 Monkeys) (1995)</th>\n    </tr>\n    <tr>\n      <th>userId</th>\n      <th></th>\n      <th></th>\n      <th></th>\n      <th></th>\n      <th></th>\n      <th></th>\n      <th></th>\n      <th></th>\n      <th></th>\n      <th></th>\n      <th></th>\n      <th></th>\n      <th></th>\n      <th></th>\n    </tr>\n  </thead>\n  <tbody>\n    <tr>\n      <th>36</th>\n      <td>NaN</td>\n      <td>NaN</td>\n      <td>-0.125</td>\n      <td>NaN</td>\n      <td>NaN</td>\n      <td>NaN</td>\n      <td>NaN</td>\n      <td>NaN</td>\n      <td>NaN</td>\n      <td>NaN</td>\n      <td>NaN</td>\n      <td>NaN</td>\n      <td>NaN</td>\n      <td>NaN</td>\n    </tr>\n    <tr>\n      <th>44</th>\n      <td>NaN</td>\n      <td>NaN</td>\n      <td>NaN</td>\n      <td>NaN</td>\n      <td>NaN</td>\n      <td>NaN</td>\n      <td>NaN</td>\n      <td>-0.625</td>\n      <td>NaN</td>\n      <td>NaN</td>\n      <td>1.375</td>\n      <td>NaN</td>\n      <td>NaN</td>\n      <td>NaN</td>\n    </tr>\n    <tr>\n      <th>90</th>\n      <td>NaN</td>\n      <td>1.0</td>\n      <td>NaN</td>\n      <td>NaN</td>\n      <td>NaN</td>\n      <td>NaN</td>\n      <td>NaN</td>\n      <td>NaN</td>\n      <td>NaN</td>\n      <td>NaN</td>\n      <td>NaN</td>\n      <td>NaN</td>\n      <td>NaN</td>\n      <td>0.0</td>\n    </tr>\n    <tr>\n      <th>157</th>\n      <td>NaN</td>\n      <td>NaN</td>\n      <td>NaN</td>\n      <td>NaN</td>\n      <td>NaN</td>\n      <td>NaN</td>\n      <td>NaN</td>\n      <td>NaN</td>\n      <td>NaN</td>\n      <td>-1.2</td>\n      <td>NaN</td>\n      <td>0.8</td>\n      <td>NaN</td>\n      <td>NaN</td>\n    </tr>\n    <tr>\n      <th>163</th>\n      <td>NaN</td>\n      <td>NaN</td>\n      <td>NaN</td>\n      <td>NaN</td>\n      <td>NaN</td>\n      <td>NaN</td>\n      <td>NaN</td>\n      <td>NaN</td>\n      <td>NaN</td>\n      <td>NaN</td>\n      <td>NaN</td>\n      <td>NaN</td>\n      <td>NaN</td>\n      <td>NaN</td>\n    </tr>\n    <tr>\n      <th>214</th>\n      <td>NaN</td>\n      <td>NaN</td>\n      <td>NaN</td>\n      <td>NaN</td>\n      <td>NaN</td>\n      <td>NaN</td>\n      <td>NaN</td>\n      <td>NaN</td>\n      <td>NaN</td>\n      <td>NaN</td>\n      <td>NaN</td>\n      <td>NaN</td>\n      <td>NaN</td>\n      <td>NaN</td>\n    </tr>\n    <tr>\n      <th>250</th>\n      <td>NaN</td>\n      <td>NaN</td>\n      <td>NaN</td>\n      <td>NaN</td>\n      <td>NaN</td>\n      <td>NaN</td>\n      <td>NaN</td>\n      <td>NaN</td>\n      <td>NaN</td>\n      <td>NaN</td>\n      <td>NaN</td>\n      <td>NaN</td>\n      <td>NaN</td>\n      <td>NaN</td>\n    </tr>\n    <tr>\n      <th>299</th>\n      <td>NaN</td>\n      <td>NaN</td>\n      <td>NaN</td>\n      <td>0.375</td>\n      <td>NaN</td>\n      <td>NaN</td>\n      <td>NaN</td>\n      <td>NaN</td>\n      <td>-0.625</td>\n      <td>NaN</td>\n      <td>NaN</td>\n      <td>NaN</td>\n      <td>0.375</td>\n      <td>NaN</td>\n    </tr>\n    <tr>\n      <th>496</th>\n      <td>NaN</td>\n      <td>NaN</td>\n      <td>NaN</td>\n      <td>NaN</td>\n      <td>0.928571</td>\n      <td>-0.071429</td>\n      <td>NaN</td>\n      <td>NaN</td>\n      <td>NaN</td>\n      <td>NaN</td>\n      <td>NaN</td>\n      <td>NaN</td>\n      <td>NaN</td>\n      <td>NaN</td>\n    </tr>\n    <tr>\n      <th>502</th>\n      <td>0.125</td>\n      <td>NaN</td>\n      <td>NaN</td>\n      <td>NaN</td>\n      <td>NaN</td>\n      <td>NaN</td>\n      <td>0.125</td>\n      <td>NaN</td>\n      <td>NaN</td>\n      <td>NaN</td>\n      <td>NaN</td>\n      <td>NaN</td>\n      <td>NaN</td>\n      <td>NaN</td>\n    </tr>\n  </tbody>\n</table>\n</div>"
     },
     "execution_count": 72,
     "metadata": {},
     "output_type": "execute_result"
    }
   ],
   "source": [
    "# Remove the watched movie from the movie list\n",
    "similar_user_movies.drop(picked_userid_watched.columns,axis=1, inplace=True, errors='ignore')\n",
    "# Take a look at the data\n",
    "similar_user_movies"
   ],
   "metadata": {
    "collapsed": false,
    "pycharm": {
     "name": "#%%\n"
    }
   }
  },
  {
   "cell_type": "code",
   "execution_count": 73,
   "outputs": [
    {
     "data": {
      "text/plain": "                                         movie  movie_score\n10                            Rock, The (1996)     1.342257\n1                                 Fargo (1996)     0.984732\n4                        Godfather, The (1972)     0.885819\n11                     Schindler's List (1993)     0.800000\n3   Ghostbusters (a.k.a. Ghost Busters) (1984)     0.349332\n12                         Shining, The (1980)     0.349332\n0                   Clockwork Orange, A (1971)     0.125000\n6                       Green Mile, The (1999)     0.125000\n13   Twelve Monkeys (a.k.a. 12 Monkeys) (1995)     0.000000\n5               Godfather: Part II, The (1974)    -0.068140",
      "text/html": "<div>\n<style scoped>\n    .dataframe tbody tr th:only-of-type {\n        vertical-align: middle;\n    }\n\n    .dataframe tbody tr th {\n        vertical-align: top;\n    }\n\n    .dataframe thead th {\n        text-align: right;\n    }\n</style>\n<table border=\"1\" class=\"dataframe\">\n  <thead>\n    <tr style=\"text-align: right;\">\n      <th></th>\n      <th>movie</th>\n      <th>movie_score</th>\n    </tr>\n  </thead>\n  <tbody>\n    <tr>\n      <th>10</th>\n      <td>Rock, The (1996)</td>\n      <td>1.342257</td>\n    </tr>\n    <tr>\n      <th>1</th>\n      <td>Fargo (1996)</td>\n      <td>0.984732</td>\n    </tr>\n    <tr>\n      <th>4</th>\n      <td>Godfather, The (1972)</td>\n      <td>0.885819</td>\n    </tr>\n    <tr>\n      <th>11</th>\n      <td>Schindler's List (1993)</td>\n      <td>0.800000</td>\n    </tr>\n    <tr>\n      <th>3</th>\n      <td>Ghostbusters (a.k.a. Ghost Busters) (1984)</td>\n      <td>0.349332</td>\n    </tr>\n    <tr>\n      <th>12</th>\n      <td>Shining, The (1980)</td>\n      <td>0.349332</td>\n    </tr>\n    <tr>\n      <th>0</th>\n      <td>Clockwork Orange, A (1971)</td>\n      <td>0.125000</td>\n    </tr>\n    <tr>\n      <th>6</th>\n      <td>Green Mile, The (1999)</td>\n      <td>0.125000</td>\n    </tr>\n    <tr>\n      <th>13</th>\n      <td>Twelve Monkeys (a.k.a. 12 Monkeys) (1995)</td>\n      <td>0.000000</td>\n    </tr>\n    <tr>\n      <th>5</th>\n      <td>Godfather: Part II, The (1974)</td>\n      <td>-0.068140</td>\n    </tr>\n  </tbody>\n</table>\n</div>"
     },
     "execution_count": 73,
     "metadata": {},
     "output_type": "execute_result"
    }
   ],
   "source": [
    "# A dictionary to store item scores\n",
    "item_score = {}\n",
    "# Loop through items\n",
    "for i in similar_user_movies.columns:\n",
    "  # Get the ratings for movie i\n",
    "  movie_rating = similar_user_movies[i]\n",
    "  # Create a variable to store the score\n",
    "  total = 0\n",
    "  # Create a variable to store the number of scores\n",
    "  count = 0\n",
    "  # Loop through similar users\n",
    "  for u in similar_users.index:\n",
    "    # If the movie has rating\n",
    "    if pd.isna(movie_rating[u]) == False:\n",
    "      # Score is the sum of user similarity score multiply by the movie rating\n",
    "      score = similar_users[u] * movie_rating[u]\n",
    "      # Add the score to the total score for the movie so far\n",
    "      total += score\n",
    "      # Add 1 to the count\n",
    "      count +=1\n",
    "  # Get the average score for the item\n",
    "  item_score[i] = total / count\n",
    "# Convert dictionary to pandas dataframe\n",
    "item_score = pd.DataFrame(item_score.items(), columns=['movie', 'movie_score'])\n",
    "\n",
    "# Sort the movies by score\n",
    "ranked_item_score = item_score.sort_values(by='movie_score', ascending=False)\n",
    "# Select top m movies\n",
    "m = 10\n",
    "ranked_item_score.head(m)"
   ],
   "metadata": {
    "collapsed": false,
    "pycharm": {
     "name": "#%%\n"
    }
   }
  }
 ],
 "metadata": {
  "kernelspec": {
   "display_name": "Python 3",
   "language": "python",
   "name": "python3"
  },
  "language_info": {
   "codemirror_mode": {
    "name": "ipython",
    "version": 2
   },
   "file_extension": ".py",
   "mimetype": "text/x-python",
   "name": "python",
   "nbconvert_exporter": "python",
   "pygments_lexer": "ipython2",
   "version": "2.7.6"
  }
 },
 "nbformat": 4,
 "nbformat_minor": 0
}