{
 "cells": [
  {
   "cell_type": "markdown",
   "source": [
    "Libraries import:"
   ],
   "metadata": {
    "collapsed": false,
    "pycharm": {
     "name": "#%% md\n"
    }
   }
  },
  {
   "cell_type": "code",
   "execution_count": 17,
   "metadata": {
    "collapsed": true,
    "pycharm": {
     "name": "#%%\n"
    }
   },
   "outputs": [],
   "source": [
    "import pandas as pd\n",
    "import numpy as np\n",
    "import scipy.stats\n",
    "\n",
    "import seaborn as sns\n",
    "\n",
    "from sklearn.metrics.pairwise import cosine_similarity"
   ]
  },
  {
   "cell_type": "markdown",
   "source": [
    "Import ratings:"
   ],
   "metadata": {
    "collapsed": false,
    "pycharm": {
     "name": "#%% md\n"
    }
   }
  },
  {
   "cell_type": "code",
   "execution_count": 18,
   "outputs": [
    {
     "name": "stdout",
     "output_type": "stream",
     "text": [
      "<class 'pandas.core.frame.DataFrame'>\n",
      "RangeIndex: 1000000 entries, 0 to 999999\n",
      "Data columns (total 3 columns):\n",
      " #   Column   Non-Null Count    Dtype  \n",
      "---  ------   --------------    -----  \n",
      " 0   userId   1000000 non-null  int64  \n",
      " 1   movieId  1000000 non-null  int64  \n",
      " 2   rating   1000000 non-null  float64\n",
      "dtypes: float64(1), int64(2)\n",
      "memory usage: 22.9 MB\n"
     ]
    },
    {
     "data": {
      "text/plain": "   userId  movieId  rating\n0   91882      356     5.0\n1   91882      364     3.0\n2   91882      435     3.0\n3   91882      440     3.0\n4   91882      454     4.0",
      "text/html": "<div>\n<style scoped>\n    .dataframe tbody tr th:only-of-type {\n        vertical-align: middle;\n    }\n\n    .dataframe tbody tr th {\n        vertical-align: top;\n    }\n\n    .dataframe thead th {\n        text-align: right;\n    }\n</style>\n<table border=\"1\" class=\"dataframe\">\n  <thead>\n    <tr style=\"text-align: right;\">\n      <th></th>\n      <th>userId</th>\n      <th>movieId</th>\n      <th>rating</th>\n    </tr>\n  </thead>\n  <tbody>\n    <tr>\n      <th>0</th>\n      <td>91882</td>\n      <td>356</td>\n      <td>5.0</td>\n    </tr>\n    <tr>\n      <th>1</th>\n      <td>91882</td>\n      <td>364</td>\n      <td>3.0</td>\n    </tr>\n    <tr>\n      <th>2</th>\n      <td>91882</td>\n      <td>435</td>\n      <td>3.0</td>\n    </tr>\n    <tr>\n      <th>3</th>\n      <td>91882</td>\n      <td>440</td>\n      <td>3.0</td>\n    </tr>\n    <tr>\n      <th>4</th>\n      <td>91882</td>\n      <td>454</td>\n      <td>4.0</td>\n    </tr>\n  </tbody>\n</table>\n</div>"
     },
     "execution_count": 18,
     "metadata": {},
     "output_type": "execute_result"
    }
   ],
   "source": [
    "ratings = pd.read_csv('ratings.csv', sep=';', encoding='utf-8')\n",
    "ratings['rating'] = ratings['rating'].str.replace(',', '.').astype(float)\n",
    "ratings = ratings.head(1000000)\n",
    "ratings.info()\n",
    "ratings.head()"
   ],
   "metadata": {
    "collapsed": false,
    "pycharm": {
     "name": "#%%\n"
    }
   }
  },
  {
   "cell_type": "markdown",
   "source": [
    "Import movies:"
   ],
   "metadata": {
    "collapsed": false,
    "pycharm": {
     "name": "#%% md\n"
    }
   }
  },
  {
   "cell_type": "code",
   "execution_count": 19,
   "outputs": [
    {
     "name": "stdout",
     "output_type": "stream",
     "text": [
      "<class 'pandas.core.frame.DataFrame'>\n",
      "RangeIndex: 56239 entries, 0 to 56238\n",
      "Data columns (total 3 columns):\n",
      " #   Column   Non-Null Count  Dtype \n",
      "---  ------   --------------  ----- \n",
      " 0   movieId  56239 non-null  int64 \n",
      " 1   title    56239 non-null  object\n",
      " 2   genres   55255 non-null  object\n",
      "dtypes: int64(1), object(2)\n",
      "memory usage: 1.3+ MB\n"
     ]
    },
    {
     "data": {
      "text/plain": "   movieId         title                            genres\n0     4470         Ariel                Drama-Comedy-Crime\n1       18    Four Rooms                      Crime-Comedy\n2      260     Star Wars  Adventure-Action-Science Fiction\n3     6377  Finding Nemo                  Animation-Family\n4      356  Forrest Gump              Comedy-Drama-Romance",
      "text/html": "<div>\n<style scoped>\n    .dataframe tbody tr th:only-of-type {\n        vertical-align: middle;\n    }\n\n    .dataframe tbody tr th {\n        vertical-align: top;\n    }\n\n    .dataframe thead th {\n        text-align: right;\n    }\n</style>\n<table border=\"1\" class=\"dataframe\">\n  <thead>\n    <tr style=\"text-align: right;\">\n      <th></th>\n      <th>movieId</th>\n      <th>title</th>\n      <th>genres</th>\n    </tr>\n  </thead>\n  <tbody>\n    <tr>\n      <th>0</th>\n      <td>4470</td>\n      <td>Ariel</td>\n      <td>Drama-Comedy-Crime</td>\n    </tr>\n    <tr>\n      <th>1</th>\n      <td>18</td>\n      <td>Four Rooms</td>\n      <td>Crime-Comedy</td>\n    </tr>\n    <tr>\n      <th>2</th>\n      <td>260</td>\n      <td>Star Wars</td>\n      <td>Adventure-Action-Science Fiction</td>\n    </tr>\n    <tr>\n      <th>3</th>\n      <td>6377</td>\n      <td>Finding Nemo</td>\n      <td>Animation-Family</td>\n    </tr>\n    <tr>\n      <th>4</th>\n      <td>356</td>\n      <td>Forrest Gump</td>\n      <td>Comedy-Drama-Romance</td>\n    </tr>\n  </tbody>\n</table>\n</div>"
     },
     "execution_count": 19,
     "metadata": {},
     "output_type": "execute_result"
    }
   ],
   "source": [
    "movies = pd.read_csv('recomendMovies.csv', sep=';', encoding='utf-16')\n",
    "movies = movies[['id', 'title', 'genres']]\n",
    "movies.rename(columns={'id':'movieId'}, inplace=True)\n",
    "movies.info()\n",
    "movies.head()"
   ],
   "metadata": {
    "collapsed": false,
    "pycharm": {
     "name": "#%%\n"
    }
   }
  },
  {
   "cell_type": "markdown",
   "source": [
    "Merge dataframes"
   ],
   "metadata": {
    "collapsed": false,
    "pycharm": {
     "name": "#%% md\n"
    }
   }
  },
  {
   "cell_type": "code",
   "execution_count": 20,
   "outputs": [
    {
     "name": "stdout",
     "output_type": "stream",
     "text": [
      "<class 'pandas.core.frame.DataFrame'>\n",
      "Int64Index: 999949 entries, 0 to 999948\n",
      "Data columns (total 5 columns):\n",
      " #   Column   Non-Null Count   Dtype  \n",
      "---  ------   --------------   -----  \n",
      " 0   userId   999949 non-null  int64  \n",
      " 1   movieId  999949 non-null  int64  \n",
      " 2   rating   999949 non-null  float64\n",
      " 3   title    999949 non-null  object \n",
      " 4   genres   999765 non-null  object \n",
      "dtypes: float64(1), int64(2), object(2)\n",
      "memory usage: 45.8+ MB\n"
     ]
    },
    {
     "data": {
      "text/plain": "   userId  movieId  rating         title                genres\n0   91882      356     5.0  Forrest Gump  Comedy-Drama-Romance\n1   91883      356     4.0  Forrest Gump  Comedy-Drama-Romance\n2   91885      356     5.0  Forrest Gump  Comedy-Drama-Romance\n3   91889      356     0.5  Forrest Gump  Comedy-Drama-Romance\n4   91892      356     2.0  Forrest Gump  Comedy-Drama-Romance",
      "text/html": "<div>\n<style scoped>\n    .dataframe tbody tr th:only-of-type {\n        vertical-align: middle;\n    }\n\n    .dataframe tbody tr th {\n        vertical-align: top;\n    }\n\n    .dataframe thead th {\n        text-align: right;\n    }\n</style>\n<table border=\"1\" class=\"dataframe\">\n  <thead>\n    <tr style=\"text-align: right;\">\n      <th></th>\n      <th>userId</th>\n      <th>movieId</th>\n      <th>rating</th>\n      <th>title</th>\n      <th>genres</th>\n    </tr>\n  </thead>\n  <tbody>\n    <tr>\n      <th>0</th>\n      <td>91882</td>\n      <td>356</td>\n      <td>5.0</td>\n      <td>Forrest Gump</td>\n      <td>Comedy-Drama-Romance</td>\n    </tr>\n    <tr>\n      <th>1</th>\n      <td>91883</td>\n      <td>356</td>\n      <td>4.0</td>\n      <td>Forrest Gump</td>\n      <td>Comedy-Drama-Romance</td>\n    </tr>\n    <tr>\n      <th>2</th>\n      <td>91885</td>\n      <td>356</td>\n      <td>5.0</td>\n      <td>Forrest Gump</td>\n      <td>Comedy-Drama-Romance</td>\n    </tr>\n    <tr>\n      <th>3</th>\n      <td>91889</td>\n      <td>356</td>\n      <td>0.5</td>\n      <td>Forrest Gump</td>\n      <td>Comedy-Drama-Romance</td>\n    </tr>\n    <tr>\n      <th>4</th>\n      <td>91892</td>\n      <td>356</td>\n      <td>2.0</td>\n      <td>Forrest Gump</td>\n      <td>Comedy-Drama-Romance</td>\n    </tr>\n  </tbody>\n</table>\n</div>"
     },
     "execution_count": 20,
     "metadata": {},
     "output_type": "execute_result"
    }
   ],
   "source": [
    "df = pd.merge(ratings, movies, on='movieId', how='inner')\n",
    "df.info()\n",
    "df.head()"
   ],
   "metadata": {
    "collapsed": false,
    "pycharm": {
     "name": "#%%\n"
    }
   }
  },
  {
   "cell_type": "markdown",
   "source": [
    "Get movies with number of votes more than 300:"
   ],
   "metadata": {
    "collapsed": false,
    "pycharm": {
     "name": "#%% md\n"
    }
   }
  },
  {
   "cell_type": "code",
   "execution_count": 21,
   "outputs": [
    {
     "name": "stdout",
     "output_type": "stream",
     "text": [
      "<class 'pandas.core.frame.DataFrame'>\n",
      "RangeIndex: 19916 entries, 0 to 19915\n",
      "Data columns (total 3 columns):\n",
      " #   Column             Non-Null Count  Dtype  \n",
      "---  ------             --------------  -----  \n",
      " 0   title              19916 non-null  object \n",
      " 1   mean_rating        19916 non-null  float64\n",
      " 2   number_of_ratings  19916 non-null  int64  \n",
      "dtypes: float64(1), int64(1), object(1)\n",
      "memory usage: 466.9+ KB\n"
     ]
    },
    {
     "data": {
      "text/plain": "                 title  mean_rating  number_of_ratings\n0  #1 Cheerleader Camp         4.00                  1\n1         #realityhigh         4.50                  1\n2                    $         3.00                  2\n3             $5 a Day         2.75                  2\n4                $9.99         3.00                  2",
      "text/html": "<div>\n<style scoped>\n    .dataframe tbody tr th:only-of-type {\n        vertical-align: middle;\n    }\n\n    .dataframe tbody tr th {\n        vertical-align: top;\n    }\n\n    .dataframe thead th {\n        text-align: right;\n    }\n</style>\n<table border=\"1\" class=\"dataframe\">\n  <thead>\n    <tr style=\"text-align: right;\">\n      <th></th>\n      <th>title</th>\n      <th>mean_rating</th>\n      <th>number_of_ratings</th>\n    </tr>\n  </thead>\n  <tbody>\n    <tr>\n      <th>0</th>\n      <td>#1 Cheerleader Camp</td>\n      <td>4.00</td>\n      <td>1</td>\n    </tr>\n    <tr>\n      <th>1</th>\n      <td>#realityhigh</td>\n      <td>4.50</td>\n      <td>1</td>\n    </tr>\n    <tr>\n      <th>2</th>\n      <td>$</td>\n      <td>3.00</td>\n      <td>2</td>\n    </tr>\n    <tr>\n      <th>3</th>\n      <td>$5 a Day</td>\n      <td>2.75</td>\n      <td>2</td>\n    </tr>\n    <tr>\n      <th>4</th>\n      <td>$9.99</td>\n      <td>3.00</td>\n      <td>2</td>\n    </tr>\n  </tbody>\n</table>\n</div>"
     },
     "execution_count": 21,
     "metadata": {},
     "output_type": "execute_result"
    }
   ],
   "source": [
    "agg_ratings = df.groupby('title').agg(mean_rating=('rating', 'mean'), number_of_ratings=('rating', 'count')).reset_index()\n",
    "agg_ratings_GT100 = agg_ratings[agg_ratings['number_of_ratings'] > 800]\n",
    "agg_ratings.info()\n",
    "agg_ratings.head()"
   ],
   "metadata": {
    "collapsed": false,
    "pycharm": {
     "name": "#%%\n"
    }
   }
  },
  {
   "cell_type": "markdown",
   "source": [
    "Get top rated movies:"
   ],
   "metadata": {
    "collapsed": false,
    "pycharm": {
     "name": "#%% md\n"
    }
   }
  },
  {
   "cell_type": "code",
   "execution_count": 22,
   "outputs": [
    {
     "data": {
      "text/plain": "   userId  movieId  rating         title                genres\n0   91882      356     5.0  Forrest Gump  Comedy-Drama-Romance\n1   91883      356     4.0  Forrest Gump  Comedy-Drama-Romance\n2   91885      356     5.0  Forrest Gump  Comedy-Drama-Romance\n3   91889      356     0.5  Forrest Gump  Comedy-Drama-Romance\n4   91892      356     2.0  Forrest Gump  Comedy-Drama-Romance",
      "text/html": "<div>\n<style scoped>\n    .dataframe tbody tr th:only-of-type {\n        vertical-align: middle;\n    }\n\n    .dataframe tbody tr th {\n        vertical-align: top;\n    }\n\n    .dataframe thead th {\n        text-align: right;\n    }\n</style>\n<table border=\"1\" class=\"dataframe\">\n  <thead>\n    <tr style=\"text-align: right;\">\n      <th></th>\n      <th>userId</th>\n      <th>movieId</th>\n      <th>rating</th>\n      <th>title</th>\n      <th>genres</th>\n    </tr>\n  </thead>\n  <tbody>\n    <tr>\n      <th>0</th>\n      <td>91882</td>\n      <td>356</td>\n      <td>5.0</td>\n      <td>Forrest Gump</td>\n      <td>Comedy-Drama-Romance</td>\n    </tr>\n    <tr>\n      <th>1</th>\n      <td>91883</td>\n      <td>356</td>\n      <td>4.0</td>\n      <td>Forrest Gump</td>\n      <td>Comedy-Drama-Romance</td>\n    </tr>\n    <tr>\n      <th>2</th>\n      <td>91885</td>\n      <td>356</td>\n      <td>5.0</td>\n      <td>Forrest Gump</td>\n      <td>Comedy-Drama-Romance</td>\n    </tr>\n    <tr>\n      <th>3</th>\n      <td>91889</td>\n      <td>356</td>\n      <td>0.5</td>\n      <td>Forrest Gump</td>\n      <td>Comedy-Drama-Romance</td>\n    </tr>\n    <tr>\n      <th>4</th>\n      <td>91892</td>\n      <td>356</td>\n      <td>2.0</td>\n      <td>Forrest Gump</td>\n      <td>Comedy-Drama-Romance</td>\n    </tr>\n  </tbody>\n</table>\n</div>"
     },
     "execution_count": 22,
     "metadata": {},
     "output_type": "execute_result"
    }
   ],
   "source": [
    "df_GT100 = pd.merge(df, agg_ratings_GT100[['title']], on='title', how='inner')\n",
    "df_GT100.head()"
   ],
   "metadata": {
    "collapsed": false,
    "pycharm": {
     "name": "#%%\n"
    }
   }
  },
  {
   "cell_type": "markdown",
   "source": [
    "Create matrix where users are rows and movies are columns:"
   ],
   "metadata": {
    "collapsed": false,
    "pycharm": {
     "name": "#%% md\n"
    }
   }
  },
  {
   "cell_type": "code",
   "execution_count": 23,
   "outputs": [
    {
     "name": "stdout",
     "output_type": "stream",
     "text": [
      "<class 'pandas.core.frame.DataFrame'>\n",
      "Int64Index: 6430 entries, 91882 to 98400\n",
      "Columns: 206 entries, 2001: A Space Odyssey to X-Men\n",
      "dtypes: float64(206)\n",
      "memory usage: 10.2 MB\n"
     ]
    },
    {
     "data": {
      "text/plain": "title   2001: A Space Odyssey  A Beautiful Mind  A Bug's Life  \\\nuserId                                                          \n91882                     NaN               NaN           NaN   \n91883                     NaN               4.5           NaN   \n91884                     NaN               NaN           NaN   \n91885                     NaN               NaN           NaN   \n91886                     NaN               NaN           NaN   \n\ntitle   A Clockwork Orange  Ace Ventura: Pet Detective  \\\nuserId                                                   \n91882                  NaN                         NaN   \n91883                  4.0                         NaN   \n91884                  NaN                         NaN   \n91885                  NaN                         NaN   \n91886                  NaN                         NaN   \n\ntitle   Ace Ventura: When Nature Calls  Aladdin  Alien  Aliens  Amadeus  ...  \\\nuserId                                                                   ...   \n91882                              NaN      4.0    NaN     NaN      NaN  ...   \n91883                              NaN      NaN    4.0     NaN      NaN  ...   \n91884                              NaN      NaN    NaN     NaN      NaN  ...   \n91885                              NaN      NaN    NaN     NaN      NaN  ...   \n91886                              NaN      NaN    NaN     NaN      4.0  ...   \n\ntitle   Twister   Up  V for Vendetta  WALL·E  Waterworld  \\\nuserId                                                     \n91882       NaN  NaN             NaN     NaN         NaN   \n91883       NaN  4.0             4.0     4.0         2.0   \n91884       NaN  4.5             NaN     4.0         NaN   \n91885       NaN  NaN             NaN     NaN         NaN   \n91886       NaN  NaN             NaN     NaN         NaN   \n\ntitle   When Harry Met Sally...  While You Were Sleeping  \\\nuserId                                                     \n91882                       NaN                      NaN   \n91883                       NaN                      NaN   \n91884                       NaN                      NaN   \n91885                       NaN                      4.0   \n91886                       NaN                      NaN   \n\ntitle   Who Framed Roger Rabbit  Willy Wonka & the Chocolate Factory  X-Men  \nuserId                                                                       \n91882                       NaN                                  NaN    NaN  \n91883                       NaN                                  NaN    3.5  \n91884                       NaN                                  NaN    NaN  \n91885                       NaN                                  NaN    NaN  \n91886                       NaN                                  NaN    NaN  \n\n[5 rows x 206 columns]",
      "text/html": "<div>\n<style scoped>\n    .dataframe tbody tr th:only-of-type {\n        vertical-align: middle;\n    }\n\n    .dataframe tbody tr th {\n        vertical-align: top;\n    }\n\n    .dataframe thead th {\n        text-align: right;\n    }\n</style>\n<table border=\"1\" class=\"dataframe\">\n  <thead>\n    <tr style=\"text-align: right;\">\n      <th>title</th>\n      <th>2001: A Space Odyssey</th>\n      <th>A Beautiful Mind</th>\n      <th>A Bug's Life</th>\n      <th>A Clockwork Orange</th>\n      <th>Ace Ventura: Pet Detective</th>\n      <th>Ace Ventura: When Nature Calls</th>\n      <th>Aladdin</th>\n      <th>Alien</th>\n      <th>Aliens</th>\n      <th>Amadeus</th>\n      <th>...</th>\n      <th>Twister</th>\n      <th>Up</th>\n      <th>V for Vendetta</th>\n      <th>WALL·E</th>\n      <th>Waterworld</th>\n      <th>When Harry Met Sally...</th>\n      <th>While You Were Sleeping</th>\n      <th>Who Framed Roger Rabbit</th>\n      <th>Willy Wonka &amp; the Chocolate Factory</th>\n      <th>X-Men</th>\n    </tr>\n    <tr>\n      <th>userId</th>\n      <th></th>\n      <th></th>\n      <th></th>\n      <th></th>\n      <th></th>\n      <th></th>\n      <th></th>\n      <th></th>\n      <th></th>\n      <th></th>\n      <th></th>\n      <th></th>\n      <th></th>\n      <th></th>\n      <th></th>\n      <th></th>\n      <th></th>\n      <th></th>\n      <th></th>\n      <th></th>\n      <th></th>\n    </tr>\n  </thead>\n  <tbody>\n    <tr>\n      <th>91882</th>\n      <td>NaN</td>\n      <td>NaN</td>\n      <td>NaN</td>\n      <td>NaN</td>\n      <td>NaN</td>\n      <td>NaN</td>\n      <td>4.0</td>\n      <td>NaN</td>\n      <td>NaN</td>\n      <td>NaN</td>\n      <td>...</td>\n      <td>NaN</td>\n      <td>NaN</td>\n      <td>NaN</td>\n      <td>NaN</td>\n      <td>NaN</td>\n      <td>NaN</td>\n      <td>NaN</td>\n      <td>NaN</td>\n      <td>NaN</td>\n      <td>NaN</td>\n    </tr>\n    <tr>\n      <th>91883</th>\n      <td>NaN</td>\n      <td>4.5</td>\n      <td>NaN</td>\n      <td>4.0</td>\n      <td>NaN</td>\n      <td>NaN</td>\n      <td>NaN</td>\n      <td>4.0</td>\n      <td>NaN</td>\n      <td>NaN</td>\n      <td>...</td>\n      <td>NaN</td>\n      <td>4.0</td>\n      <td>4.0</td>\n      <td>4.0</td>\n      <td>2.0</td>\n      <td>NaN</td>\n      <td>NaN</td>\n      <td>NaN</td>\n      <td>NaN</td>\n      <td>3.5</td>\n    </tr>\n    <tr>\n      <th>91884</th>\n      <td>NaN</td>\n      <td>NaN</td>\n      <td>NaN</td>\n      <td>NaN</td>\n      <td>NaN</td>\n      <td>NaN</td>\n      <td>NaN</td>\n      <td>NaN</td>\n      <td>NaN</td>\n      <td>NaN</td>\n      <td>...</td>\n      <td>NaN</td>\n      <td>4.5</td>\n      <td>NaN</td>\n      <td>4.0</td>\n      <td>NaN</td>\n      <td>NaN</td>\n      <td>NaN</td>\n      <td>NaN</td>\n      <td>NaN</td>\n      <td>NaN</td>\n    </tr>\n    <tr>\n      <th>91885</th>\n      <td>NaN</td>\n      <td>NaN</td>\n      <td>NaN</td>\n      <td>NaN</td>\n      <td>NaN</td>\n      <td>NaN</td>\n      <td>NaN</td>\n      <td>NaN</td>\n      <td>NaN</td>\n      <td>NaN</td>\n      <td>...</td>\n      <td>NaN</td>\n      <td>NaN</td>\n      <td>NaN</td>\n      <td>NaN</td>\n      <td>NaN</td>\n      <td>NaN</td>\n      <td>4.0</td>\n      <td>NaN</td>\n      <td>NaN</td>\n      <td>NaN</td>\n    </tr>\n    <tr>\n      <th>91886</th>\n      <td>NaN</td>\n      <td>NaN</td>\n      <td>NaN</td>\n      <td>NaN</td>\n      <td>NaN</td>\n      <td>NaN</td>\n      <td>NaN</td>\n      <td>NaN</td>\n      <td>NaN</td>\n      <td>4.0</td>\n      <td>...</td>\n      <td>NaN</td>\n      <td>NaN</td>\n      <td>NaN</td>\n      <td>NaN</td>\n      <td>NaN</td>\n      <td>NaN</td>\n      <td>NaN</td>\n      <td>NaN</td>\n      <td>NaN</td>\n      <td>NaN</td>\n    </tr>\n  </tbody>\n</table>\n<p>5 rows × 206 columns</p>\n</div>"
     },
     "execution_count": 23,
     "metadata": {},
     "output_type": "execute_result"
    }
   ],
   "source": [
    "matrix = df_GT100.pivot_table(index='userId', columns='title', values='rating')\n",
    "matrix.info()\n",
    "matrix.head()"
   ],
   "metadata": {
    "collapsed": false,
    "pycharm": {
     "name": "#%%\n"
    }
   }
  },
  {
   "cell_type": "markdown",
   "source": [
    "Normalize users"
   ],
   "metadata": {
    "collapsed": false,
    "pycharm": {
     "name": "#%% md\n"
    }
   }
  },
  {
   "cell_type": "code",
   "execution_count": 24,
   "outputs": [
    {
     "data": {
      "text/plain": "title   2001: A Space Odyssey  A Beautiful Mind  A Bug's Life  \\\nuserId                                                          \n91882                     NaN               NaN           NaN   \n91883                     NaN          0.784188           NaN   \n91884                     NaN               NaN           NaN   \n91885                     NaN               NaN           NaN   \n91886                     NaN               NaN           NaN   \n\ntitle   A Clockwork Orange  Ace Ventura: Pet Detective  \\\nuserId                                                   \n91882                  NaN                         NaN   \n91883             0.284188                         NaN   \n91884                  NaN                         NaN   \n91885                  NaN                         NaN   \n91886                  NaN                         NaN   \n\ntitle   Ace Ventura: When Nature Calls  Aladdin     Alien  Aliens   Amadeus  \\\nuserId                                                                        \n91882                              NaN      0.0       NaN     NaN       NaN   \n91883                              NaN      NaN  0.284188     NaN       NaN   \n91884                              NaN      NaN       NaN     NaN       NaN   \n91885                              NaN      NaN       NaN     NaN       NaN   \n91886                              NaN      NaN       NaN     NaN -0.583333   \n\ntitle   ...  Twister        Up  V for Vendetta    WALL·E  Waterworld  \\\nuserId  ...                                                            \n91882   ...      NaN       NaN             NaN       NaN         NaN   \n91883   ...      NaN  0.284188        0.284188  0.284188   -1.715812   \n91884   ...      NaN  0.380000             NaN -0.120000         NaN   \n91885   ...      NaN       NaN             NaN       NaN         NaN   \n91886   ...      NaN       NaN             NaN       NaN         NaN   \n\ntitle   When Harry Met Sally...  While You Were Sleeping  \\\nuserId                                                     \n91882                       NaN                      NaN   \n91883                       NaN                      NaN   \n91884                       NaN                      NaN   \n91885                       NaN                 0.588235   \n91886                       NaN                      NaN   \n\ntitle   Who Framed Roger Rabbit  Willy Wonka & the Chocolate Factory     X-Men  \nuserId                                                                          \n91882                       NaN                                  NaN       NaN  \n91883                       NaN                                  NaN -0.215812  \n91884                       NaN                                  NaN       NaN  \n91885                       NaN                                  NaN       NaN  \n91886                       NaN                                  NaN       NaN  \n\n[5 rows x 206 columns]",
      "text/html": "<div>\n<style scoped>\n    .dataframe tbody tr th:only-of-type {\n        vertical-align: middle;\n    }\n\n    .dataframe tbody tr th {\n        vertical-align: top;\n    }\n\n    .dataframe thead th {\n        text-align: right;\n    }\n</style>\n<table border=\"1\" class=\"dataframe\">\n  <thead>\n    <tr style=\"text-align: right;\">\n      <th>title</th>\n      <th>2001: A Space Odyssey</th>\n      <th>A Beautiful Mind</th>\n      <th>A Bug's Life</th>\n      <th>A Clockwork Orange</th>\n      <th>Ace Ventura: Pet Detective</th>\n      <th>Ace Ventura: When Nature Calls</th>\n      <th>Aladdin</th>\n      <th>Alien</th>\n      <th>Aliens</th>\n      <th>Amadeus</th>\n      <th>...</th>\n      <th>Twister</th>\n      <th>Up</th>\n      <th>V for Vendetta</th>\n      <th>WALL·E</th>\n      <th>Waterworld</th>\n      <th>When Harry Met Sally...</th>\n      <th>While You Were Sleeping</th>\n      <th>Who Framed Roger Rabbit</th>\n      <th>Willy Wonka &amp; the Chocolate Factory</th>\n      <th>X-Men</th>\n    </tr>\n    <tr>\n      <th>userId</th>\n      <th></th>\n      <th></th>\n      <th></th>\n      <th></th>\n      <th></th>\n      <th></th>\n      <th></th>\n      <th></th>\n      <th></th>\n      <th></th>\n      <th></th>\n      <th></th>\n      <th></th>\n      <th></th>\n      <th></th>\n      <th></th>\n      <th></th>\n      <th></th>\n      <th></th>\n      <th></th>\n      <th></th>\n    </tr>\n  </thead>\n  <tbody>\n    <tr>\n      <th>91882</th>\n      <td>NaN</td>\n      <td>NaN</td>\n      <td>NaN</td>\n      <td>NaN</td>\n      <td>NaN</td>\n      <td>NaN</td>\n      <td>0.0</td>\n      <td>NaN</td>\n      <td>NaN</td>\n      <td>NaN</td>\n      <td>...</td>\n      <td>NaN</td>\n      <td>NaN</td>\n      <td>NaN</td>\n      <td>NaN</td>\n      <td>NaN</td>\n      <td>NaN</td>\n      <td>NaN</td>\n      <td>NaN</td>\n      <td>NaN</td>\n      <td>NaN</td>\n    </tr>\n    <tr>\n      <th>91883</th>\n      <td>NaN</td>\n      <td>0.784188</td>\n      <td>NaN</td>\n      <td>0.284188</td>\n      <td>NaN</td>\n      <td>NaN</td>\n      <td>NaN</td>\n      <td>0.284188</td>\n      <td>NaN</td>\n      <td>NaN</td>\n      <td>...</td>\n      <td>NaN</td>\n      <td>0.284188</td>\n      <td>0.284188</td>\n      <td>0.284188</td>\n      <td>-1.715812</td>\n      <td>NaN</td>\n      <td>NaN</td>\n      <td>NaN</td>\n      <td>NaN</td>\n      <td>-0.215812</td>\n    </tr>\n    <tr>\n      <th>91884</th>\n      <td>NaN</td>\n      <td>NaN</td>\n      <td>NaN</td>\n      <td>NaN</td>\n      <td>NaN</td>\n      <td>NaN</td>\n      <td>NaN</td>\n      <td>NaN</td>\n      <td>NaN</td>\n      <td>NaN</td>\n      <td>...</td>\n      <td>NaN</td>\n      <td>0.380000</td>\n      <td>NaN</td>\n      <td>-0.120000</td>\n      <td>NaN</td>\n      <td>NaN</td>\n      <td>NaN</td>\n      <td>NaN</td>\n      <td>NaN</td>\n      <td>NaN</td>\n    </tr>\n    <tr>\n      <th>91885</th>\n      <td>NaN</td>\n      <td>NaN</td>\n      <td>NaN</td>\n      <td>NaN</td>\n      <td>NaN</td>\n      <td>NaN</td>\n      <td>NaN</td>\n      <td>NaN</td>\n      <td>NaN</td>\n      <td>NaN</td>\n      <td>...</td>\n      <td>NaN</td>\n      <td>NaN</td>\n      <td>NaN</td>\n      <td>NaN</td>\n      <td>NaN</td>\n      <td>NaN</td>\n      <td>0.588235</td>\n      <td>NaN</td>\n      <td>NaN</td>\n      <td>NaN</td>\n    </tr>\n    <tr>\n      <th>91886</th>\n      <td>NaN</td>\n      <td>NaN</td>\n      <td>NaN</td>\n      <td>NaN</td>\n      <td>NaN</td>\n      <td>NaN</td>\n      <td>NaN</td>\n      <td>NaN</td>\n      <td>NaN</td>\n      <td>-0.583333</td>\n      <td>...</td>\n      <td>NaN</td>\n      <td>NaN</td>\n      <td>NaN</td>\n      <td>NaN</td>\n      <td>NaN</td>\n      <td>NaN</td>\n      <td>NaN</td>\n      <td>NaN</td>\n      <td>NaN</td>\n      <td>NaN</td>\n    </tr>\n  </tbody>\n</table>\n<p>5 rows × 206 columns</p>\n</div>"
     },
     "execution_count": 24,
     "metadata": {},
     "output_type": "execute_result"
    }
   ],
   "source": [
    "matrix_norm = matrix.subtract(matrix.mean(axis=1), axis = 'rows')\n",
    "matrix_norm.head()"
   ],
   "metadata": {
    "collapsed": false,
    "pycharm": {
     "name": "#%%\n"
    }
   }
  },
  {
   "cell_type": "markdown",
   "source": [
    "Identify similar users"
   ],
   "metadata": {
    "collapsed": false,
    "pycharm": {
     "name": "#%% md\n"
    }
   }
  },
  {
   "cell_type": "code",
   "execution_count": 25,
   "outputs": [
    {
     "data": {
      "text/plain": "userId     91882     91883     91884     91885     91886     91887     91888  \\\nuserId                                                                         \n91882   1.000000       NaN       NaN  0.745499       NaN  0.866025       NaN   \n91883        NaN  1.000000  0.547373 -0.367607  0.430820 -0.456775 -0.307794   \n91884        NaN  0.547373  1.000000       NaN -0.333333 -0.250000 -1.000000   \n91885   0.745499 -0.367607       NaN  1.000000       NaN  0.000000       NaN   \n91886        NaN  0.430820 -0.333333       NaN  1.000000 -0.091287       NaN   \n\nuserId     91889     91890     91891  ...     98391    98392     98393  \\\nuserId                                ...                                \n91882        NaN       NaN       NaN  ... -0.175035      NaN  0.225877   \n91883  -0.155043 -0.473626  0.702439  ... -0.129903  0.11547 -0.486828   \n91884        NaN -0.683130       NaN  ...  0.301511  1.00000 -0.500000   \n91885        NaN       NaN       NaN  ...  0.835229      NaN  0.511766   \n91886        NaN       NaN  1.000000  ... -0.569803      NaN -1.000000   \n\nuserId     98394     98395     98396  98397     98398     98399     98400  \nuserId                                                                     \n91882   0.874147  1.000000 -0.866025    1.0  0.866025       NaN  0.438230  \n91883   0.323695  0.018132 -0.707107    0.0  0.267307 -0.320256  0.439111  \n91884   0.000000  1.000000       NaN    NaN  0.366667       NaN  0.106112  \n91885   0.192961       NaN -1.000000    1.0 -0.944911       NaN -0.093076  \n91886   0.577350       NaN       NaN    NaN -0.316228       NaN  0.316228  \n\n[5 rows x 6430 columns]",
      "text/html": "<div>\n<style scoped>\n    .dataframe tbody tr th:only-of-type {\n        vertical-align: middle;\n    }\n\n    .dataframe tbody tr th {\n        vertical-align: top;\n    }\n\n    .dataframe thead th {\n        text-align: right;\n    }\n</style>\n<table border=\"1\" class=\"dataframe\">\n  <thead>\n    <tr style=\"text-align: right;\">\n      <th>userId</th>\n      <th>91882</th>\n      <th>91883</th>\n      <th>91884</th>\n      <th>91885</th>\n      <th>91886</th>\n      <th>91887</th>\n      <th>91888</th>\n      <th>91889</th>\n      <th>91890</th>\n      <th>91891</th>\n      <th>...</th>\n      <th>98391</th>\n      <th>98392</th>\n      <th>98393</th>\n      <th>98394</th>\n      <th>98395</th>\n      <th>98396</th>\n      <th>98397</th>\n      <th>98398</th>\n      <th>98399</th>\n      <th>98400</th>\n    </tr>\n    <tr>\n      <th>userId</th>\n      <th></th>\n      <th></th>\n      <th></th>\n      <th></th>\n      <th></th>\n      <th></th>\n      <th></th>\n      <th></th>\n      <th></th>\n      <th></th>\n      <th></th>\n      <th></th>\n      <th></th>\n      <th></th>\n      <th></th>\n      <th></th>\n      <th></th>\n      <th></th>\n      <th></th>\n      <th></th>\n      <th></th>\n    </tr>\n  </thead>\n  <tbody>\n    <tr>\n      <th>91882</th>\n      <td>1.000000</td>\n      <td>NaN</td>\n      <td>NaN</td>\n      <td>0.745499</td>\n      <td>NaN</td>\n      <td>0.866025</td>\n      <td>NaN</td>\n      <td>NaN</td>\n      <td>NaN</td>\n      <td>NaN</td>\n      <td>...</td>\n      <td>-0.175035</td>\n      <td>NaN</td>\n      <td>0.225877</td>\n      <td>0.874147</td>\n      <td>1.000000</td>\n      <td>-0.866025</td>\n      <td>1.0</td>\n      <td>0.866025</td>\n      <td>NaN</td>\n      <td>0.438230</td>\n    </tr>\n    <tr>\n      <th>91883</th>\n      <td>NaN</td>\n      <td>1.000000</td>\n      <td>0.547373</td>\n      <td>-0.367607</td>\n      <td>0.430820</td>\n      <td>-0.456775</td>\n      <td>-0.307794</td>\n      <td>-0.155043</td>\n      <td>-0.473626</td>\n      <td>0.702439</td>\n      <td>...</td>\n      <td>-0.129903</td>\n      <td>0.11547</td>\n      <td>-0.486828</td>\n      <td>0.323695</td>\n      <td>0.018132</td>\n      <td>-0.707107</td>\n      <td>0.0</td>\n      <td>0.267307</td>\n      <td>-0.320256</td>\n      <td>0.439111</td>\n    </tr>\n    <tr>\n      <th>91884</th>\n      <td>NaN</td>\n      <td>0.547373</td>\n      <td>1.000000</td>\n      <td>NaN</td>\n      <td>-0.333333</td>\n      <td>-0.250000</td>\n      <td>-1.000000</td>\n      <td>NaN</td>\n      <td>-0.683130</td>\n      <td>NaN</td>\n      <td>...</td>\n      <td>0.301511</td>\n      <td>1.00000</td>\n      <td>-0.500000</td>\n      <td>0.000000</td>\n      <td>1.000000</td>\n      <td>NaN</td>\n      <td>NaN</td>\n      <td>0.366667</td>\n      <td>NaN</td>\n      <td>0.106112</td>\n    </tr>\n    <tr>\n      <th>91885</th>\n      <td>0.745499</td>\n      <td>-0.367607</td>\n      <td>NaN</td>\n      <td>1.000000</td>\n      <td>NaN</td>\n      <td>0.000000</td>\n      <td>NaN</td>\n      <td>NaN</td>\n      <td>NaN</td>\n      <td>NaN</td>\n      <td>...</td>\n      <td>0.835229</td>\n      <td>NaN</td>\n      <td>0.511766</td>\n      <td>0.192961</td>\n      <td>NaN</td>\n      <td>-1.000000</td>\n      <td>1.0</td>\n      <td>-0.944911</td>\n      <td>NaN</td>\n      <td>-0.093076</td>\n    </tr>\n    <tr>\n      <th>91886</th>\n      <td>NaN</td>\n      <td>0.430820</td>\n      <td>-0.333333</td>\n      <td>NaN</td>\n      <td>1.000000</td>\n      <td>-0.091287</td>\n      <td>NaN</td>\n      <td>NaN</td>\n      <td>NaN</td>\n      <td>1.000000</td>\n      <td>...</td>\n      <td>-0.569803</td>\n      <td>NaN</td>\n      <td>-1.000000</td>\n      <td>0.577350</td>\n      <td>NaN</td>\n      <td>NaN</td>\n      <td>NaN</td>\n      <td>-0.316228</td>\n      <td>NaN</td>\n      <td>0.316228</td>\n    </tr>\n  </tbody>\n</table>\n<p>5 rows × 6430 columns</p>\n</div>"
     },
     "execution_count": 25,
     "metadata": {},
     "output_type": "execute_result"
    }
   ],
   "source": [
    "user_similarity = matrix_norm.T.corr()\n",
    "user_similarity.head()"
   ],
   "metadata": {
    "collapsed": false,
    "pycharm": {
     "name": "#%%\n"
    }
   }
  },
  {
   "cell_type": "markdown",
   "source": [
    "Pick user"
   ],
   "metadata": {
    "collapsed": false,
    "pycharm": {
     "name": "#%% md\n"
    }
   }
  },
  {
   "cell_type": "code",
   "execution_count": 26,
   "outputs": [
    {
     "data": {
      "text/plain": "userId     91882     91883     91884     91885     91886     91887     91888  \\\nuserId                                                                         \n91883        NaN  1.000000  0.547373 -0.367607  0.430820 -0.456775 -0.307794   \n91884        NaN  0.547373  1.000000       NaN -0.333333 -0.250000 -1.000000   \n91885   0.745499 -0.367607       NaN  1.000000       NaN  0.000000       NaN   \n91886        NaN  0.430820 -0.333333       NaN  1.000000 -0.091287       NaN   \n91887   0.866025 -0.456775 -0.250000  0.000000 -0.091287  1.000000  0.662266   \n\nuserId     91889     91890     91891  ...     98391    98392     98393  \\\nuserId                                ...                                \n91883  -0.155043 -0.473626  0.702439  ... -0.129903  0.11547 -0.486828   \n91884        NaN -0.683130       NaN  ...  0.301511  1.00000 -0.500000   \n91885        NaN       NaN       NaN  ...  0.835229      NaN  0.511766   \n91886        NaN       NaN  1.000000  ... -0.569803      NaN -1.000000   \n91887        NaN       NaN       NaN  ...  0.232495 -0.50000  0.880705   \n\nuserId     98394     98395     98396     98397     98398     98399     98400  \nuserId                                                                        \n91883   0.323695  0.018132 -0.707107  0.000000  0.267307 -0.320256  0.439111  \n91884   0.000000  1.000000       NaN       NaN  0.366667       NaN  0.106112  \n91885   0.192961       NaN -1.000000  1.000000 -0.944911       NaN -0.093076  \n91886   0.577350       NaN       NaN       NaN -0.316228       NaN  0.316228  \n91887   0.054153       NaN  0.333333 -0.918559 -0.019420       NaN -0.149350  \n\n[5 rows x 6430 columns]",
      "text/html": "<div>\n<style scoped>\n    .dataframe tbody tr th:only-of-type {\n        vertical-align: middle;\n    }\n\n    .dataframe tbody tr th {\n        vertical-align: top;\n    }\n\n    .dataframe thead th {\n        text-align: right;\n    }\n</style>\n<table border=\"1\" class=\"dataframe\">\n  <thead>\n    <tr style=\"text-align: right;\">\n      <th>userId</th>\n      <th>91882</th>\n      <th>91883</th>\n      <th>91884</th>\n      <th>91885</th>\n      <th>91886</th>\n      <th>91887</th>\n      <th>91888</th>\n      <th>91889</th>\n      <th>91890</th>\n      <th>91891</th>\n      <th>...</th>\n      <th>98391</th>\n      <th>98392</th>\n      <th>98393</th>\n      <th>98394</th>\n      <th>98395</th>\n      <th>98396</th>\n      <th>98397</th>\n      <th>98398</th>\n      <th>98399</th>\n      <th>98400</th>\n    </tr>\n    <tr>\n      <th>userId</th>\n      <th></th>\n      <th></th>\n      <th></th>\n      <th></th>\n      <th></th>\n      <th></th>\n      <th></th>\n      <th></th>\n      <th></th>\n      <th></th>\n      <th></th>\n      <th></th>\n      <th></th>\n      <th></th>\n      <th></th>\n      <th></th>\n      <th></th>\n      <th></th>\n      <th></th>\n      <th></th>\n      <th></th>\n    </tr>\n  </thead>\n  <tbody>\n    <tr>\n      <th>91883</th>\n      <td>NaN</td>\n      <td>1.000000</td>\n      <td>0.547373</td>\n      <td>-0.367607</td>\n      <td>0.430820</td>\n      <td>-0.456775</td>\n      <td>-0.307794</td>\n      <td>-0.155043</td>\n      <td>-0.473626</td>\n      <td>0.702439</td>\n      <td>...</td>\n      <td>-0.129903</td>\n      <td>0.11547</td>\n      <td>-0.486828</td>\n      <td>0.323695</td>\n      <td>0.018132</td>\n      <td>-0.707107</td>\n      <td>0.000000</td>\n      <td>0.267307</td>\n      <td>-0.320256</td>\n      <td>0.439111</td>\n    </tr>\n    <tr>\n      <th>91884</th>\n      <td>NaN</td>\n      <td>0.547373</td>\n      <td>1.000000</td>\n      <td>NaN</td>\n      <td>-0.333333</td>\n      <td>-0.250000</td>\n      <td>-1.000000</td>\n      <td>NaN</td>\n      <td>-0.683130</td>\n      <td>NaN</td>\n      <td>...</td>\n      <td>0.301511</td>\n      <td>1.00000</td>\n      <td>-0.500000</td>\n      <td>0.000000</td>\n      <td>1.000000</td>\n      <td>NaN</td>\n      <td>NaN</td>\n      <td>0.366667</td>\n      <td>NaN</td>\n      <td>0.106112</td>\n    </tr>\n    <tr>\n      <th>91885</th>\n      <td>0.745499</td>\n      <td>-0.367607</td>\n      <td>NaN</td>\n      <td>1.000000</td>\n      <td>NaN</td>\n      <td>0.000000</td>\n      <td>NaN</td>\n      <td>NaN</td>\n      <td>NaN</td>\n      <td>NaN</td>\n      <td>...</td>\n      <td>0.835229</td>\n      <td>NaN</td>\n      <td>0.511766</td>\n      <td>0.192961</td>\n      <td>NaN</td>\n      <td>-1.000000</td>\n      <td>1.000000</td>\n      <td>-0.944911</td>\n      <td>NaN</td>\n      <td>-0.093076</td>\n    </tr>\n    <tr>\n      <th>91886</th>\n      <td>NaN</td>\n      <td>0.430820</td>\n      <td>-0.333333</td>\n      <td>NaN</td>\n      <td>1.000000</td>\n      <td>-0.091287</td>\n      <td>NaN</td>\n      <td>NaN</td>\n      <td>NaN</td>\n      <td>1.000000</td>\n      <td>...</td>\n      <td>-0.569803</td>\n      <td>NaN</td>\n      <td>-1.000000</td>\n      <td>0.577350</td>\n      <td>NaN</td>\n      <td>NaN</td>\n      <td>NaN</td>\n      <td>-0.316228</td>\n      <td>NaN</td>\n      <td>0.316228</td>\n    </tr>\n    <tr>\n      <th>91887</th>\n      <td>0.866025</td>\n      <td>-0.456775</td>\n      <td>-0.250000</td>\n      <td>0.000000</td>\n      <td>-0.091287</td>\n      <td>1.000000</td>\n      <td>0.662266</td>\n      <td>NaN</td>\n      <td>NaN</td>\n      <td>NaN</td>\n      <td>...</td>\n      <td>0.232495</td>\n      <td>-0.50000</td>\n      <td>0.880705</td>\n      <td>0.054153</td>\n      <td>NaN</td>\n      <td>0.333333</td>\n      <td>-0.918559</td>\n      <td>-0.019420</td>\n      <td>NaN</td>\n      <td>-0.149350</td>\n    </tr>\n  </tbody>\n</table>\n<p>5 rows × 6430 columns</p>\n</div>"
     },
     "execution_count": 26,
     "metadata": {},
     "output_type": "execute_result"
    }
   ],
   "source": [
    "# Pick a user ID\n",
    "picked_userid = 91882\n",
    "# Remove picked user ID from the candidate list\n",
    "user_similarity.drop(index=picked_userid, inplace=True)\n",
    "# Take a look at the data\n",
    "user_similarity.head()"
   ],
   "metadata": {
    "collapsed": false,
    "pycharm": {
     "name": "#%%\n"
    }
   }
  },
  {
   "cell_type": "code",
   "execution_count": 27,
   "outputs": [
    {
     "name": "stdout",
     "output_type": "stream",
     "text": [
      "The similar users for user 91882 are userId\n",
      "97478    1.0\n",
      "94124    1.0\n",
      "93864    1.0\n",
      "95703    1.0\n",
      "95676    1.0\n",
      "97284    1.0\n",
      "97305    1.0\n",
      "95665    1.0\n",
      "95651    1.0\n",
      "97321    1.0\n",
      "Name: 91882, dtype: float64\n"
     ]
    }
   ],
   "source": [
    "# Number of similar users\n",
    "n = 10\n",
    "# User similarity threashold\n",
    "user_similarity_threshold = 0.3\n",
    "# Get top n similar users\n",
    "similar_users = user_similarity[user_similarity[picked_userid]>user_similarity_threshold][picked_userid].sort_values(ascending=False)[:n]\n",
    "# Print out top n similar users\n",
    "print(f'The similar users for user {picked_userid} are', similar_users)"
   ],
   "metadata": {
    "collapsed": false,
    "pycharm": {
     "name": "#%%\n"
    }
   }
  },
  {
   "cell_type": "code",
   "execution_count": 28,
   "outputs": [
    {
     "data": {
      "text/plain": "title   Aladdin  Batman  Dances with Wolves  Forrest Gump  Ghost  \\\nuserId                                                             \n91882       0.0    -1.0                 0.0           1.0    0.0   \n\ntitle   Mrs. Doubtfire  Pretty Woman  Schindler's List  Sleepless in Seattle  \\\nuserId                                                                         \n91882              0.0          -1.0               1.0                   0.0   \n\ntitle   The Firm  The Lion King  The Silence of the Lambs  \nuserId                                                     \n91882        0.0           -1.0                       1.0  ",
      "text/html": "<div>\n<style scoped>\n    .dataframe tbody tr th:only-of-type {\n        vertical-align: middle;\n    }\n\n    .dataframe tbody tr th {\n        vertical-align: top;\n    }\n\n    .dataframe thead th {\n        text-align: right;\n    }\n</style>\n<table border=\"1\" class=\"dataframe\">\n  <thead>\n    <tr style=\"text-align: right;\">\n      <th>title</th>\n      <th>Aladdin</th>\n      <th>Batman</th>\n      <th>Dances with Wolves</th>\n      <th>Forrest Gump</th>\n      <th>Ghost</th>\n      <th>Mrs. Doubtfire</th>\n      <th>Pretty Woman</th>\n      <th>Schindler's List</th>\n      <th>Sleepless in Seattle</th>\n      <th>The Firm</th>\n      <th>The Lion King</th>\n      <th>The Silence of the Lambs</th>\n    </tr>\n    <tr>\n      <th>userId</th>\n      <th></th>\n      <th></th>\n      <th></th>\n      <th></th>\n      <th></th>\n      <th></th>\n      <th></th>\n      <th></th>\n      <th></th>\n      <th></th>\n      <th></th>\n      <th></th>\n    </tr>\n  </thead>\n  <tbody>\n    <tr>\n      <th>91882</th>\n      <td>0.0</td>\n      <td>-1.0</td>\n      <td>0.0</td>\n      <td>1.0</td>\n      <td>0.0</td>\n      <td>0.0</td>\n      <td>-1.0</td>\n      <td>1.0</td>\n      <td>0.0</td>\n      <td>0.0</td>\n      <td>-1.0</td>\n      <td>1.0</td>\n    </tr>\n  </tbody>\n</table>\n</div>"
     },
     "execution_count": 28,
     "metadata": {},
     "output_type": "execute_result"
    }
   ],
   "source": [
    "# Movies that the target user has watched\n",
    "picked_userid_watched = matrix_norm[matrix_norm.index == picked_userid].dropna(axis=1, how='all')\n",
    "picked_userid_watched"
   ],
   "metadata": {
    "collapsed": false,
    "pycharm": {
     "name": "#%%\n"
    }
   }
  },
  {
   "cell_type": "code",
   "execution_count": 29,
   "outputs": [
    {
     "data": {
      "text/plain": "title   2001: A Space Odyssey  A Bug's Life  A Clockwork Orange  \\\nuserId                                                            \n93864                     NaN      0.136364                 NaN   \n94124                     NaN           NaN                 NaN   \n95651                     NaN           NaN                 NaN   \n95665                     NaN           NaN                 NaN   \n95676                     NaN           NaN                 NaN   \n95703                     NaN     -0.388889                 NaN   \n97284                     NaN           NaN                 NaN   \n97305                     NaN           NaN                 NaN   \n97321                -0.12069           NaN             1.37931   \n97478                     NaN           NaN                 NaN   \n\ntitle   Ace Ventura: Pet Detective  Ace Ventura: When Nature Calls  Aladdin  \\\nuserId                                                                        \n93864                          NaN                             NaN      NaN   \n94124                          NaN                             NaN      NaN   \n95651                          NaN                             NaN      NaN   \n95665                          NaN                             NaN      NaN   \n95676                          NaN                             NaN      NaN   \n95703                          NaN                             NaN      NaN   \n97284                       -0.625                          -0.625  1.37500   \n97305                          NaN                             NaN      NaN   \n97321                          NaN                             NaN -0.12069   \n97478                          NaN                             NaN      NaN   \n\ntitle      Alien    Aliens  Amadeus  American Beauty  ...  Twelve Monkeys  \\\nuserId                                                ...                   \n93864        NaN       NaN      NaN         0.136364  ...             NaN   \n94124   1.573529  1.573529      NaN              NaN  ...        0.573529   \n95651        NaN -0.400000     -0.4              NaN  ...        0.600000   \n95665        NaN       NaN      NaN              NaN  ...             NaN   \n95676        NaN       NaN      NaN              NaN  ...             NaN   \n95703        NaN       NaN      NaN              NaN  ...             NaN   \n97284        NaN       NaN      NaN              NaN  ...       -0.625000   \n97305   0.878049  0.878049      NaN              NaN  ...             NaN   \n97321        NaN       NaN      NaN         0.379310  ...             NaN   \n97478        NaN       NaN      NaN              NaN  ...             NaN   \n\ntitle    Twister        Up  V for Vendetta   WALL·E  Waterworld  \\\nuserId                                                            \n93864        NaN       NaN             NaN      NaN         NaN   \n94124   0.073529       NaN       -0.926471      NaN         NaN   \n95651        NaN       NaN             NaN      NaN         NaN   \n95665        NaN       NaN             NaN      NaN         NaN   \n95676  -1.700000       NaN             NaN      NaN         NaN   \n95703   0.611111  0.111111             NaN      NaN         NaN   \n97284        NaN       NaN             NaN      NaN      -1.625   \n97305        NaN       NaN             NaN      NaN         NaN   \n97321        NaN  0.879310             NaN  0.87931         NaN   \n97478        NaN       NaN        0.537037      NaN         NaN   \n\ntitle   When Harry Met Sally...  While You Were Sleeping  \\\nuserId                                                     \n93864                       NaN                      NaN   \n94124                       NaN                      NaN   \n95651                  0.600000                      NaN   \n95665                       NaN                      NaN   \n95676                       NaN                      NaN   \n95703                       NaN                 0.111111   \n97284                       NaN                -0.625000   \n97305                  0.878049                      NaN   \n97321                       NaN                      NaN   \n97478                       NaN                      NaN   \n\ntitle   Who Framed Roger Rabbit     X-Men  \nuserId                                     \n93864                  0.136364  0.136364  \n94124                       NaN       NaN  \n95651                       NaN       NaN  \n95665                       NaN       NaN  \n95676                  1.300000       NaN  \n95703                       NaN       NaN  \n97284                       NaN       NaN  \n97305                       NaN       NaN  \n97321                       NaN       NaN  \n97478                       NaN  0.037037  \n\n[10 rows x 169 columns]",
      "text/html": "<div>\n<style scoped>\n    .dataframe tbody tr th:only-of-type {\n        vertical-align: middle;\n    }\n\n    .dataframe tbody tr th {\n        vertical-align: top;\n    }\n\n    .dataframe thead th {\n        text-align: right;\n    }\n</style>\n<table border=\"1\" class=\"dataframe\">\n  <thead>\n    <tr style=\"text-align: right;\">\n      <th>title</th>\n      <th>2001: A Space Odyssey</th>\n      <th>A Bug's Life</th>\n      <th>A Clockwork Orange</th>\n      <th>Ace Ventura: Pet Detective</th>\n      <th>Ace Ventura: When Nature Calls</th>\n      <th>Aladdin</th>\n      <th>Alien</th>\n      <th>Aliens</th>\n      <th>Amadeus</th>\n      <th>American Beauty</th>\n      <th>...</th>\n      <th>Twelve Monkeys</th>\n      <th>Twister</th>\n      <th>Up</th>\n      <th>V for Vendetta</th>\n      <th>WALL·E</th>\n      <th>Waterworld</th>\n      <th>When Harry Met Sally...</th>\n      <th>While You Were Sleeping</th>\n      <th>Who Framed Roger Rabbit</th>\n      <th>X-Men</th>\n    </tr>\n    <tr>\n      <th>userId</th>\n      <th></th>\n      <th></th>\n      <th></th>\n      <th></th>\n      <th></th>\n      <th></th>\n      <th></th>\n      <th></th>\n      <th></th>\n      <th></th>\n      <th></th>\n      <th></th>\n      <th></th>\n      <th></th>\n      <th></th>\n      <th></th>\n      <th></th>\n      <th></th>\n      <th></th>\n      <th></th>\n      <th></th>\n    </tr>\n  </thead>\n  <tbody>\n    <tr>\n      <th>93864</th>\n      <td>NaN</td>\n      <td>0.136364</td>\n      <td>NaN</td>\n      <td>NaN</td>\n      <td>NaN</td>\n      <td>NaN</td>\n      <td>NaN</td>\n      <td>NaN</td>\n      <td>NaN</td>\n      <td>0.136364</td>\n      <td>...</td>\n      <td>NaN</td>\n      <td>NaN</td>\n      <td>NaN</td>\n      <td>NaN</td>\n      <td>NaN</td>\n      <td>NaN</td>\n      <td>NaN</td>\n      <td>NaN</td>\n      <td>0.136364</td>\n      <td>0.136364</td>\n    </tr>\n    <tr>\n      <th>94124</th>\n      <td>NaN</td>\n      <td>NaN</td>\n      <td>NaN</td>\n      <td>NaN</td>\n      <td>NaN</td>\n      <td>NaN</td>\n      <td>1.573529</td>\n      <td>1.573529</td>\n      <td>NaN</td>\n      <td>NaN</td>\n      <td>...</td>\n      <td>0.573529</td>\n      <td>0.073529</td>\n      <td>NaN</td>\n      <td>-0.926471</td>\n      <td>NaN</td>\n      <td>NaN</td>\n      <td>NaN</td>\n      <td>NaN</td>\n      <td>NaN</td>\n      <td>NaN</td>\n    </tr>\n    <tr>\n      <th>95651</th>\n      <td>NaN</td>\n      <td>NaN</td>\n      <td>NaN</td>\n      <td>NaN</td>\n      <td>NaN</td>\n      <td>NaN</td>\n      <td>NaN</td>\n      <td>-0.400000</td>\n      <td>-0.4</td>\n      <td>NaN</td>\n      <td>...</td>\n      <td>0.600000</td>\n      <td>NaN</td>\n      <td>NaN</td>\n      <td>NaN</td>\n      <td>NaN</td>\n      <td>NaN</td>\n      <td>0.600000</td>\n      <td>NaN</td>\n      <td>NaN</td>\n      <td>NaN</td>\n    </tr>\n    <tr>\n      <th>95665</th>\n      <td>NaN</td>\n      <td>NaN</td>\n      <td>NaN</td>\n      <td>NaN</td>\n      <td>NaN</td>\n      <td>NaN</td>\n      <td>NaN</td>\n      <td>NaN</td>\n      <td>NaN</td>\n      <td>NaN</td>\n      <td>...</td>\n      <td>NaN</td>\n      <td>NaN</td>\n      <td>NaN</td>\n      <td>NaN</td>\n      <td>NaN</td>\n      <td>NaN</td>\n      <td>NaN</td>\n      <td>NaN</td>\n      <td>NaN</td>\n      <td>NaN</td>\n    </tr>\n    <tr>\n      <th>95676</th>\n      <td>NaN</td>\n      <td>NaN</td>\n      <td>NaN</td>\n      <td>NaN</td>\n      <td>NaN</td>\n      <td>NaN</td>\n      <td>NaN</td>\n      <td>NaN</td>\n      <td>NaN</td>\n      <td>NaN</td>\n      <td>...</td>\n      <td>NaN</td>\n      <td>-1.700000</td>\n      <td>NaN</td>\n      <td>NaN</td>\n      <td>NaN</td>\n      <td>NaN</td>\n      <td>NaN</td>\n      <td>NaN</td>\n      <td>1.300000</td>\n      <td>NaN</td>\n    </tr>\n    <tr>\n      <th>95703</th>\n      <td>NaN</td>\n      <td>-0.388889</td>\n      <td>NaN</td>\n      <td>NaN</td>\n      <td>NaN</td>\n      <td>NaN</td>\n      <td>NaN</td>\n      <td>NaN</td>\n      <td>NaN</td>\n      <td>NaN</td>\n      <td>...</td>\n      <td>NaN</td>\n      <td>0.611111</td>\n      <td>0.111111</td>\n      <td>NaN</td>\n      <td>NaN</td>\n      <td>NaN</td>\n      <td>NaN</td>\n      <td>0.111111</td>\n      <td>NaN</td>\n      <td>NaN</td>\n    </tr>\n    <tr>\n      <th>97284</th>\n      <td>NaN</td>\n      <td>NaN</td>\n      <td>NaN</td>\n      <td>-0.625</td>\n      <td>-0.625</td>\n      <td>1.37500</td>\n      <td>NaN</td>\n      <td>NaN</td>\n      <td>NaN</td>\n      <td>NaN</td>\n      <td>...</td>\n      <td>-0.625000</td>\n      <td>NaN</td>\n      <td>NaN</td>\n      <td>NaN</td>\n      <td>NaN</td>\n      <td>-1.625</td>\n      <td>NaN</td>\n      <td>-0.625000</td>\n      <td>NaN</td>\n      <td>NaN</td>\n    </tr>\n    <tr>\n      <th>97305</th>\n      <td>NaN</td>\n      <td>NaN</td>\n      <td>NaN</td>\n      <td>NaN</td>\n      <td>NaN</td>\n      <td>NaN</td>\n      <td>0.878049</td>\n      <td>0.878049</td>\n      <td>NaN</td>\n      <td>NaN</td>\n      <td>...</td>\n      <td>NaN</td>\n      <td>NaN</td>\n      <td>NaN</td>\n      <td>NaN</td>\n      <td>NaN</td>\n      <td>NaN</td>\n      <td>0.878049</td>\n      <td>NaN</td>\n      <td>NaN</td>\n      <td>NaN</td>\n    </tr>\n    <tr>\n      <th>97321</th>\n      <td>-0.12069</td>\n      <td>NaN</td>\n      <td>1.37931</td>\n      <td>NaN</td>\n      <td>NaN</td>\n      <td>-0.12069</td>\n      <td>NaN</td>\n      <td>NaN</td>\n      <td>NaN</td>\n      <td>0.379310</td>\n      <td>...</td>\n      <td>NaN</td>\n      <td>NaN</td>\n      <td>0.879310</td>\n      <td>NaN</td>\n      <td>0.87931</td>\n      <td>NaN</td>\n      <td>NaN</td>\n      <td>NaN</td>\n      <td>NaN</td>\n      <td>NaN</td>\n    </tr>\n    <tr>\n      <th>97478</th>\n      <td>NaN</td>\n      <td>NaN</td>\n      <td>NaN</td>\n      <td>NaN</td>\n      <td>NaN</td>\n      <td>NaN</td>\n      <td>NaN</td>\n      <td>NaN</td>\n      <td>NaN</td>\n      <td>NaN</td>\n      <td>...</td>\n      <td>NaN</td>\n      <td>NaN</td>\n      <td>NaN</td>\n      <td>0.537037</td>\n      <td>NaN</td>\n      <td>NaN</td>\n      <td>NaN</td>\n      <td>NaN</td>\n      <td>NaN</td>\n      <td>0.037037</td>\n    </tr>\n  </tbody>\n</table>\n<p>10 rows × 169 columns</p>\n</div>"
     },
     "execution_count": 29,
     "metadata": {},
     "output_type": "execute_result"
    }
   ],
   "source": [
    "# Movies that similar users watched. Remove movies that none of the similar users have watched\n",
    "similar_user_movies = matrix_norm[matrix_norm.index.isin(similar_users.index)].dropna(axis=1, how='all')\n",
    "similar_user_movies"
   ],
   "metadata": {
    "collapsed": false,
    "pycharm": {
     "name": "#%%\n"
    }
   }
  },
  {
   "cell_type": "code",
   "execution_count": 30,
   "outputs": [
    {
     "data": {
      "text/plain": "title   2001: A Space Odyssey  A Bug's Life  A Clockwork Orange  \\\nuserId                                                            \n93864                     NaN      0.136364                 NaN   \n94124                     NaN           NaN                 NaN   \n95651                     NaN           NaN                 NaN   \n95665                     NaN           NaN                 NaN   \n95676                     NaN           NaN                 NaN   \n95703                     NaN     -0.388889                 NaN   \n97284                     NaN           NaN                 NaN   \n97305                     NaN           NaN                 NaN   \n97321                -0.12069           NaN             1.37931   \n97478                     NaN           NaN                 NaN   \n\ntitle   Ace Ventura: Pet Detective  Ace Ventura: When Nature Calls     Alien  \\\nuserId                                                                         \n93864                          NaN                             NaN       NaN   \n94124                          NaN                             NaN  1.573529   \n95651                          NaN                             NaN       NaN   \n95665                          NaN                             NaN       NaN   \n95676                          NaN                             NaN       NaN   \n95703                          NaN                             NaN       NaN   \n97284                       -0.625                          -0.625       NaN   \n97305                          NaN                             NaN  0.878049   \n97321                          NaN                             NaN       NaN   \n97478                          NaN                             NaN       NaN   \n\ntitle     Aliens  Amadeus  American Beauty  American History X  ...  \\\nuserId                                                          ...   \n93864        NaN      NaN         0.136364                 NaN  ...   \n94124   1.573529      NaN              NaN                 NaN  ...   \n95651  -0.400000     -0.4              NaN             0.60000  ...   \n95665        NaN      NaN              NaN                 NaN  ...   \n95676        NaN      NaN              NaN                 NaN  ...   \n95703        NaN      NaN              NaN                 NaN  ...   \n97284        NaN      NaN              NaN                 NaN  ...   \n97305   0.878049      NaN              NaN                 NaN  ...   \n97321        NaN      NaN         0.379310             0.87931  ...   \n97478        NaN      NaN              NaN                 NaN  ...   \n\ntitle   Twelve Monkeys   Twister        Up  V for Vendetta   WALL·E  \\\nuserId                                                                \n93864              NaN       NaN       NaN             NaN      NaN   \n94124         0.573529  0.073529       NaN       -0.926471      NaN   \n95651         0.600000       NaN       NaN             NaN      NaN   \n95665              NaN       NaN       NaN             NaN      NaN   \n95676              NaN -1.700000       NaN             NaN      NaN   \n95703              NaN  0.611111  0.111111             NaN      NaN   \n97284        -0.625000       NaN       NaN             NaN      NaN   \n97305              NaN       NaN       NaN             NaN      NaN   \n97321              NaN       NaN  0.879310             NaN  0.87931   \n97478              NaN       NaN       NaN        0.537037      NaN   \n\ntitle   Waterworld  When Harry Met Sally...  While You Were Sleeping  \\\nuserId                                                                 \n93864          NaN                      NaN                      NaN   \n94124          NaN                      NaN                      NaN   \n95651          NaN                 0.600000                      NaN   \n95665          NaN                      NaN                      NaN   \n95676          NaN                      NaN                      NaN   \n95703          NaN                      NaN                 0.111111   \n97284       -1.625                      NaN                -0.625000   \n97305          NaN                 0.878049                      NaN   \n97321          NaN                      NaN                      NaN   \n97478          NaN                      NaN                      NaN   \n\ntitle   Who Framed Roger Rabbit     X-Men  \nuserId                                     \n93864                  0.136364  0.136364  \n94124                       NaN       NaN  \n95651                       NaN       NaN  \n95665                       NaN       NaN  \n95676                  1.300000       NaN  \n95703                       NaN       NaN  \n97284                       NaN       NaN  \n97305                       NaN       NaN  \n97321                       NaN       NaN  \n97478                       NaN  0.037037  \n\n[10 rows x 159 columns]",
      "text/html": "<div>\n<style scoped>\n    .dataframe tbody tr th:only-of-type {\n        vertical-align: middle;\n    }\n\n    .dataframe tbody tr th {\n        vertical-align: top;\n    }\n\n    .dataframe thead th {\n        text-align: right;\n    }\n</style>\n<table border=\"1\" class=\"dataframe\">\n  <thead>\n    <tr style=\"text-align: right;\">\n      <th>title</th>\n      <th>2001: A Space Odyssey</th>\n      <th>A Bug's Life</th>\n      <th>A Clockwork Orange</th>\n      <th>Ace Ventura: Pet Detective</th>\n      <th>Ace Ventura: When Nature Calls</th>\n      <th>Alien</th>\n      <th>Aliens</th>\n      <th>Amadeus</th>\n      <th>American Beauty</th>\n      <th>American History X</th>\n      <th>...</th>\n      <th>Twelve Monkeys</th>\n      <th>Twister</th>\n      <th>Up</th>\n      <th>V for Vendetta</th>\n      <th>WALL·E</th>\n      <th>Waterworld</th>\n      <th>When Harry Met Sally...</th>\n      <th>While You Were Sleeping</th>\n      <th>Who Framed Roger Rabbit</th>\n      <th>X-Men</th>\n    </tr>\n    <tr>\n      <th>userId</th>\n      <th></th>\n      <th></th>\n      <th></th>\n      <th></th>\n      <th></th>\n      <th></th>\n      <th></th>\n      <th></th>\n      <th></th>\n      <th></th>\n      <th></th>\n      <th></th>\n      <th></th>\n      <th></th>\n      <th></th>\n      <th></th>\n      <th></th>\n      <th></th>\n      <th></th>\n      <th></th>\n      <th></th>\n    </tr>\n  </thead>\n  <tbody>\n    <tr>\n      <th>93864</th>\n      <td>NaN</td>\n      <td>0.136364</td>\n      <td>NaN</td>\n      <td>NaN</td>\n      <td>NaN</td>\n      <td>NaN</td>\n      <td>NaN</td>\n      <td>NaN</td>\n      <td>0.136364</td>\n      <td>NaN</td>\n      <td>...</td>\n      <td>NaN</td>\n      <td>NaN</td>\n      <td>NaN</td>\n      <td>NaN</td>\n      <td>NaN</td>\n      <td>NaN</td>\n      <td>NaN</td>\n      <td>NaN</td>\n      <td>0.136364</td>\n      <td>0.136364</td>\n    </tr>\n    <tr>\n      <th>94124</th>\n      <td>NaN</td>\n      <td>NaN</td>\n      <td>NaN</td>\n      <td>NaN</td>\n      <td>NaN</td>\n      <td>1.573529</td>\n      <td>1.573529</td>\n      <td>NaN</td>\n      <td>NaN</td>\n      <td>NaN</td>\n      <td>...</td>\n      <td>0.573529</td>\n      <td>0.073529</td>\n      <td>NaN</td>\n      <td>-0.926471</td>\n      <td>NaN</td>\n      <td>NaN</td>\n      <td>NaN</td>\n      <td>NaN</td>\n      <td>NaN</td>\n      <td>NaN</td>\n    </tr>\n    <tr>\n      <th>95651</th>\n      <td>NaN</td>\n      <td>NaN</td>\n      <td>NaN</td>\n      <td>NaN</td>\n      <td>NaN</td>\n      <td>NaN</td>\n      <td>-0.400000</td>\n      <td>-0.4</td>\n      <td>NaN</td>\n      <td>0.60000</td>\n      <td>...</td>\n      <td>0.600000</td>\n      <td>NaN</td>\n      <td>NaN</td>\n      <td>NaN</td>\n      <td>NaN</td>\n      <td>NaN</td>\n      <td>0.600000</td>\n      <td>NaN</td>\n      <td>NaN</td>\n      <td>NaN</td>\n    </tr>\n    <tr>\n      <th>95665</th>\n      <td>NaN</td>\n      <td>NaN</td>\n      <td>NaN</td>\n      <td>NaN</td>\n      <td>NaN</td>\n      <td>NaN</td>\n      <td>NaN</td>\n      <td>NaN</td>\n      <td>NaN</td>\n      <td>NaN</td>\n      <td>...</td>\n      <td>NaN</td>\n      <td>NaN</td>\n      <td>NaN</td>\n      <td>NaN</td>\n      <td>NaN</td>\n      <td>NaN</td>\n      <td>NaN</td>\n      <td>NaN</td>\n      <td>NaN</td>\n      <td>NaN</td>\n    </tr>\n    <tr>\n      <th>95676</th>\n      <td>NaN</td>\n      <td>NaN</td>\n      <td>NaN</td>\n      <td>NaN</td>\n      <td>NaN</td>\n      <td>NaN</td>\n      <td>NaN</td>\n      <td>NaN</td>\n      <td>NaN</td>\n      <td>NaN</td>\n      <td>...</td>\n      <td>NaN</td>\n      <td>-1.700000</td>\n      <td>NaN</td>\n      <td>NaN</td>\n      <td>NaN</td>\n      <td>NaN</td>\n      <td>NaN</td>\n      <td>NaN</td>\n      <td>1.300000</td>\n      <td>NaN</td>\n    </tr>\n    <tr>\n      <th>95703</th>\n      <td>NaN</td>\n      <td>-0.388889</td>\n      <td>NaN</td>\n      <td>NaN</td>\n      <td>NaN</td>\n      <td>NaN</td>\n      <td>NaN</td>\n      <td>NaN</td>\n      <td>NaN</td>\n      <td>NaN</td>\n      <td>...</td>\n      <td>NaN</td>\n      <td>0.611111</td>\n      <td>0.111111</td>\n      <td>NaN</td>\n      <td>NaN</td>\n      <td>NaN</td>\n      <td>NaN</td>\n      <td>0.111111</td>\n      <td>NaN</td>\n      <td>NaN</td>\n    </tr>\n    <tr>\n      <th>97284</th>\n      <td>NaN</td>\n      <td>NaN</td>\n      <td>NaN</td>\n      <td>-0.625</td>\n      <td>-0.625</td>\n      <td>NaN</td>\n      <td>NaN</td>\n      <td>NaN</td>\n      <td>NaN</td>\n      <td>NaN</td>\n      <td>...</td>\n      <td>-0.625000</td>\n      <td>NaN</td>\n      <td>NaN</td>\n      <td>NaN</td>\n      <td>NaN</td>\n      <td>-1.625</td>\n      <td>NaN</td>\n      <td>-0.625000</td>\n      <td>NaN</td>\n      <td>NaN</td>\n    </tr>\n    <tr>\n      <th>97305</th>\n      <td>NaN</td>\n      <td>NaN</td>\n      <td>NaN</td>\n      <td>NaN</td>\n      <td>NaN</td>\n      <td>0.878049</td>\n      <td>0.878049</td>\n      <td>NaN</td>\n      <td>NaN</td>\n      <td>NaN</td>\n      <td>...</td>\n      <td>NaN</td>\n      <td>NaN</td>\n      <td>NaN</td>\n      <td>NaN</td>\n      <td>NaN</td>\n      <td>NaN</td>\n      <td>0.878049</td>\n      <td>NaN</td>\n      <td>NaN</td>\n      <td>NaN</td>\n    </tr>\n    <tr>\n      <th>97321</th>\n      <td>-0.12069</td>\n      <td>NaN</td>\n      <td>1.37931</td>\n      <td>NaN</td>\n      <td>NaN</td>\n      <td>NaN</td>\n      <td>NaN</td>\n      <td>NaN</td>\n      <td>0.379310</td>\n      <td>0.87931</td>\n      <td>...</td>\n      <td>NaN</td>\n      <td>NaN</td>\n      <td>0.879310</td>\n      <td>NaN</td>\n      <td>0.87931</td>\n      <td>NaN</td>\n      <td>NaN</td>\n      <td>NaN</td>\n      <td>NaN</td>\n      <td>NaN</td>\n    </tr>\n    <tr>\n      <th>97478</th>\n      <td>NaN</td>\n      <td>NaN</td>\n      <td>NaN</td>\n      <td>NaN</td>\n      <td>NaN</td>\n      <td>NaN</td>\n      <td>NaN</td>\n      <td>NaN</td>\n      <td>NaN</td>\n      <td>NaN</td>\n      <td>...</td>\n      <td>NaN</td>\n      <td>NaN</td>\n      <td>NaN</td>\n      <td>0.537037</td>\n      <td>NaN</td>\n      <td>NaN</td>\n      <td>NaN</td>\n      <td>NaN</td>\n      <td>NaN</td>\n      <td>0.037037</td>\n    </tr>\n  </tbody>\n</table>\n<p>10 rows × 159 columns</p>\n</div>"
     },
     "execution_count": 30,
     "metadata": {},
     "output_type": "execute_result"
    }
   ],
   "source": [
    "# Remove the watched movie from the movie list\n",
    "similar_user_movies.drop(picked_userid_watched.columns,axis=1, inplace=True, errors='ignore')\n",
    "# Take a look at the data\n",
    "similar_user_movies"
   ],
   "metadata": {
    "collapsed": false,
    "pycharm": {
     "name": "#%%\n"
    }
   }
  },
  {
   "cell_type": "code",
   "execution_count": 32,
   "outputs": [
    {
     "data": {
      "text/plain": "                               movie  movie_score\n2                 A Clockwork Orange     1.379310\n22              Beauty and the Beast     1.375000\n71                      Men in Black     1.300000\n5                              Alien     1.225789\n88                       Rear Window     1.205556\n114               The Blues Brothers     1.089024\n11                    Apocalypse Now     0.884615\n80   One Flew Over the Cuckoo's Nest     0.884615\n153                           WALL·E     0.879310\n89               Requiem for a Dream     0.879310",
      "text/html": "<div>\n<style scoped>\n    .dataframe tbody tr th:only-of-type {\n        vertical-align: middle;\n    }\n\n    .dataframe tbody tr th {\n        vertical-align: top;\n    }\n\n    .dataframe thead th {\n        text-align: right;\n    }\n</style>\n<table border=\"1\" class=\"dataframe\">\n  <thead>\n    <tr style=\"text-align: right;\">\n      <th></th>\n      <th>movie</th>\n      <th>movie_score</th>\n    </tr>\n  </thead>\n  <tbody>\n    <tr>\n      <th>2</th>\n      <td>A Clockwork Orange</td>\n      <td>1.379310</td>\n    </tr>\n    <tr>\n      <th>22</th>\n      <td>Beauty and the Beast</td>\n      <td>1.375000</td>\n    </tr>\n    <tr>\n      <th>71</th>\n      <td>Men in Black</td>\n      <td>1.300000</td>\n    </tr>\n    <tr>\n      <th>5</th>\n      <td>Alien</td>\n      <td>1.225789</td>\n    </tr>\n    <tr>\n      <th>88</th>\n      <td>Rear Window</td>\n      <td>1.205556</td>\n    </tr>\n    <tr>\n      <th>114</th>\n      <td>The Blues Brothers</td>\n      <td>1.089024</td>\n    </tr>\n    <tr>\n      <th>11</th>\n      <td>Apocalypse Now</td>\n      <td>0.884615</td>\n    </tr>\n    <tr>\n      <th>80</th>\n      <td>One Flew Over the Cuckoo's Nest</td>\n      <td>0.884615</td>\n    </tr>\n    <tr>\n      <th>153</th>\n      <td>WALL·E</td>\n      <td>0.879310</td>\n    </tr>\n    <tr>\n      <th>89</th>\n      <td>Requiem for a Dream</td>\n      <td>0.879310</td>\n    </tr>\n  </tbody>\n</table>\n</div>"
     },
     "execution_count": 32,
     "metadata": {},
     "output_type": "execute_result"
    }
   ],
   "source": [
    "# A dictionary to store item scores\n",
    "item_score = {}\n",
    "# Loop through items\n",
    "for i in similar_user_movies.columns:\n",
    "  # Get the ratings for movie i\n",
    "  movie_rating = similar_user_movies[i]\n",
    "  # Create a variable to store the score\n",
    "  total = 0\n",
    "  # Create a variable to store the number of scores\n",
    "  count = 0\n",
    "  # Loop through similar users\n",
    "  for u in similar_users.index:\n",
    "    # If the movie has rating\n",
    "    if pd.isna(movie_rating[u]) == False:\n",
    "      # Score is the sum of user similarity score multiply by the movie rating\n",
    "      score = similar_users[u] * movie_rating[u]\n",
    "      # Add the score to the total score for the movie so far\n",
    "      total += score\n",
    "      # Add 1 to the count\n",
    "      count +=1\n",
    "  # Get the average score for the item\n",
    "  item_score[i] = total / count\n",
    "# Convert dictionary to pandas dataframe\n",
    "item_score = pd.DataFrame(item_score.items(), columns=['movie', 'movie_score'])\n",
    "\n",
    "# Sort the movies by score\n",
    "ranked_item_score = item_score.sort_values(by='movie_score', ascending=False)\n",
    "# Select top m movies\n",
    "m = 10\n",
    "ranked_item_score.head(m)"
   ],
   "metadata": {
    "collapsed": false,
    "pycharm": {
     "name": "#%%\n"
    }
   }
  }
 ],
 "metadata": {
  "kernelspec": {
   "display_name": "Python 3",
   "language": "python",
   "name": "python3"
  },
  "language_info": {
   "codemirror_mode": {
    "name": "ipython",
    "version": 2
   },
   "file_extension": ".py",
   "mimetype": "text/x-python",
   "name": "python",
   "nbconvert_exporter": "python",
   "pygments_lexer": "ipython2",
   "version": "2.7.6"
  }
 },
 "nbformat": 4,
 "nbformat_minor": 0
}